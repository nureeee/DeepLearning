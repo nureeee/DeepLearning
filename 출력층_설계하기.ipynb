{
  "nbformat": 4,
  "nbformat_minor": 0,
  "metadata": {
    "colab": {
      "name": "출력층 설계하기.ipynb",
      "provenance": [],
      "authorship_tag": "ABX9TyMe1PwdGhY9JtW+N650eJix",
      "include_colab_link": true
    },
    "kernelspec": {
      "name": "python3",
      "display_name": "Python 3"
    },
    "language_info": {
      "name": "python"
    }
  },
  "cells": [
    {
      "cell_type": "markdown",
      "metadata": {
        "id": "view-in-github",
        "colab_type": "text"
      },
      "source": [
        "<a href=\"https://colab.research.google.com/github/nureeee/DeepLearning/blob/main/%EC%B6%9C%EB%A0%A5%EC%B8%B5_%EC%84%A4%EA%B3%84%ED%95%98%EA%B8%B0.ipynb\" target=\"_parent\"><img src=\"https://colab.research.google.com/assets/colab-badge.svg\" alt=\"Open In Colab\"/></a>"
      ]
    },
    {
      "cell_type": "markdown",
      "metadata": {
        "id": "0ONqZCJcc3F2"
      },
      "source": [
        "# 신경망의 사용처\n",
        "* 신경망은 분류, 회귀 모두 사용함\n",
        "  * 출력층의 **활성화 함수**에 따라서 목적(사용처)이 달라진다. ( 분류를 할지, 회귀를 할지 )\n",
        "  * 회귀에서는 항등 함수를 사용하면 회귀가 된다.\n",
        "* 소프트맥스나 시그모이드 함수를 활용하면 분류\n",
        "  * 시그모이드는 사용처가 정해져 있음\n",
        "    * 결괏값을 **확률**로 표현하고 싶을 때 사용한다.\n",
        "    * 예를 들면 89.12% 확률로 부정적인 리뷰 입니다.\n",
        "  * 소프트맥스 함수를 주로 분류용 활성화 함수로 사용한다. "
      ]
    },
    {
      "cell_type": "markdown",
      "metadata": {
        "id": "N9zmDgbZdr-x"
      },
      "source": [
        "# 소프트맥스 함수 구현하기\n",
        "$$\n",
        "y_k = \\frac{e^{z_k}}{\\sum_{i=0}^{n-1} e^{z_i}}\n",
        "$$\n",
        "\n",
        "* $k$ : $k$번째 출력 ( 클래스 번호 ) 0, 1, 2 ....\n",
        "* $z$ : 출력층에 있는 뉴런의 $WX+b$ 연산\n",
        "* $n$ : 전체 클래스의 개수"
      ]
    },
    {
      "cell_type": "code",
      "metadata": {
        "colab": {
          "base_uri": "https://localhost:8080/"
        },
        "id": "VELlM00wgQ65",
        "outputId": "696235ff-ec54-48d7-e26b-c5df660e7cbc"
      },
      "source": [
        "import numpy as np\n",
        "# 제일 마지막 출력층에 의한 결과물\n",
        "z = np.array([0.3, 2.2, 4.3]) # [첫번째 뉴런의 wx +b, 두번째 뉴런의 wx+b, 세번째 뉴런의 ...]\n",
        "\n",
        "# 분자 부분 계산하기\n",
        "exp_z = np.exp(z) # > e의 0.3승, e의 2.2승, e의 4.3승\n",
        "\n",
        "# 분모 부분 계산\n",
        "sum_exp_z = np.sum(exp_z)\n",
        "\n",
        "# 소프트맥스를 적용한 최종 예측값\n",
        "y = exp_z / sum_exp_z\n",
        "print('소프트맥스의 결과 ; {}'.format(y))"
      ],
      "execution_count": null,
      "outputs": [
        {
          "output_type": "stream",
          "text": [
            "소프트맥스의 결과 ; [0.01605548 0.10734522 0.8765993 ]\n"
          ],
          "name": "stdout"
        }
      ]
    },
    {
      "cell_type": "code",
      "metadata": {
        "colab": {
          "base_uri": "https://localhost:8080/"
        },
        "id": "d2fTeSavgTfw",
        "outputId": "d015ff32-d691-41aa-ecb3-7ec03a94a6d3"
      },
      "source": [
        "print('소프트맥스의 결과물의 총합 : {}'.format(np.sum(y)))\n",
        "# 총합이 1인 것은 확률로 설명이 가능하다는 의미이다."
      ],
      "execution_count": null,
      "outputs": [
        {
          "output_type": "stream",
          "text": [
            "소프트맥스의 결과물의 총합 : 1.0\n"
          ],
          "name": "stdout"
        }
      ]
    },
    {
      "cell_type": "markdown",
      "metadata": {
        "id": "8-wFSSQhhusn"
      },
      "source": [
        "### 소프트맥스 함수는 단조함수이다.\n",
        "```python\n",
        "Z = [3.1, 18.3, 10.3]\n",
        "Z[0] < Z[2] < Z[1] 일 때\n",
        "\n",
        "y = softmax(Z)\n",
        "y[0] < y[2] < y[1] 순서가 유지 된다.\n",
        "\n",
        "소프트맥스 함수를 지나도 부등호의 순서가 그대로 유지되는 것\n",
        "이러한 특징을 단조함수의 특징이라고 한다.\n",
        "```"
      ]
    },
    {
      "cell_type": "code",
      "metadata": {
        "id": "g-gep8-IjooG"
      },
      "source": [
        "def softmax(z):\n",
        "    exp_z = np.exp(z)\n",
        "    sum_exp_z = np.sum(exp_z)\n",
        "    y = exp_z / sum_exp_z\n",
        "\n",
        "    return y"
      ],
      "execution_count": null,
      "outputs": []
    },
    {
      "cell_type": "code",
      "metadata": {
        "colab": {
          "base_uri": "https://localhost:8080/"
        },
        "id": "8bdfXlpplIzH",
        "outputId": "bd234d25-272a-4fb6-d38f-e41671cca1e2"
      },
      "source": [
        "softmax(z)"
      ],
      "execution_count": null,
      "outputs": [
        {
          "output_type": "execute_result",
          "data": {
            "text/plain": [
              "array([0.01605548, 0.10734522, 0.8765993 ])"
            ]
          },
          "metadata": {
            "tags": []
          },
          "execution_count": 8
        }
      ]
    },
    {
      "cell_type": "markdown",
      "metadata": {
        "id": "VAQ_a4VrlKou"
      },
      "source": [
        "## 소프트맥스 함수 튜닝\n",
        "* 소프트맥스 함수는 자연상수 e의 지수 함수\n",
        "* 입력값이 조금만 커져도 굉장히 큰 값을 연산한다."
      ]
    },
    {
      "cell_type": "code",
      "metadata": {
        "colab": {
          "base_uri": "https://localhost:8080/"
        },
        "id": "QMZtLibnlkjO",
        "outputId": "869e6175-8a3c-43dc-fb4f-05cf47c29754"
      },
      "source": [
        "big_z = [1000, 900, 1100]\n",
        "softmax(big_z) # 컴퓨터의 계산 범위를 넘겨서 난값으로 처리"
      ],
      "execution_count": null,
      "outputs": [
        {
          "output_type": "stream",
          "text": [
            "/usr/local/lib/python3.7/dist-packages/ipykernel_launcher.py:2: RuntimeWarning: overflow encountered in exp\n",
            "  \n",
            "/usr/local/lib/python3.7/dist-packages/ipykernel_launcher.py:4: RuntimeWarning: invalid value encountered in true_divide\n",
            "  after removing the cwd from sys.path.\n"
          ],
          "name": "stderr"
        },
        {
          "output_type": "execute_result",
          "data": {
            "text/plain": [
              "array([nan, nan, nan])"
            ]
          },
          "metadata": {
            "tags": []
          },
          "execution_count": 11
        }
      ]
    },
    {
      "cell_type": "markdown",
      "metadata": {
        "id": "MIoJWsAGmSgW"
      },
      "source": [
        "수학적인 기교로 튜닝이 가능하다\n",
        "\n",
        "$$\n",
        "y_k = \\frac{exp(a_k)}{\\sum_{i=1}^n exp(a_i)} = \\frac{C\\,exp(a_k)}{C\\,\\sum_{i=1}^n exp(a_i)} = \\frac{exp(a_k+logC)}{\\sum_{i=1}^n exp(a_i+logC)} = \\frac{exp(a_k+C^\\prime)}{\\sum_{i=1}^n exp(a_i+C^\\prime)} \n",
        "$$"
      ]
    },
    {
      "cell_type": "code",
      "metadata": {
        "colab": {
          "base_uri": "https://localhost:8080/"
        },
        "id": "zwX4-3sAmfD3",
        "outputId": "08285fb0-5973-4318-fc3a-a73da85f2ffa"
      },
      "source": [
        "c = np.max(big_z)\n",
        "print(big_z - c)"
      ],
      "execution_count": null,
      "outputs": [
        {
          "output_type": "stream",
          "text": [
            "[-100 -200    0]\n"
          ],
          "name": "stdout"
        }
      ]
    },
    {
      "cell_type": "code",
      "metadata": {
        "id": "r3I5n3L9oED3"
      },
      "source": [
        "# 튜닝된 소프트맥스\n",
        "def softmax(z):\n",
        "    c = np.max(z)\n",
        "\n",
        "    exp_z = np.exp(z-c)\n",
        "    sum_exp_z = np.sum(exp_z)\n",
        "    y = exp_z / sum_exp_z\n",
        "    return y"
      ],
      "execution_count": null,
      "outputs": []
    },
    {
      "cell_type": "markdown",
      "metadata": {
        "id": "UpBbt9lCtjWV"
      },
      "source": [
        "# 출력층의 뉴런 수 정하기\n",
        "* 출력층의 뉴런 개수는 **분류하고 싶은 클래스의 개수대로 설정하면 된다**\n",
        " * "
      ]
    },
    {
      "cell_type": "markdown",
      "metadata": {
        "id": "B8jruDF1uPd8"
      },
      "source": [
        "# MNIST 손글씨 데이터셋 분류 출론 모델 만들기"
      ]
    },
    {
      "cell_type": "markdown",
      "metadata": {
        "id": "dEuMnCjBv6xz"
      },
      "source": [
        "## 텐서플로우 mNIST 데이터 불러오기 형상 다루기"
      ]
    },
    {
      "cell_type": "code",
      "metadata": {
        "id": "kCeqpTo1wC3E"
      },
      "source": [
        "import tensorflow as tf\n",
        "import matplotlib.pyplot as plt"
      ],
      "execution_count": null,
      "outputs": []
    },
    {
      "cell_type": "code",
      "metadata": {
        "id": "WG772h4EwHm1"
      },
      "source": [
        "# mnist 데이터 세트 로딩\n",
        "from tensorflow.keras import datasets\n",
        "mnist = datasets.mnist"
      ],
      "execution_count": null,
      "outputs": []
    },
    {
      "cell_type": "code",
      "metadata": {
        "colab": {
          "base_uri": "https://localhost:8080/"
        },
        "id": "SZ7V7o8BwbjU",
        "outputId": "6b974872-d49d-439c-d761-5302f0c0767d"
      },
      "source": [
        "# 사이킷런의 train_test_split이 아님!!!!!!!!!!\n",
        "(X_train, y_train), (X_test, y_test) = mnist.load_data() # 튜플\n"
      ],
      "execution_count": null,
      "outputs": [
        {
          "output_type": "stream",
          "text": [
            "Downloading data from https://storage.googleapis.com/tensorflow/tf-keras-datasets/mnist.npz\n",
            "11493376/11490434 [==============================] - 0s 0us/step\n"
          ],
          "name": "stdout"
        }
      ]
    },
    {
      "cell_type": "markdown",
      "metadata": {
        "id": "FKhsZk1zw498"
      },
      "source": [
        "!!!!!!!!!!데이터의  형상부터 확인하자!!!!!!!!!!"
      ]
    },
    {
      "cell_type": "code",
      "metadata": {
        "colab": {
          "base_uri": "https://localhost:8080/"
        },
        "id": "nrhzRcodxARD",
        "outputId": "fecd81e0-af01-4044-cc01-6cc2cf06f91d"
      },
      "source": [
        "X_train.shape\n",
        "# 이미지 (개수, h, w) 채널은 1 이라 생략 이것은 흑백을 의미"
      ],
      "execution_count": null,
      "outputs": [
        {
          "output_type": "execute_result",
          "data": {
            "text/plain": [
              "(60000, 28, 28)"
            ]
          },
          "metadata": {
            "tags": []
          },
          "execution_count": 17
        }
      ]
    },
    {
      "cell_type": "code",
      "metadata": {
        "colab": {
          "base_uri": "https://localhost:8080/"
        },
        "id": "7acL1XguxDQ8",
        "outputId": "73e148b0-a7f5-4b2a-8c4a-85b5049e12f5"
      },
      "source": [
        "y_train.shape # 정답이 60000개라는 뜻"
      ],
      "execution_count": null,
      "outputs": [
        {
          "output_type": "execute_result",
          "data": {
            "text/plain": [
              "(60000,)"
            ]
          },
          "metadata": {
            "tags": []
          },
          "execution_count": 18
        }
      ]
    },
    {
      "cell_type": "markdown",
      "metadata": {
        "id": "ATVow5h6xHAt"
      },
      "source": [
        "첫 번째 이미지 데이터만 가져오기"
      ]
    },
    {
      "cell_type": "code",
      "metadata": {
        "colab": {
          "base_uri": "https://localhost:8080/"
        },
        "id": "kGypEq8pxkF7",
        "outputId": "937c7988-c55f-4621-cd72-2081e3dc3681"
      },
      "source": [
        "image = X_train[0]\n",
        "image.shape # 0번째를 가져온 것...???"
      ],
      "execution_count": null,
      "outputs": [
        {
          "output_type": "execute_result",
          "data": {
            "text/plain": [
              "(28, 28)"
            ]
          },
          "metadata": {
            "tags": []
          },
          "execution_count": 20
        }
      ]
    },
    {
      "cell_type": "code",
      "metadata": {
        "colab": {
          "base_uri": "https://localhost:8080/",
          "height": 281
        },
        "id": "dRJMKXxYxrHD",
        "outputId": "addf0794-ef42-4d07-d844-7df51f36da59"
      },
      "source": [
        "# matplotlib을 이용해서 이미지 시각화\n",
        "plt.imshow(image, 'gray') \n",
        "plt.title(y_train[0])\n",
        "plt.show()"
      ],
      "execution_count": null,
      "outputs": [
        {
          "output_type": "display_data",
          "data": {
            "image/png": "[encoded data removed]",
            "text/plain": [
              "<Figure size 432x288 with 1 Axes>"
            ]
          },
          "metadata": {
            "tags": [],
            "needs_background": "light"
          }
        }
      ]
    },
    {
      "cell_type": "markdown",
      "metadata": {
        "id": "WWNdRN8eyBWz"
      },
      "source": [
        "데이터를 신경망에 넣을 준비 - 훈련, 데스트 모두 동일한 데이터의 feature의 개수를 가져야 한다.\n",
        "* 신경망은 평평하게 펴진 1차원 베열을 입력으로 받고 있다.\n",
        "* 신경망에 집어 넣을 데이터는 1차원 배열로 들어가야 한다.\n",
        " * 데이터를 연산하기 위해서 1차원??? \n",
        " "
      ]
    },
    {
      "cell_type": "code",
      "metadata": {
        "colab": {
          "base_uri": "https://localhost:8080/"
        },
        "id": "ydp1HfMqKW4P",
        "outputId": "33cc592e-58f4-4d70-bcac-45b26db3183d"
      },
      "source": [
        "# 신경망에 들어가는 형태로 배열 편집\n",
        "\n",
        "# 1. flatten을 활용한 평탄화\n",
        "image = X_train[0].flatten()\n",
        "image.shape\n",
        "# 나중에 사용하려면 앞에 장수가 들어가야되된다."
      ],
      "execution_count": null,
      "outputs": [
        {
          "output_type": "execute_result",
          "data": {
            "text/plain": [
              "(784,)"
            ]
          },
          "metadata": {
            "tags": []
          },
          "execution_count": 23
        }
      ]
    },
    {
      "cell_type": "code",
      "metadata": {
        "colab": {
          "base_uri": "https://localhost:8080/"
        },
        "id": "3k9LtAmdKxOH",
        "outputId": "54df3a8f-6779-4a41-fbf1-b16620f915d5"
      },
      "source": [
        "# 2. ravel을 활용한 평탄화 ( 잘 사용되어지는 방법은 아니당)\n",
        "# 이유 원본 이미지 데이터를 훼손할 수 있음\n",
        "image = np.ravel(X_train[0])\n",
        "image.shape"
      ],
      "execution_count": null,
      "outputs": [
        {
          "output_type": "execute_result",
          "data": {
            "text/plain": [
              "(784,)"
            ]
          },
          "metadata": {
            "tags": []
          },
          "execution_count": 24
        }
      ]
    },
    {
      "cell_type": "code",
      "metadata": {
        "colab": {
          "base_uri": "https://localhost:8080/"
        },
        "id": "Vw9-vchBLIpn",
        "outputId": "36485acd-c817-4ec4-8410-baf88b4e8a8d"
      },
      "source": [
        "# 3. reshape을 활용한 평탄화 : 가장 많이 활용\n",
        "image = X_train[0].reshape(-1)\n",
        "image.shape"
      ],
      "execution_count": null,
      "outputs": [
        {
          "output_type": "execute_result",
          "data": {
            "text/plain": [
              "(784,)"
            ]
          },
          "metadata": {
            "tags": []
          },
          "execution_count": 25
        }
      ]
    },
    {
      "cell_type": "code",
      "metadata": {
        "colab": {
          "base_uri": "https://localhost:8080/"
        },
        "id": "ZX9rY0ZvLb_e",
        "outputId": "44f15679-4708-42b7-ee40-61ee9ce8fafa"
      },
      "source": [
        "# 텐서플로우나 파이토치 같은 프레임워크에 집어 넣기 위해서 변경하려면...\n",
        "X_train[0].reshape(1, -1).shape"
      ],
      "execution_count": null,
      "outputs": [
        {
          "output_type": "execute_result",
          "data": {
            "text/plain": [
              "(1, 784)"
            ]
          },
          "metadata": {
            "tags": []
          },
          "execution_count": 30
        }
      ]
    },
    {
      "cell_type": "code",
      "metadata": {
        "colab": {
          "base_uri": "https://localhost:8080/"
        },
        "id": "msqoJnZNLl2R",
        "outputId": "a3923c32-e54f-4b19-f21f-62b596a764f2"
      },
      "source": [
        "X_train.shape"
      ],
      "execution_count": null,
      "outputs": [
        {
          "output_type": "execute_result",
          "data": {
            "text/plain": [
              "(60000, 28, 28)"
            ]
          },
          "metadata": {
            "tags": []
          },
          "execution_count": 27
        }
      ]
    },
    {
      "cell_type": "code",
      "metadata": {
        "colab": {
          "base_uri": "https://localhost:8080/"
        },
        "id": "bekPk31kLrKu",
        "outputId": "ad2c221c-b0da-4e98-c979-4e78cfed804e"
      },
      "source": [
        "X_train.reshape(60000, -1).shape"
      ],
      "execution_count": null,
      "outputs": [
        {
          "output_type": "execute_result",
          "data": {
            "text/plain": [
              "(60000, 784)"
            ]
          },
          "metadata": {
            "tags": []
          },
          "execution_count": 29
        }
      ]
    },
    {
      "cell_type": "code",
      "metadata": {
        "id": "3eKNmXFuLwMu"
      },
      "source": [
        "def sigmoid(x):\n",
        "    return 1 / (1 + np.exp(-x))\n",
        "\n",
        "# 테스트 데이터만 가져오기\n",
        "def get_test_data():\n",
        "    _, (X_test, t_test) = mnist.load_data()\n",
        "\n",
        "    X_test = X_test.reshape(10000, -1) # (N, M) 형태로 바꾸기\n",
        "    \n",
        "    return X_test, t_test\n",
        "\n",
        "def init_network():\n",
        "    import pickle\n",
        "    with open('/content/sample_weight.pkl', 'rb') as f:\n",
        "        network = pickle.load(f)\n",
        "\n",
        "    return network\n",
        "\n",
        "def predict(network, x):\n",
        "     \n",
        "    W1, W2, W3 = network[\"W1\"], network[\"W2\"], network[\"W3\"]\n",
        "    b1, b2, b3 = network[\"b1\"], network[\"b2\"], network[\"b3\"]\n",
        "\n",
        "    # 1층 계산 \n",
        "    Z1 = (x @ W1) + b1\n",
        "    A1 = sigmoid(Z1)\n",
        "\n",
        "    # 2층 계산\n",
        "    Z2 = (A1 @ W2) + b2\n",
        "    A2 = sigmoid(Z2)\n",
        "\n",
        "    #3층 계산\n",
        "    Z3 = (A2 @ W3) + b3\n",
        "    y = softmax(Z3)\n",
        "\n",
        "    return y"
      ],
      "execution_count": null,
      "outputs": []
    },
    {
      "cell_type": "code",
      "metadata": {
        "colab": {
          "base_uri": "https://localhost:8080/"
        },
        "id": "PXj_ALOVX_Ha",
        "outputId": "507dc5e8-0321-4758-e020-c6b10439b021"
      },
      "source": [
        "X_test.shape"
      ],
      "execution_count": null,
      "outputs": [
        {
          "output_type": "execute_result",
          "data": {
            "text/plain": [
              "(10000, 28, 28)"
            ]
          },
          "metadata": {
            "tags": []
          },
          "execution_count": 53
        }
      ]
    },
    {
      "cell_type": "markdown",
      "metadata": {
        "id": "Iv6JUuxXSi6v"
      },
      "source": [
        " 이미지 한장만 예측"
      ]
    },
    {
      "cell_type": "code",
      "metadata": {
        "colab": {
          "base_uri": "https://localhost:8080/"
        },
        "id": "6nb2yKS8UbGu",
        "outputId": "cdcc1c13-3b31-45a0-880b-ac88e6cdf4ce"
      },
      "source": [
        "# 테스트 데이터 가지고 오기\n",
        "x, t = get_test_data()\n",
        "\n",
        "# 한장만 가져와서 테스트\n",
        "test_image, test_target = x[0], t[0]\n",
        "\n",
        "\n",
        "test_image.shape"
      ],
      "execution_count": null,
      "outputs": [
        {
          "output_type": "execute_result",
          "data": {
            "text/plain": [
              "(784,)"
            ]
          },
          "metadata": {
            "tags": []
          },
          "execution_count": 57
        }
      ]
    },
    {
      "cell_type": "code",
      "metadata": {
        "colab": {
          "base_uri": "https://localhost:8080/"
        },
        "id": "NUilWsBXaygb",
        "outputId": "5824f112-48b1-4c77-e5a3-6bf64e3ac2da"
      },
      "source": [
        "# 네트워크 불러오기\n",
        "net = init_network()\n",
        "test_result = predict(net, test_image)\n",
        "\n",
        "# test_result 에는 소프트맥스의 결과물이 들어있음\n",
        "# test_result에대한 숫자 10개의 가가의 확룰\n",
        "print('예측된 softmax 결과 : \\n{}'.format(test_result))\n",
        "print('예측된 label 확인 : {}'.format(np.argmax(test_result)))\n",
        "print('정답 : {}'.format(test_target))"
      ],
      "execution_count": 69,
      "outputs": [
        {
          "output_type": "stream",
          "text": [
            "예측된 softmax 결과 : \n",
            "[4.2879005e-06 4.5729317e-07 1.8486280e-04 8.3605024e-05 1.5084674e-07\n",
            " 6.3182205e-07 4.5782045e-10 9.9919468e-01 3.8066935e-07 5.3083024e-04]\n",
            "예측된 label 확인 : 7\n",
            "정답 : 7\n"
          ],
          "name": "stdout"
        },
        {
          "output_type": "stream",
          "text": [
            "/usr/local/lib/python3.7/dist-packages/ipykernel_launcher.py:2: RuntimeWarning: overflow encountered in exp\n",
            "  \n"
          ],
          "name": "stderr"
        }
      ]
    },
    {
      "cell_type": "code",
      "metadata": {
        "colab": {
          "base_uri": "https://localhost:8080/",
          "height": 265
        },
        "id": "QGaVQOM_bLC7",
        "outputId": "d9f988ab-742b-4671-b404-f4c8561d0172"
      },
      "source": [
        "# test_image 가 7이 맞는지 이미지로 확인\n",
        "# 이미지로 표시하기 위해 (28, 28)로 변환!\n",
        "\n",
        "plt.imshow(test_image.reshape(28, 28), 'gray')\n",
        "plt.show()"
      ],
      "execution_count": null,
      "outputs": [
        {
          "output_type": "display_data",
          "data": {
            "image/png": "[encoded data removed]",
            "text/plain": [
              "<Figure size 432x288 with 1 Axes>"
            ]
          },
          "metadata": {
            "tags": [],
            "needs_background": "light"
          }
        }
      ]
    },
    {
      "cell_type": "markdown",
      "metadata": {
        "id": "sqgrexFSceVy"
      },
      "source": [
        "# 예측에 대한 정확도 확인\n",
        "단, 한 장씩 예측해서 정확도 확인하기"
      ]
    },
    {
      "cell_type": "code",
      "metadata": {
        "colab": {
          "base_uri": "https://localhost:8080/"
        },
        "id": "-eQ4qSFGcrNT",
        "outputId": "603f9ef3-e1f0-4f08-f561-af2eb55fc278"
      },
      "source": [
        "x, t = get_test_data()\n",
        "\n",
        "net = init_network()\n",
        "acc_count = 0 # 정답을 맞춘 개수 저장\n",
        "\n",
        "# X에서 사진을 한 장씩 꺼내서 터스트\n",
        "for i in range(len(x)):\n",
        "    pred = predict(net, x[i]) # pred의 shape은 (10,)\n",
        "    pred = np.argmax(pred) # r결과값의 퍼센트 중 큰것??\n",
        "\n",
        "    acc_count += (pred == t[i])\n",
        "\n",
        "print(float(acc_count / len(x)))"
      ],
      "execution_count": null,
      "outputs": [
        {
          "output_type": "stream",
          "text": [
            "/usr/local/lib/python3.7/dist-packages/ipykernel_launcher.py:2: RuntimeWarning: overflow encountered in exp\n",
            "  \n"
          ],
          "name": "stderr"
        },
        {
          "output_type": "stream",
          "text": [
            "0.9207\n"
          ],
          "name": "stdout"
        }
      ]
    },
    {
      "cell_type": "markdown",
      "metadata": {
        "id": "ffHoxqZieWXW"
      },
      "source": [
        "# BATCH\n",
        "쌀포대를 생각해보면... 한 컵씩 나눠서 옯김"
      ]
    },
    {
      "cell_type": "code",
      "metadata": {
        "colab": {
          "base_uri": "https://localhost:8080/"
        },
        "id": "PY9el4yWii7J",
        "outputId": "2476d44d-ce24-4226-d1cd-fbb573890885"
      },
      "source": [
        "# 배치를 이용한 예측\n",
        "X, t = get_test_data()\n",
        "\n",
        "net = init_network()\n",
        "\n",
        "# 배치란/ 데이터의 묶음 \n",
        "# batch_size : 1 배치당 들어있어야 하는 데이터의 개수\n",
        "\n",
        "batch_size = 100\n",
        "acc_count = 0\n",
        "\n",
        "for i in range(0, len(X), batch_size):\n",
        "    X_batch = X[i : i + batch_size] # x_batch의 shape : (100, 784)\n",
        "\n",
        "    pred_batch = predict(net, X_batch)\n",
        "    pred_batch = np.argmax(pred_batch, axis=1)\n",
        "\n",
        "    acc_count += np.sum(pred_batch == t[i : i + batch_size])\n",
        " \n",
        "print(float(acc_count / len(X)))"
      ],
      "execution_count": 67,
      "outputs": [
        {
          "output_type": "stream",
          "text": [
            "0.9207\n"
          ],
          "name": "stdout"
        },
        {
          "output_type": "stream",
          "text": [
            "/usr/local/lib/python3.7/dist-packages/ipykernel_launcher.py:2: RuntimeWarning: overflow encountered in exp\n",
            "  \n"
          ],
          "name": "stderr"
        }
      ]
    },
    {
      "cell_type": "code",
      "metadata": {
        "id": "lRjEkeG8mINE"
      },
      "source": [
        ""
      ],
      "execution_count": null,
      "outputs": []
    }
  ]
}