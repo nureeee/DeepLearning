{
 "cells": [
  {
   "cell_type": "code",
   "execution_count": 1,
   "id": "e62e3818",
   "metadata": {},
   "outputs": [],
   "source": [
    "import torch\n",
    "import torch.optim as optim\n",
    "import numpy as np"
   ]
  },
  {
   "cell_type": "code",
   "execution_count": 2,
   "id": "c89a2ca9",
   "metadata": {},
   "outputs": [
    {
     "data": {
      "text/plain": [
       "<torch._C.Generator at 0x1954f3046f0>"
      ]
     },
     "execution_count": 2,
     "metadata": {},
     "output_type": "execute_result"
    }
   ],
   "source": [
    "torch.manual_seed(0)"
   ]
  },
  {
   "cell_type": "code",
   "execution_count": 3,
   "id": "ce80498c",
   "metadata": {},
   "outputs": [],
   "source": [
    "sample = \" if you want you\""
   ]
  },
  {
   "cell_type": "code",
   "execution_count": 8,
   "id": "16e30aa4",
   "metadata": {},
   "outputs": [
    {
     "name": "stdout",
     "output_type": "stream",
     "text": [
      "{'f': 0, 't': 1, ' ': 2, 'a': 3, 'u': 4, 'o': 5, 'n': 6, 'y': 7, 'i': 8, 'w': 9}\n"
     ]
    }
   ],
   "source": [
    "char_set = list(set(sample)) # 중복되는 문자를 제외한 무자들 리스트로 저장\n",
    "char_dic = {c: i for i, c in enumerate(char_set)} # 리스트에 인덱스를 붙여 딕셔너리 타입으로 바꿔준다.\n",
    "print(char_dic)"
   ]
  },
  {
   "cell_type": "code",
   "execution_count": 17,
   "id": "03ad61e8",
   "metadata": {},
   "outputs": [],
   "source": [
    "dic_size = len(char_dic)\n",
    "hidden_size = len(char_dic)\n",
    "learning_rate = 0.1"
   ]
  },
  {
   "cell_type": "code",
   "execution_count": 20,
   "id": "9e9afc5a",
   "metadata": {},
   "outputs": [
    {
     "data": {
      "text/plain": [
       "[[2, 8, 0, 2, 7, 5, 4, 2, 9, 3, 6, 1, 2, 7, 5]]"
      ]
     },
     "execution_count": 20,
     "metadata": {},
     "output_type": "execute_result"
    }
   ],
   "source": [
    "sample_idx = [char_dic[c] for c in sample] # sample문자의 문자열을 해당 딕셔너리의 인덱스 값으로 표현\n",
    "x_data = [sample_idx[:-1]] # sample_idx를 한번더 리스트로 묶어준다\n",
    "x_one_hot = [np.eye(dic_size)[x] for x in x_data] # x_data를 원핫인토딩 해준다\n",
    "y_data = [sample_idx[1:]] # x_data에서 앞의 공백을 제외한 문자열의 인덱스 리스트"
   ]
  },
  {
   "cell_type": "code",
   "execution_count": 22,
   "id": "6783bb90",
   "metadata": {},
   "outputs": [
    {
     "data": {
      "text/plain": [
       "tensor([[8, 0, 2, 7, 5, 4, 2, 9, 3, 6, 1, 2, 7, 5, 4]])"
      ]
     },
     "execution_count": 22,
     "metadata": {},
     "output_type": "execute_result"
    }
   ],
   "source": [
    "X = torch.FloatTensor(x_one_hot)\n",
    "Y = torch.LongTensor(y_data)"
   ]
  },
  {
   "cell_type": "code",
   "execution_count": 24,
   "id": "806854c6",
   "metadata": {},
   "outputs": [
    {
     "data": {
      "text/plain": [
       "RNN(10, 10, batch_first=True)"
      ]
     },
     "execution_count": 24,
     "metadata": {},
     "output_type": "execute_result"
    }
   ],
   "source": [
    "rnn = torch.nn.RNN(dic_size, hidden_size, batch_first=True)\n",
    "rnn"
   ]
  },
  {
   "cell_type": "code",
   "execution_count": 25,
   "id": "6bf7ca1a",
   "metadata": {},
   "outputs": [],
   "source": [
    "criterion = torch.nn.CrossEntropyLoss()\n",
    "optimizer = optim.Adam(rnn.parameters(), learning_rate)"
   ]
  },
  {
   "cell_type": "code",
   "execution_count": 30,
   "id": "edf3852e",
   "metadata": {},
   "outputs": [
    {
     "name": "stdout",
     "output_type": "stream",
     "text": [
      "0 loss:  0.8692123293876648 prediction:  [[8 0 2 7 5 4 2 7 5 4 1 2 7 5 4]] true Y:  [[8, 0, 2, 7, 5, 4, 2, 9, 3, 6, 1, 2, 7, 5, 4]] prediction str:  if you yout you\n",
      "1 loss:  0.8691933155059814 prediction:  [[8 0 2 7 5 4 2 7 5 4 1 2 7 5 4]] true Y:  [[8, 0, 2, 7, 5, 4, 2, 9, 3, 6, 1, 2, 7, 5, 4]] prediction str:  if you yout you\n",
      "2 loss:  0.8691747784614563 prediction:  [[8 0 2 7 5 4 2 7 5 4 1 2 7 5 4]] true Y:  [[8, 0, 2, 7, 5, 4, 2, 9, 3, 6, 1, 2, 7, 5, 4]] prediction str:  if you yout you\n",
      "3 loss:  0.869156002998352 prediction:  [[8 0 2 7 5 4 2 7 5 4 1 2 7 5 4]] true Y:  [[8, 0, 2, 7, 5, 4, 2, 9, 3, 6, 1, 2, 7, 5, 4]] prediction str:  if you yout you\n",
      "4 loss:  0.8691375255584717 prediction:  [[8 0 2 7 5 4 2 7 5 4 1 2 7 5 4]] true Y:  [[8, 0, 2, 7, 5, 4, 2, 9, 3, 6, 1, 2, 7, 5, 4]] prediction str:  if you yout you\n",
      "5 loss:  0.8691192865371704 prediction:  [[8 0 2 7 5 4 2 7 5 4 1 2 7 5 4]] true Y:  [[8, 0, 2, 7, 5, 4, 2, 9, 3, 6, 1, 2, 7, 5, 4]] prediction str:  if you yout you\n",
      "6 loss:  0.8691011667251587 prediction:  [[8 0 2 7 5 4 2 7 5 4 1 2 7 5 4]] true Y:  [[8, 0, 2, 7, 5, 4, 2, 9, 3, 6, 1, 2, 7, 5, 4]] prediction str:  if you yout you\n",
      "7 loss:  0.8690832257270813 prediction:  [[8 0 2 7 5 4 2 7 5 4 1 2 7 5 4]] true Y:  [[8, 0, 2, 7, 5, 4, 2, 9, 3, 6, 1, 2, 7, 5, 4]] prediction str:  if you yout you\n",
      "8 loss:  0.8690652847290039 prediction:  [[8 0 2 7 5 4 2 7 5 4 1 2 7 5 4]] true Y:  [[8, 0, 2, 7, 5, 4, 2, 9, 3, 6, 1, 2, 7, 5, 4]] prediction str:  if you yout you\n",
      "9 loss:  0.8690474033355713 prediction:  [[8 0 2 7 5 4 2 7 5 4 1 2 7 5 4]] true Y:  [[8, 0, 2, 7, 5, 4, 2, 9, 3, 6, 1, 2, 7, 5, 4]] prediction str:  if you yout you\n",
      "10 loss:  0.8690299391746521 prediction:  [[8 0 2 7 5 4 2 7 5 4 1 2 7 5 4]] true Y:  [[8, 0, 2, 7, 5, 4, 2, 9, 3, 6, 1, 2, 7, 5, 4]] prediction str:  if you yout you\n",
      "11 loss:  0.869012176990509 prediction:  [[8 0 2 7 5 4 2 7 5 4 1 2 7 5 4]] true Y:  [[8, 0, 2, 7, 5, 4, 2, 9, 3, 6, 1, 2, 7, 5, 4]] prediction str:  if you yout you\n",
      "12 loss:  0.8689950108528137 prediction:  [[8 0 2 7 5 4 2 7 5 4 1 2 7 5 4]] true Y:  [[8, 0, 2, 7, 5, 4, 2, 9, 3, 6, 1, 2, 7, 5, 4]] prediction str:  if you yout you\n",
      "13 loss:  0.8689777255058289 prediction:  [[8 0 2 7 5 4 2 7 5 4 1 2 7 5 4]] true Y:  [[8, 0, 2, 7, 5, 4, 2, 9, 3, 6, 1, 2, 7, 5, 4]] prediction str:  if you yout you\n",
      "14 loss:  0.8689605593681335 prediction:  [[8 0 2 7 5 4 2 7 5 4 1 2 7 5 4]] true Y:  [[8, 0, 2, 7, 5, 4, 2, 9, 3, 6, 1, 2, 7, 5, 4]] prediction str:  if you yout you\n",
      "15 loss:  0.8689435720443726 prediction:  [[8 0 2 7 5 4 2 7 5 4 1 2 7 5 4]] true Y:  [[8, 0, 2, 7, 5, 4, 2, 9, 3, 6, 1, 2, 7, 5, 4]] prediction str:  if you yout you\n",
      "16 loss:  0.8689268231391907 prediction:  [[8 0 2 7 5 4 2 7 5 4 1 2 7 5 4]] true Y:  [[8, 0, 2, 7, 5, 4, 2, 9, 3, 6, 1, 2, 7, 5, 4]] prediction str:  if you yout you\n",
      "17 loss:  0.8689099550247192 prediction:  [[8 0 2 7 5 4 2 7 5 4 1 2 7 5 4]] true Y:  [[8, 0, 2, 7, 5, 4, 2, 9, 3, 6, 1, 2, 7, 5, 4]] prediction str:  if you yout you\n",
      "18 loss:  0.8688934445381165 prediction:  [[8 0 2 7 5 4 2 7 5 4 1 2 7 5 4]] true Y:  [[8, 0, 2, 7, 5, 4, 2, 9, 3, 6, 1, 2, 7, 5, 4]] prediction str:  if you yout you\n",
      "19 loss:  0.8688769936561584 prediction:  [[8 0 2 7 5 4 2 7 5 4 1 2 7 5 4]] true Y:  [[8, 0, 2, 7, 5, 4, 2, 9, 3, 6, 1, 2, 7, 5, 4]] prediction str:  if you yout you\n",
      "20 loss:  0.8688604831695557 prediction:  [[8 0 2 7 5 4 2 7 5 4 1 2 7 5 4]] true Y:  [[8, 0, 2, 7, 5, 4, 2, 9, 3, 6, 1, 2, 7, 5, 4]] prediction str:  if you yout you\n",
      "21 loss:  0.8688442707061768 prediction:  [[8 0 2 7 5 4 2 7 5 4 1 2 7 5 4]] true Y:  [[8, 0, 2, 7, 5, 4, 2, 9, 3, 6, 1, 2, 7, 5, 4]] prediction str:  if you yout you\n",
      "22 loss:  0.8688281178474426 prediction:  [[8 0 2 7 5 4 2 7 5 4 1 2 7 5 4]] true Y:  [[8, 0, 2, 7, 5, 4, 2, 9, 3, 6, 1, 2, 7, 5, 4]] prediction str:  if you yout you\n",
      "23 loss:  0.8688122034072876 prediction:  [[8 0 2 7 5 4 2 7 5 4 1 2 7 5 4]] true Y:  [[8, 0, 2, 7, 5, 4, 2, 9, 3, 6, 1, 2, 7, 5, 4]] prediction str:  if you yout you\n",
      "24 loss:  0.868796169757843 prediction:  [[8 0 2 7 5 4 2 7 5 4 1 2 7 5 4]] true Y:  [[8, 0, 2, 7, 5, 4, 2, 9, 3, 6, 1, 2, 7, 5, 4]] prediction str:  if you yout you\n",
      "25 loss:  0.8687803149223328 prediction:  [[8 0 2 7 5 4 2 7 5 4 1 2 7 5 4]] true Y:  [[8, 0, 2, 7, 5, 4, 2, 9, 3, 6, 1, 2, 7, 5, 4]] prediction str:  if you yout you\n",
      "26 loss:  0.8687646389007568 prediction:  [[8 0 2 7 5 4 2 7 5 4 1 2 7 5 4]] true Y:  [[8, 0, 2, 7, 5, 4, 2, 9, 3, 6, 1, 2, 7, 5, 4]] prediction str:  if you yout you\n",
      "27 loss:  0.8687490224838257 prediction:  [[8 0 2 7 5 4 2 7 5 4 1 2 7 5 4]] true Y:  [[8, 0, 2, 7, 5, 4, 2, 9, 3, 6, 1, 2, 7, 5, 4]] prediction str:  if you yout you\n",
      "28 loss:  0.8687335848808289 prediction:  [[8 0 2 7 5 4 2 7 5 4 1 2 7 5 4]] true Y:  [[8, 0, 2, 7, 5, 4, 2, 9, 3, 6, 1, 2, 7, 5, 4]] prediction str:  if you yout you\n",
      "29 loss:  0.8687182068824768 prediction:  [[8 0 2 7 5 4 2 7 5 4 1 2 7 5 4]] true Y:  [[8, 0, 2, 7, 5, 4, 2, 9, 3, 6, 1, 2, 7, 5, 4]] prediction str:  if you yout you\n",
      "30 loss:  0.8687029480934143 prediction:  [[8 0 2 7 5 4 2 7 5 4 1 2 7 5 4]] true Y:  [[8, 0, 2, 7, 5, 4, 2, 9, 3, 6, 1, 2, 7, 5, 4]] prediction str:  if you yout you\n",
      "31 loss:  0.8686877489089966 prediction:  [[8 0 2 7 5 4 2 7 5 4 1 2 7 5 4]] true Y:  [[8, 0, 2, 7, 5, 4, 2, 9, 3, 6, 1, 2, 7, 5, 4]] prediction str:  if you yout you\n",
      "32 loss:  0.8686726689338684 prediction:  [[8 0 2 7 5 4 2 7 5 4 1 2 7 5 4]] true Y:  [[8, 0, 2, 7, 5, 4, 2, 9, 3, 6, 1, 2, 7, 5, 4]] prediction str:  if you yout you\n",
      "33 loss:  0.8686577081680298 prediction:  [[8 0 2 7 5 4 2 7 5 4 1 2 7 5 4]] true Y:  [[8, 0, 2, 7, 5, 4, 2, 9, 3, 6, 1, 2, 7, 5, 4]] prediction str:  if you yout you\n",
      "34 loss:  0.8686428666114807 prediction:  [[8 0 2 7 5 4 2 7 5 4 1 2 7 5 4]] true Y:  [[8, 0, 2, 7, 5, 4, 2, 9, 3, 6, 1, 2, 7, 5, 4]] prediction str:  if you yout you\n",
      "35 loss:  0.8686280846595764 prediction:  [[8 0 2 7 5 4 2 7 5 4 1 2 7 5 4]] true Y:  [[8, 0, 2, 7, 5, 4, 2, 9, 3, 6, 1, 2, 7, 5, 4]] prediction str:  if you yout you\n",
      "36 loss:  0.8686133623123169 prediction:  [[8 0 2 7 5 4 2 7 5 4 1 2 7 5 4]] true Y:  [[8, 0, 2, 7, 5, 4, 2, 9, 3, 6, 1, 2, 7, 5, 4]] prediction str:  if you yout you\n",
      "37 loss:  0.8685987591743469 prediction:  [[8 0 2 7 5 4 2 7 5 4 1 2 7 5 4]] true Y:  [[8, 0, 2, 7, 5, 4, 2, 9, 3, 6, 1, 2, 7, 5, 4]] prediction str:  if you yout you\n",
      "38 loss:  0.8685843348503113 prediction:  [[8 0 2 7 5 4 2 7 5 4 1 2 7 5 4]] true Y:  [[8, 0, 2, 7, 5, 4, 2, 9, 3, 6, 1, 2, 7, 5, 4]] prediction str:  if you yout you\n",
      "39 loss:  0.86857008934021 prediction:  [[8 0 2 7 5 4 2 7 5 4 1 2 7 5 4]] true Y:  [[8, 0, 2, 7, 5, 4, 2, 9, 3, 6, 1, 2, 7, 5, 4]] prediction str:  if you yout you\n",
      "40 loss:  0.8685556650161743 prediction:  [[8 0 2 7 5 4 2 7 5 4 1 2 7 5 4]] true Y:  [[8, 0, 2, 7, 5, 4, 2, 9, 3, 6, 1, 2, 7, 5, 4]] prediction str:  if you yout you\n",
      "41 loss:  0.8685414791107178 prediction:  [[8 0 2 7 5 4 2 7 5 4 1 2 7 5 4]] true Y:  [[8, 0, 2, 7, 5, 4, 2, 9, 3, 6, 1, 2, 7, 5, 4]] prediction str:  if you yout you\n",
      "42 loss:  0.8685274124145508 prediction:  [[8 0 2 7 5 4 2 7 5 4 1 2 7 5 4]] true Y:  [[8, 0, 2, 7, 5, 4, 2, 9, 3, 6, 1, 2, 7, 5, 4]] prediction str:  if you yout you\n",
      "43 loss:  0.8685134053230286 prediction:  [[8 0 2 7 5 4 2 7 5 4 1 2 7 5 4]] true Y:  [[8, 0, 2, 7, 5, 4, 2, 9, 3, 6, 1, 2, 7, 5, 4]] prediction str:  if you yout you\n",
      "44 loss:  0.8684994578361511 prediction:  [[8 0 2 7 5 4 2 7 5 4 1 2 7 5 4]] true Y:  [[8, 0, 2, 7, 5, 4, 2, 9, 3, 6, 1, 2, 7, 5, 4]] prediction str:  if you yout you\n",
      "45 loss:  0.8684855699539185 prediction:  [[8 0 2 7 5 4 2 7 5 4 1 2 7 5 4]] true Y:  [[8, 0, 2, 7, 5, 4, 2, 9, 3, 6, 1, 2, 7, 5, 4]] prediction str:  if you yout you\n",
      "46 loss:  0.8684718608856201 prediction:  [[8 0 2 7 5 4 2 7 5 4 1 2 7 5 4]] true Y:  [[8, 0, 2, 7, 5, 4, 2, 9, 3, 6, 1, 2, 7, 5, 4]] prediction str:  if you yout you\n",
      "47 loss:  0.8684582114219666 prediction:  [[8 0 2 7 5 4 2 7 5 4 1 2 7 5 4]] true Y:  [[8, 0, 2, 7, 5, 4, 2, 9, 3, 6, 1, 2, 7, 5, 4]] prediction str:  if you yout you\n",
      "48 loss:  0.868444561958313 prediction:  [[8 0 2 7 5 4 2 7 5 4 1 2 7 5 4]] true Y:  [[8, 0, 2, 7, 5, 4, 2, 9, 3, 6, 1, 2, 7, 5, 4]] prediction str:  if you yout you\n",
      "49 loss:  0.8684312105178833 prediction:  [[8 0 2 7 5 4 2 7 5 4 1 2 7 5 4]] true Y:  [[8, 0, 2, 7, 5, 4, 2, 9, 3, 6, 1, 2, 7, 5, 4]] prediction str:  if you yout you\n"
     ]
    }
   ],
   "source": [
    "for i in range(50):\n",
    "    optimizer.zero_grad()\n",
    "    outputs, _status = rnn(X)\n",
    "    loss = criterion(outputs.view(-1, dic_size), Y.view(-1))\n",
    "    loss.backward()\n",
    "    optimizer.step()\n",
    "\n",
    "    result = outputs.data.numpy().argmax(axis=2)\n",
    "    result_str = ''.join([char_set[c] for c in np.squeeze(result)])\n",
    "    print(i, \"loss: \", loss.item(), \"prediction: \", result, \"true Y: \", y_data, \"prediction str: \", result_str)"
   ]
  },
  {
   "cell_type": "code",
   "execution_count": null,
   "id": "01e6419c",
   "metadata": {},
   "outputs": [],
   "source": []
  }
 ],
 "metadata": {
  "kernelspec": {
   "display_name": "Python 3",
   "language": "python",
   "name": "python3"
  },
  "language_info": {
   "codemirror_mode": {
    "name": "ipython",
    "version": 3
   },
   "file_extension": ".py",
   "mimetype": "text/x-python",
   "name": "python",
   "nbconvert_exporter": "python",
   "pygments_lexer": "ipython3",
   "version": "3.8.10"
  }
 },
 "nbformat": 4,
 "nbformat_minor": 5
}
