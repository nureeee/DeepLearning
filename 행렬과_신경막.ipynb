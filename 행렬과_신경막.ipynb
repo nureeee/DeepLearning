{
  "nbformat": 4,
  "nbformat_minor": 0,
  "metadata": {
    "colab": {
      "name": "행렬과 신경막.ipynb",
      "provenance": [],
      "authorship_tag": "ABX9TyO8bBpydMb005gdkPnfUqc2",
      "include_colab_link": true
    },
    "kernelspec": {
      "name": "python3",
      "display_name": "Python 3"
    },
    "language_info": {
      "name": "python"
    }
  },
  "cells": [
    {
      "cell_type": "markdown",
      "metadata": {
        "id": "view-in-github",
        "colab_type": "text"
      },
      "source": [
        "<a href=\"https://colab.research.google.com/github/nureeee/DeepLearning/blob/main/%ED%96%89%EB%A0%AC%EA%B3%BC_%EC%8B%A0%EA%B2%BD%EB%A7%89.ipynb\" target=\"_parent\"><img src=\"https://colab.research.google.com/assets/colab-badge.svg\" alt=\"Open In Colab\"/></a>"
      ]
    },
    {
      "cell_type": "markdown",
      "metadata": {
        "id": "9aLlNfiBBaK_"
      },
      "source": [
        "# 신경망의 입력값과 가중치\n",
        "* 신경망"
      ]
    },
    {
      "cell_type": "code",
      "metadata": {
        "colab": {
          "base_uri": "https://localhost:8080/"
        },
        "id": "hEMNp3U2IXql",
        "outputId": "201e89d9-df0b-444b-dab7-8a7d0ff20fe2"
      },
      "source": [
        "import numpy as np\n",
        "\n",
        "x = np.array([1, 2])\n",
        "w = np.array([[1, 2, 3],\n",
        "              [4, 5, 6]]) # 2개의 입력을 받는 3개의 뉴런\n",
        "\n",
        "print('입력값 x의 shape : {}'.format(x.shape))\n",
        "print('입력값 w의 shape : {}'.format(w.shape))"
      ],
      "execution_count": 3,
      "outputs": [
        {
          "output_type": "stream",
          "text": [
            "입력값 x의 shape : (2,)\n",
            "입력값 w의 shape : (2, 3)\n"
          ],
          "name": "stdout"
        }
      ]
    },
    {
      "cell_type": "code",
      "metadata": {
        "colab": {
          "base_uri": "https://localhost:8080/"
        },
        "id": "TLeeDW5OIf7Q",
        "outputId": "6432052c-18df-497e-8366-c577c9b7dc4b"
      },
      "source": [
        "# 내적하기\n",
        "z = np.dot(x, w)\n",
        "print('출력값 z : {}'.format(z))"
      ],
      "execution_count": 5,
      "outputs": [
        {
          "output_type": "stream",
          "text": [
            "출력값 z : [ 9 12 15]\n"
          ],
          "name": "stdout"
        }
      ]
    },
    {
      "cell_type": "code",
      "metadata": {
        "colab": {
          "base_uri": "https://localhost:8080/"
        },
        "id": "iYC2t_UhJr_k",
        "outputId": "9840463f-68de-45f7-bf99-2d6981563744"
      },
      "source": [
        "w.T @ x"
      ],
      "execution_count": 7,
      "outputs": [
        {
          "output_type": "execute_result",
          "data": {
            "text/plain": [
              "array([ 9, 12, 15])"
            ]
          },
          "metadata": {
            "tags": []
          },
          "execution_count": 7
        }
      ]
    },
    {
      "cell_type": "code",
      "metadata": {
        "colab": {
          "base_uri": "https://localhost:8080/"
        },
        "id": "pAasVGPDJx1E",
        "outputId": "379d6e3f-f842-4bdc-b4a8-68e1d81205b0"
      },
      "source": [
        "x @ w"
      ],
      "execution_count": 8,
      "outputs": [
        {
          "output_type": "execute_result",
          "data": {
            "text/plain": [
              "array([ 9, 12, 15])"
            ]
          },
          "metadata": {
            "tags": []
          },
          "execution_count": 8
        }
      ]
    },
    {
      "cell_type": "code",
      "metadata": {
        "id": "6A63zt9BJ4e7"
      },
      "source": [
        "# w @ x 에러발생!"
      ],
      "execution_count": 10,
      "outputs": []
    },
    {
      "cell_type": "markdown",
      "metadata": {
        "id": "quh7zyc1J6D8"
      },
      "source": [
        "# 단순한 3층 신경망 구성하기"
      ]
    },
    {
      "cell_type": "code",
      "metadata": {
        "id": "vVD-Lap-KcbX"
      },
      "source": [
        "# 시그모이드 함수 - 은닉층에서 사용\n",
        "def sigmoid(x):\n",
        "    return 1 / (1 + np.exp(-x))\n",
        "\n",
        "# 항등 함수 구현 - 출력층에서 사용\n",
        "def identity_function(x):\n",
        "    return x"
      ],
      "execution_count": 13,
      "outputs": []
    },
    {
      "cell_type": "markdown",
      "metadata": {
        "id": "1bkVtlUrLl16"
      },
      "source": [
        "# 1층 구현하기"
      ]
    },
    {
      "cell_type": "code",
      "metadata": {
        "colab": {
          "base_uri": "https://localhost:8080/"
        },
        "id": "QAUkQN-hLPcl",
        "outputId": "6c90ba9b-02fb-41c1-ab38-200bec38a53c"
      },
      "source": [
        "X = np.array([1.0, 0.5])\n",
        "W1 = np.array([[0.1, 0.3, 0.5],\n",
        "               [0.2, 0.4, 0.6]])\n",
        "\n",
        "B1 = np.array([0.1, 0.2, 0.3])\n",
        "Z1 = np.dot(X, W1) + B1\n",
        "A1 = sigmoid(Z1)\n",
        "\n",
        "print('1층의 결과 : {}'.format(A1))\n",
        "\n",
        "print('입력값 X의 shape : {}'.format(X.shape))\n",
        "print('입력값 W1의 shape : {}'.format(W1.shape))\n",
        "print('입력값 B1의 shape : {}'.format(B1.shape))\n",
        "print('입력값 Z1의 shape : {}'.format(Z1.shape))\n",
        "print('입력값 A1의 shape : {}'.format(A1.shape))"
      ],
      "execution_count": 16,
      "outputs": [
        {
          "output_type": "stream",
          "text": [
            "1층의 결과 : [0.57444252 0.66818777 0.75026011]\n",
            "입력값 X의 shape : (2,)\n",
            "입력값 W1의 shape : (2, 3)\n",
            "입력값 B1의 shape : (3,)\n",
            "입력값 Z1의 shape : (3,)\n",
            "입력값 A1의 shape : (3,)\n"
          ],
          "name": "stdout"
        }
      ]
    },
    {
      "cell_type": "markdown",
      "metadata": {
        "id": "uj9LbGqSL3m7"
      },
      "source": [
        "# 2층 구현하기"
      ]
    },
    {
      "cell_type": "code",
      "metadata": {
        "colab": {
          "base_uri": "https://localhost:8080/"
        },
        "id": "-dYR09rvL_Xk",
        "outputId": "b7d06113-61f8-47c9-d628-fc2209ba4d9d"
      },
      "source": [
        "W2 = np.array([[0.1, 0.4],\n",
        "              [0.2, 0.5],\n",
        "              [0.3, 0.6]])\n",
        "\n",
        "B2 = np.array([0.1, 0.2])\n",
        "Z2 = np.dot(A1, W2) + B2\n",
        "A2 = sigmoid(Z2)\n",
        "\n",
        "print('2층의 결과 : {}'.format(A2))\n",
        "\n",
        "print('입력값 W2의 shape : {}'.format(W2.shape))\n",
        "print('입력값 B2의 shape : {}'.format(B2.shape))\n",
        "print('Z2의 shape : {}'.format(Z2.shape))\n",
        "print('A2의 shape : {}'.format(A2.shape))"
      ],
      "execution_count": 24,
      "outputs": [
        {
          "output_type": "stream",
          "text": [
            "2층의 결과 : [0.62624937 0.7710107 ]\n",
            "입력값 W2의 shape : (3, 2)\n",
            "입력값 B2의 shape : (2,)\n",
            "Z2의 shape : (2,)\n",
            "A2의 shape : (2,)\n"
          ],
          "name": "stdout"
        }
      ]
    },
    {
      "cell_type": "markdown",
      "metadata": {
        "id": "HWJK9ydsMb0x"
      },
      "source": [
        "# 3층 구현하기 (출력층)\n",
        " * 활성화 함수로 항등함수"
      ]
    },
    {
      "cell_type": "code",
      "metadata": {
        "colab": {
          "base_uri": "https://localhost:8080/"
        },
        "id": "qHAF47bvMmbl",
        "outputId": "55af7988-0a9f-407b-d32f-a3489c52212f"
      },
      "source": [
        "W3 = np.array([[0.1, 0.3],\n",
        "               [0.2, 0.4]])\n",
        "\n",
        "B3 = np.array([0.1, 0.2])\n",
        "Z3 = np.dot(A2, W3) + B3\n",
        "A3 = identity_function(Z3)\n",
        "\n",
        "print('입력값 W3의 shape : {}'.format(W3.shape))\n",
        "print('입력값 B3의 shape : {}'.format(B3.shape))\n",
        "print('Z3의 shape : {}'.format(Z3.shape))\n",
        "print('')\n",
        "print('3층의 출력값 : {}'.format(A3))"
      ],
      "execution_count": 25,
      "outputs": [
        {
          "output_type": "stream",
          "text": [
            "입력값 W3의 shape : (2, 2)\n",
            "입력값 B3의 shape : (2,)\n",
            "Z3의 shape : (2,)\n",
            "\n",
            "3층의 출력값 : [0.31682708 0.69627909]\n"
          ],
          "name": "stdout"
        }
      ]
    },
    {
      "cell_type": "markdown",
      "metadata": {
        "id": "_5JtLr6FXX2u"
      },
      "source": [
        "# 순전파 최종 구현"
      ]
    },
    {
      "cell_type": "code",
      "metadata": {
        "id": "ojCbbEq4QF5z"
      },
      "source": [
        "# 네트워크 초기화\n",
        "#  네트워크가 최초로 가지고 있어야 할 가중와 편향을 설정\n",
        "#  보통은 정규분포 랜덤으로 초기화 하거나, 카이밍 히, 사비에르 초깃값 등을 활용\n",
        "def init_network():\n",
        "  network = {}\n",
        "\n",
        "  # 1층 매개변수 초기화\n",
        "  network[\"W1\"] = np.array([[0.1, 0.3, 0.5],\n",
        "                            [0.2, 0.4, 0.6]])\n",
        "  network[\"B1\"] = np.array([0.1, 0.2, 0.3])\n",
        "\n",
        "  # 2층 매개변수 초기화\n",
        "  network[\"W2\"] = np.array([[0.1, 0.4],\n",
        "                            [0.2, 0.5],\n",
        "                            [0.3, 0.6]])\n",
        "  network[\"B2\"] = np.array([0.1, 0.2])\n",
        "\n",
        "  # 3층 매개변수 초기화\n",
        "  network[\"W3\"] = np.array([[0.1, 0.3],\n",
        "                            [0.2, 0.4]])\n",
        "  network[\"B3\"] = np.array([0.1, 0.2])\n",
        "\n",
        "  return network\n",
        "\n",
        "# 순전파 XW+B\n",
        "def forward(network, x):\n",
        "  # 가중치, 편향 꺼내기\n",
        "  W1, W2, W3 = network[\"W1\"], network[\"W2\"], network[\"W3\"]\n",
        "  b1, b2, b3 = network[\"B1\"], network[\"B2\"], network[\"B3\"]\n",
        "\n",
        "  # 1층 계산\n",
        "  Z1 = (x @ W1) + b1\n",
        "  A1 = sigmoid(Z1)\n",
        "\n",
        "  # 2층 계산\n",
        "  Z2 = (A1 @ W2) + b2\n",
        "  A2 = sigmoid(Z2)\n",
        "  \n",
        "  # 3층 계산\n",
        "  Z3 = (A2 @ W3) + b3\n",
        "  y = identity_function(Z3)\n",
        "  \n",
        "  return y"
      ],
      "execution_count": 27,
      "outputs": []
    },
    {
      "cell_type": "code",
      "metadata": {
        "colab": {
          "base_uri": "https://localhost:8080/"
        },
        "id": "2EV-o4BUXf-t",
        "outputId": "e41a76f1-6c5d-4da0-e4ad-c0d33950ceef"
      },
      "source": [
        "network = init_network()\n",
        "x = np.array([1.0, 0.5])\n",
        "y = forward(network, x) \n",
        "print(y)"
      ],
      "execution_count": 33,
      "outputs": [
        {
          "output_type": "stream",
          "text": [
            "[0.31682708 0.69627909]\n"
          ],
          "name": "stdout"
        }
      ]
    },
    {
      "cell_type": "code",
      "metadata": {
        "id": "c0a0ItTQYxmQ"
      },
      "source": [
        ""
      ],
      "execution_count": null,
      "outputs": []
    }
  ]
}