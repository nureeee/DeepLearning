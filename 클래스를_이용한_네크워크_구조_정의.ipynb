{
  "nbformat": 4,
  "nbformat_minor": 0,
  "metadata": {
    "colab": {
      "name": "클래스를 이용한 네크워크 구조 정의",
      "provenance": [],
      "authorship_tag": "ABX9TyNhlYm3/bH88k5S0QmYj2bV",
      "include_colab_link": true
    },
    "kernelspec": {
      "name": "python3",
      "display_name": "Python 3"
    },
    "language_info": {
      "name": "python"
    }
  },
  "cells": [
    {
      "cell_type": "markdown",
      "metadata": {
        "id": "view-in-github",
        "colab_type": "text"
      },
      "source": [
        "<a href=\"https://colab.research.google.com/github/nureeee/DeepLearning/blob/main/%ED%81%B4%EB%9E%98%EC%8A%A4%EB%A5%BC_%EC%9D%B4%EC%9A%A9%ED%95%9C_%EB%84%A4%ED%81%AC%EC%9B%8C%ED%81%AC_%EA%B5%AC%EC%A1%B0_%EC%A0%95%EC%9D%98.ipynb\" target=\"_parent\"><img src=\"https://colab.research.google.com/assets/colab-badge.svg\" alt=\"Open In Colab\"/></a>"
      ]
    },
    {
      "cell_type": "markdown",
      "metadata": {
        "id": "WaZdz-z6z_Nc"
      },
      "source": [
        "# 사용자 정의 모델링\n",
        "* tf.keras.model 클래스를 상속 받아서 모델을 구현할 수 있다.\n",
        "  * 생성자  __init__ 함수에서는 사용할 레이어를 정의합니다.\n",
        "  * call() 함수 에서는 __init__에서 정의한 레이어를 엮어줍니다."
      ]
    },
    {
      "cell_type": "code",
      "metadata": {
        "id": "hC2lntxz017P"
      },
      "source": [
        "import tensorflow as tf"
      ],
      "execution_count": 1,
      "outputs": []
    },
    {
      "cell_type": "code",
      "metadata": {
        "id": "w7MKJzd806mP"
      },
      "source": [
        "class MyModel(tf.keras.Model):\n",
        "    ## __init__에서는 사용할 레이어들을 정의만 한다\n",
        "    def __init__(self):\n",
        "        super(MyModel, self).__init__() # 현재 클래스에 대한 내용을 부모클래스에 넣는다.\n",
        "        # 부모클래스를 호출하면 강제로 부모클래스의 객체가 생성된다??\n",
        "        self.flatten = tf.keras.layers.Flatten(input_shape=(28, 28))\n",
        "        self.d1 = tf.keras.layers.Dense(128, activation='relu')\n",
        "        self.d2 = tf.keras.layers.Dense(10, activation='softmax')\n",
        "\n",
        "    # call에서는 __init__에서 정의한 레이어를 엮어준다. 결과를 반드시 리턴해야된다\n",
        "    def call(self, x):\n",
        "        x = self.flatten(x)\n",
        "        x = self.d1(x)\n",
        "        out = self.d2(x)\n",
        "        return out\n",
        "    "
      ],
      "execution_count": 24,
      "outputs": []
    },
    {
      "cell_type": "markdown",
      "metadata": {
        "id": "CCMUEl4L3W9d"
      },
      "source": [
        "# 학습 루프 정의하기"
      ]
    },
    {
      "cell_type": "code",
      "metadata": {
        "id": "L8Wz4oa43cwP"
      },
      "source": [
        "@tf.function\n",
        "def train_step(model, images, labels, loss_object, optimizer, train_loss, train_accuracy):\n",
        "    \n",
        "    \n",
        "    \n",
        "    \n",
        "    with tf.GradientTape() as tape:\n",
        "        prediction = model(images)\n",
        "        loss = loss_object(labels, prediction)\n",
        "\n",
        "    grads = tape.gradient(loss, model.trainable_variables)\n",
        "\n",
        "    optimizer.apply_gradients(zip(grads, model.trainable_variables))\n",
        "\n",
        "    train_loss(loss)\n",
        "    train_accuracy(labels, prediction)\n"
      ],
      "execution_count": 33,
      "outputs": []
    },
    {
      "cell_type": "markdown",
      "metadata": {
        "id": "DO2pVWyO5b7i"
      },
      "source": [
        "# 테스트 루프 정의하기"
      ]
    },
    {
      "cell_type": "code",
      "metadata": {
        "id": "ADgtqG7_49_Z"
      },
      "source": [
        "@tf.function\n",
        "def test_step(model, images, labels, loss_object, test_loss, test_accuarcy):\n",
        "    prediction = model(images)\n",
        "\n",
        "    t_loss = loss_object(labels, prediction)\n",
        "\n",
        "    test_loss(t_loss)\n",
        "    test_accuarcy(labels, prediction)"
      ],
      "execution_count": 34,
      "outputs": []
    },
    {
      "cell_type": "markdown",
      "metadata": {
        "id": "-KHSt9pP5gGP"
      },
      "source": [
        "# 데이터 세트 로딩 및 전처리"
      ]
    },
    {
      "cell_type": "code",
      "metadata": {
        "id": "JSkxx4HV5kiu"
      },
      "source": [
        "mnist = tf.keras.datasets.mnist\n",
        "\n",
        "(X_train, y_train), (X_test, y_test) = mnist.load_data()\n",
        "\n",
        "X_train, X_test = X_train / 255.0 , X_test / 255.0\n",
        "\n",
        "X_train = X_train[..., tf.newaxis]\n",
        "X_test = X_test[..., tf.newaxis]\n",
        "\n",
        "train_ds = tf.data.Dataset.from_tensor_slices((X_train, y_train)).shuffle(1024).batch(32)\n",
        "test_ds = tf.data.Dataset.from_tensor_slices((X_train, y_train)).batch(32)"
      ],
      "execution_count": 35,
      "outputs": []
    },
    {
      "cell_type": "markdown",
      "metadata": {
        "id": "T0xvQYUE6aEg"
      },
      "source": [
        "# 모델 생성 (네트워크 생성)"
      ]
    },
    {
      "cell_type": "code",
      "metadata": {
        "id": "M0Mb99Ee6dqo"
      },
      "source": [
        "model = MyModel()"
      ],
      "execution_count": 36,
      "outputs": []
    },
    {
      "cell_type": "markdown",
      "metadata": {
        "id": "Bdu7izY_6guG"
      },
      "source": [
        "# 손실함수, 최적화 선택하기"
      ]
    },
    {
      "cell_type": "code",
      "metadata": {
        "id": "YvV9NdPj6oGs"
      },
      "source": [
        "loss_object = tf.keras.losses.SparseCategoricalCrossentropy()\n",
        "optimizer = tf.keras.optimizers.Adam()"
      ],
      "execution_count": 37,
      "outputs": []
    },
    {
      "cell_type": "code",
      "metadata": {
        "id": "T5vLiL3_7VjC"
      },
      "source": [
        "#"
      ],
      "execution_count": 38,
      "outputs": []
    },
    {
      "cell_type": "code",
      "metadata": {
        "id": "pn2SGCZM60l1"
      },
      "source": [
        "train_loss = tf.keras.metrics.Mean(name='train_loss')\n",
        "train_accuracy = tf.keras.metrics.SparseCategoricalAccuracy(name='train_accuracy')\n",
        "\n",
        "test_loss = tf.keras.metrics.Mean(name='test_loss')\n",
        "test_accuracy = tf.keras.metrics.SparseCategoricalAccuracy(name='test_accuracy')"
      ],
      "execution_count": 39,
      "outputs": []
    },
    {
      "cell_type": "markdown",
      "metadata": {
        "id": "NlHWnU847TSM"
      },
      "source": [
        "# 학습 진행"
      ]
    },
    {
      "cell_type": "code",
      "metadata": {
        "colab": {
          "base_uri": "https://localhost:8080/"
        },
        "id": "gw5MPWRk7XEz",
        "outputId": "85ac731d-fcad-4f81-dba1-fe52ac39aea8"
      },
      "source": [
        "EPOCHS = 10\n",
        "for epoch in range(EPOCHS):\n",
        "    for images, labels in train_ds:\n",
        "        train_step(model, images, labels, loss_object, optimizer, train_loss, train_accuracy)\n",
        "\n",
        "    for images, labels in test_ds:\n",
        "        test_step(model, images, labels, loss_object, test_loss, test_accuracy)\n",
        "\n",
        "    template = \"Epoch {}, Train Loss : {:.3f}, Train Accuracy : {:.3f} /// Test Loss : {:.3f}, Test Accuracy : {:.3f}\"\n",
        "    print(template.format(epoch + 1, train_loss.result(), train_accuracy.result() * 100, test_loss.result(), test_accuracy.result() * 100))"
      ],
      "execution_count": 42,
      "outputs": [
        {
          "output_type": "stream",
          "text": [
            "Epoch 1, Train Loss : 0.149, Train Accuracy : 95.668 /// Test Loss : 0.063, Test Accuracy : 97.980\n",
            "Epoch 2, Train Loss : 0.126, Train Accuracy : 96.325 /// Test Loss : 0.057, Test Accuracy : 98.189\n",
            "Epoch 3, Train Loss : 0.110, Train Accuracy : 96.796 /// Test Loss : 0.051, Test Accuracy : 98.388\n",
            "Epoch 4, Train Loss : 0.097, Train Accuracy : 97.152 /// Test Loss : 0.047, Test Accuracy : 98.478\n",
            "Epoch 5, Train Loss : 0.087, Train Accuracy : 97.441 /// Test Loss : 0.043, Test Accuracy : 98.627\n",
            "Epoch 6, Train Loss : 0.079, Train Accuracy : 97.680 /// Test Loss : 0.039, Test Accuracy : 98.729\n",
            "Epoch 7, Train Loss : 0.072, Train Accuracy : 97.874 /// Test Loss : 0.037, Test Accuracy : 98.804\n",
            "Epoch 8, Train Loss : 0.066, Train Accuracy : 98.043 /// Test Loss : 0.034, Test Accuracy : 98.895\n",
            "Epoch 9, Train Loss : 0.061, Train Accuracy : 98.184 /// Test Loss : 0.032, Test Accuracy : 98.966\n",
            "Epoch 10, Train Loss : 0.057, Train Accuracy : 98.309 /// Test Loss : 0.030, Test Accuracy : 99.016\n"
          ],
          "name": "stdout"
        }
      ]
    },
    {
      "cell_type": "code",
      "metadata": {
        "id": "cK_zG1rX8J5M"
      },
      "source": [
        ""
      ],
      "execution_count": 42,
      "outputs": []
    }
  ]
}