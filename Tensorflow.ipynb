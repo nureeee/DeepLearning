{
  "nbformat": 4,
  "nbformat_minor": 0,
  "metadata": {
    "colab": {
      "name": "Tensorflow.ipynb",
      "provenance": [],
      "authorship_tag": "ABX9TyMKRmc0v/wqdtzkEmr3o6hH",
      "include_colab_link": true
    },
    "kernelspec": {
      "name": "python3",
      "display_name": "Python 3"
    },
    "language_info": {
      "name": "python"
    },
    "accelerator": "GPU"
  },
  "cells": [
    {
      "cell_type": "markdown",
      "metadata": {
        "id": "view-in-github",
        "colab_type": "text"
      },
      "source": [
        "<a href=\"https://colab.research.google.com/github/nureeee/DeepLearning/blob/main/Tensorflow.ipynb\" target=\"_parent\"><img src=\"https://colab.research.google.com/assets/colab-badge.svg\" alt=\"Open In Colab\"/></a>"
      ]
    },
    {
      "cell_type": "markdown",
      "metadata": {
        "id": "sKtV7dlYX6oy"
      },
      "source": [
        "# Tensorflow\n",
        " * 계산할 내용들을 미리 정리를 해 놓고 실제 계산이 필요한 순간(훈련)에 데이터(배열)을 흘려 보낸다."
      ]
    },
    {
      "cell_type": "markdown",
      "metadata": {
        "id": "Z_H2ioN7Zc1-"
      },
      "source": [
        "* 파이썬 환경에 텐서플로우라는 세션을 따로 만든 것??\n",
        "* 텐서플로우 세센 안에 모델을 만듬?\n",
        "* 안에 평가 방식, 옵션 지표들을 설정해 준다.\n",
        "* 텐서플로우 안의 모델이 그래프이다."
      ]
    },
    {
      "cell_type": "markdown",
      "metadata": {
        "id": "z0V2Tz7Ea0Fl"
      },
      "source": [
        "**Tensorflow 기본사용방법**"
      ]
    },
    {
      "cell_type": "code",
      "metadata": {
        "id": "Jw1rVmzfa6v1"
      },
      "source": [
        "import numpy as np\n",
        "import tensorflow as tf"
      ],
      "execution_count": 1,
      "outputs": []
    },
    {
      "cell_type": "code",
      "metadata": {
        "id": "W9uEaL1obCWu"
      },
      "source": [
        "# Tensor 만들기"
      ],
      "execution_count": 2,
      "outputs": []
    },
    {
      "cell_type": "markdown",
      "metadata": {
        "id": "yjTw0bVqbHX_"
      },
      "source": [
        "tf.constant()\n",
        " * list -> Tensor"
      ]
    },
    {
      "cell_type": "code",
      "metadata": {
        "colab": {
          "base_uri": "https://localhost:8080/"
        },
        "id": "TrjVBrSlbPNM",
        "outputId": "9cf4bc5e-3e3f-469f-da9e-df50d25861dd"
      },
      "source": [
        "tf.constant([1, 2, 3])"
      ],
      "execution_count": 3,
      "outputs": [
        {
          "output_type": "execute_result",
          "data": {
            "text/plain": [
              "<tf.Tensor: shape=(3,), dtype=int32, numpy=array([1, 2, 3], dtype=int32)>"
            ]
          },
          "metadata": {
            "tags": []
          },
          "execution_count": 3
        }
      ]
    },
    {
      "cell_type": "markdown",
      "metadata": {
        "id": "yOUbhmjZbUM2"
      },
      "source": [
        "* tuple -> Tensor"
      ]
    },
    {
      "cell_type": "code",
      "metadata": {
        "colab": {
          "base_uri": "https://localhost:8080/"
        },
        "id": "bV84-d0Kbcle",
        "outputId": "1d079065-bb7b-4787-94c4-f481ec4ee7dd"
      },
      "source": [
        "tf.constant(((1, 2, 3),\n",
        "            (4, 5, 6)))"
      ],
      "execution_count": 4,
      "outputs": [
        {
          "output_type": "execute_result",
          "data": {
            "text/plain": [
              "<tf.Tensor: shape=(2, 3), dtype=int32, numpy=\n",
              "array([[1, 2, 3],\n",
              "       [4, 5, 6]], dtype=int32)>"
            ]
          },
          "metadata": {
            "tags": []
          },
          "execution_count": 4
        }
      ]
    },
    {
      "cell_type": "markdown",
      "metadata": {
        "id": "JnmO58uXblMd"
      },
      "source": [
        "텐서플로우에 넘파이 배열을 넣어도 잘 된다."
      ]
    },
    {
      "cell_type": "markdown",
      "metadata": {
        "id": "FEuoN2gbbs8l"
      },
      "source": [
        "* ndarray -> Tensor"
      ]
    },
    {
      "cell_type": "code",
      "metadata": {
        "colab": {
          "base_uri": "https://localhost:8080/"
        },
        "id": "65ja-6s-b2NV",
        "outputId": "f489ca0e-af30-4b9c-f0f5-cfefbbb78d29"
      },
      "source": [
        "arr = np.array([1, 2, 3])\n",
        "tf.constant(arr)"
      ],
      "execution_count": 5,
      "outputs": [
        {
          "output_type": "execute_result",
          "data": {
            "text/plain": [
              "<tf.Tensor: shape=(3,), dtype=int64, numpy=array([1, 2, 3])>"
            ]
          },
          "metadata": {
            "tags": []
          },
          "execution_count": 5
        }
      ]
    },
    {
      "cell_type": "markdown",
      "metadata": {
        "id": "1U6OavFhb8fO"
      },
      "source": [
        "# Tensor 정보확인"
      ]
    },
    {
      "cell_type": "code",
      "metadata": {
        "colab": {
          "base_uri": "https://localhost:8080/"
        },
        "id": "zEEsyLL_cIlt",
        "outputId": "6fc22edc-cea1-425c-b9a3-d9669b4e6f7d"
      },
      "source": [
        "tensor = tf.constant([1, 2, 3])\n",
        "tensor"
      ],
      "execution_count": 6,
      "outputs": [
        {
          "output_type": "execute_result",
          "data": {
            "text/plain": [
              "<tf.Tensor: shape=(3,), dtype=int32, numpy=array([1, 2, 3], dtype=int32)>"
            ]
          },
          "metadata": {
            "tags": []
          },
          "execution_count": 6
        }
      ]
    },
    {
      "cell_type": "markdown",
      "metadata": {
        "id": "Pf8yY_2YcN2W"
      },
      "source": [
        "**shape**확인하기"
      ]
    },
    {
      "cell_type": "code",
      "metadata": {
        "colab": {
          "base_uri": "https://localhost:8080/"
        },
        "id": "Yh9qeQ59cW99",
        "outputId": "a9e96c62-f0a8-499d-d8c2-c4942bce55d4"
      },
      "source": [
        "tensor.shape # 넘파이와 똑같이 확인"
      ],
      "execution_count": 7,
      "outputs": [
        {
          "output_type": "execute_result",
          "data": {
            "text/plain": [
              "TensorShape([3])"
            ]
          },
          "metadata": {
            "tags": []
          },
          "execution_count": 7
        }
      ]
    },
    {
      "cell_type": "markdown",
      "metadata": {
        "id": "kT1CqqN2cbU4"
      },
      "source": [
        "**dtype** 확인하기"
      ]
    },
    {
      "cell_type": "code",
      "metadata": {
        "colab": {
          "base_uri": "https://localhost:8080/"
        },
        "id": "UOx1WtFFcfCN",
        "outputId": "0df53c38-4e28-461a-bfed-2e584df25439"
      },
      "source": [
        "tensor.dtype"
      ],
      "execution_count": 8,
      "outputs": [
        {
          "output_type": "execute_result",
          "data": {
            "text/plain": [
              "tf.int32"
            ]
          },
          "metadata": {
            "tags": []
          },
          "execution_count": 8
        }
      ]
    },
    {
      "cell_type": "markdown",
      "metadata": {
        "id": "_IWHmnGichX1"
      },
      "source": [
        "Tensor를 생성하면서 dtype 정의해 주기"
      ]
    },
    {
      "cell_type": "code",
      "metadata": {
        "colab": {
          "base_uri": "https://localhost:8080/"
        },
        "id": "wi3Q9asbcojN",
        "outputId": "8b321ab7-eb4d-4b96-86db-fec5c21a2d5a"
      },
      "source": [
        "tensor = tf.constant([1, 2, 3], dtype=tf.float32)\n",
        "tensor"
      ],
      "execution_count": 9,
      "outputs": [
        {
          "output_type": "execute_result",
          "data": {
            "text/plain": [
              "<tf.Tensor: shape=(3,), dtype=float32, numpy=array([1., 2., 3.], dtype=float32)>"
            ]
          },
          "metadata": {
            "tags": []
          },
          "execution_count": 9
        }
      ]
    },
    {
      "cell_type": "code",
      "metadata": {
        "colab": {
          "base_uri": "https://localhost:8080/"
        },
        "id": "mRlSkSLic1mF",
        "outputId": "c1f852bc-2c06-43c3-819c-cc49cb4d4272"
      },
      "source": [
        "tensor"
      ],
      "execution_count": 10,
      "outputs": [
        {
          "output_type": "execute_result",
          "data": {
            "text/plain": [
              "<tf.Tensor: shape=(3,), dtype=float32, numpy=array([1., 2., 3.], dtype=float32)>"
            ]
          },
          "metadata": {
            "tags": []
          },
          "execution_count": 10
        }
      ]
    },
    {
      "cell_type": "markdown",
      "metadata": {
        "id": "C-4J06Fdc6_t"
      },
      "source": [
        "tensor dtype 변환하기\n",
        "* numpy 에서는 astype\n",
        "* tensorflow 에서는 cast사용"
      ]
    },
    {
      "cell_type": "code",
      "metadata": {
        "colab": {
          "base_uri": "https://localhost:8080/"
        },
        "id": "CZZxRxvKdKc9",
        "outputId": "9cb65843-69f5-45a6-c76d-81bebe359fcc"
      },
      "source": [
        "tf.cast(tensor, dtype=tf.uint8)"
      ],
      "execution_count": 12,
      "outputs": [
        {
          "output_type": "execute_result",
          "data": {
            "text/plain": [
              "<tf.Tensor: shape=(3,), dtype=uint8, numpy=array([1, 2, 3], dtype=uint8)>"
            ]
          },
          "metadata": {
            "tags": []
          },
          "execution_count": 12
        }
      ]
    },
    {
      "cell_type": "code",
      "metadata": {
        "colab": {
          "base_uri": "https://localhost:8080/"
        },
        "id": "4AIImdl9dRIV",
        "outputId": "d581264f-cbdb-4627-dd6f-471f11f57941"
      },
      "source": [
        "tensor.numpy()"
      ],
      "execution_count": 13,
      "outputs": [
        {
          "output_type": "execute_result",
          "data": {
            "text/plain": [
              "array([1., 2., 3.], dtype=float32)"
            ]
          },
          "metadata": {
            "tags": []
          },
          "execution_count": 13
        }
      ]
    },
    {
      "cell_type": "code",
      "metadata": {
        "colab": {
          "base_uri": "https://localhost:8080/"
        },
        "id": "AMTkCcAJddDF",
        "outputId": "d5eba949-6087-49ae-8d9a-058e7832c614"
      },
      "source": [
        "np.array(tensor)"
      ],
      "execution_count": 14,
      "outputs": [
        {
          "output_type": "execute_result",
          "data": {
            "text/plain": [
              "array([1., 2., 3.], dtype=float32)"
            ]
          },
          "metadata": {
            "tags": []
          },
          "execution_count": 14
        }
      ]
    },
    {
      "cell_type": "markdown",
      "metadata": {
        "id": "-gVXrgmbdfnG"
      },
      "source": [
        "# Tensorflow 난수 생성"
      ]
    },
    {
      "cell_type": "markdown",
      "metadata": {
        "id": "wztw9ZzMdmJM"
      },
      "source": [
        "* numpy에서 정규 분포 : np.random.randn\n",
        "* tensorflow 에서는 정규분포 : tf.random.nomal"
      ]
    },
    {
      "cell_type": "code",
      "metadata": {
        "colab": {
          "base_uri": "https://localhost:8080/"
        },
        "id": "poWsJhfidyvs",
        "outputId": "f430d5eb-6ec2-4980-9c6b-68b9e953908b"
      },
      "source": [
        "tf.random.normal([3, 3])"
      ],
      "execution_count": 15,
      "outputs": [
        {
          "output_type": "execute_result",
          "data": {
            "text/plain": [
              "<tf.Tensor: shape=(3, 3), dtype=float32, numpy=\n",
              "array([[ 0.31860247, -0.84452426, -1.1078489 ],\n",
              "       [ 0.2993421 ,  0.93404776,  0.39097193],\n",
              "       [-0.26325005,  1.1937352 ,  0.2610934 ]], dtype=float32)>"
            ]
          },
          "metadata": {
            "tags": []
          },
          "execution_count": 15
        }
      ]
    },
    {
      "cell_type": "code",
      "metadata": {
        "colab": {
          "base_uri": "https://localhost:8080/"
        },
        "id": "-_JeF1QGd59N",
        "outputId": "01f71ef2-3b06-4aae-9d28-5a3519007f85"
      },
      "source": [
        "# 균등분포\n",
        "tf.random.uniform([3, 3])"
      ],
      "execution_count": 16,
      "outputs": [
        {
          "output_type": "execute_result",
          "data": {
            "text/plain": [
              "<tf.Tensor: shape=(3, 3), dtype=float32, numpy=\n",
              "array([[0.5874375 , 0.25248134, 0.32919526],\n",
              "       [0.17729414, 0.33525085, 0.7418909 ],\n",
              "       [0.22209477, 0.54085696, 0.14098144]], dtype=float32)>"
            ]
          },
          "metadata": {
            "tags": []
          },
          "execution_count": 16
        }
      ]
    },
    {
      "cell_type": "code",
      "metadata": {
        "colab": {
          "base_uri": "https://localhost:8080/",
          "height": 232
        },
        "id": "m_bN23WDeB-V",
        "outputId": "b1f24373-5143-457e-e274-c0a661e316bd"
      },
      "source": [
        "# tensorflow 배열은 수정 불가!\n",
        "# 반드시 tensorflow의 session의 variable만 수정 가능\n",
        "tensor[0] = 1 # 불가능!!"
      ],
      "execution_count": 17,
      "outputs": [
        {
          "output_type": "error",
          "ename": "TypeError",
          "evalue": "ignored",
          "traceback": [
            "\u001b[0;31m---------------------------------------------------------------------------\u001b[0m",
            "\u001b[0;31mTypeError\u001b[0m                                 Traceback (most recent call last)",
            "\u001b[0;32m<ipython-input-17-77841707ddad>\u001b[0m in \u001b[0;36m<module>\u001b[0;34m()\u001b[0m\n\u001b[1;32m      1\u001b[0m \u001b[0;31m# tensorflow 배열은 수정 불가!\u001b[0m\u001b[0;34m\u001b[0m\u001b[0;34m\u001b[0m\u001b[0;34m\u001b[0m\u001b[0m\n\u001b[1;32m      2\u001b[0m \u001b[0;31m# 반드시 tensorflow의 session의 variable만 수정 가능\u001b[0m\u001b[0;34m\u001b[0m\u001b[0;34m\u001b[0m\u001b[0;34m\u001b[0m\u001b[0m\n\u001b[0;32m----> 3\u001b[0;31m \u001b[0mtensor\u001b[0m\u001b[0;34m[\u001b[0m\u001b[0;36m0\u001b[0m\u001b[0;34m]\u001b[0m \u001b[0;34m=\u001b[0m \u001b[0;36m1\u001b[0m \u001b[0;31m# 불가능!!\u001b[0m\u001b[0;34m\u001b[0m\u001b[0;34m\u001b[0m\u001b[0m\n\u001b[0m",
            "\u001b[0;31mTypeError\u001b[0m: 'tensorflow.python.framework.ops.EagerTensor' object does not support item assignment"
          ]
        }
      ]
    },
    {
      "cell_type": "markdown",
      "metadata": {
        "id": "K0tLfQrKeYcu"
      },
      "source": [
        "# keras로 MNIST 분류 모델링 수행하기"
      ]
    },
    {
      "cell_type": "markdown",
      "metadata": {
        "id": "DIJJjszfezte"
      },
      "source": [
        "## MNIST 손글씨 데이터 세트 불러오기"
      ]
    },
    {
      "cell_type": "code",
      "metadata": {
        "id": "i47Djzs3e8ic"
      },
      "source": [
        "import tensorflow as tf\n",
        "from tensorflow.keras import datasets"
      ],
      "execution_count": 19,
      "outputs": []
    },
    {
      "cell_type": "code",
      "metadata": {
        "colab": {
          "base_uri": "https://localhost:8080/"
        },
        "id": "iacIkrFEfFuc",
        "outputId": "2ba12eb1-f43d-4073-cce6-f74853b3c784"
      },
      "source": [
        "mnist = datasets.mnist\n",
        "(X_train, y_train), (X_test, y_test) = mnist.load_data()"
      ],
      "execution_count": 20,
      "outputs": [
        {
          "output_type": "stream",
          "text": [
            "Downloading data from https://storage.googleapis.com/tensorflow/tf-keras-datasets/mnist.npz\n",
            "11493376/11490434 [==============================] - 0s 0us/step\n"
          ],
          "name": "stdout"
        }
      ]
    },
    {
      "cell_type": "code",
      "metadata": {
        "colab": {
          "base_uri": "https://localhost:8080/"
        },
        "id": "tUXRTwdzfUQs",
        "outputId": "68d94518-6023-45cc-8f14-399334b48335"
      },
      "source": [
        "X_train.shape, y_train.shape"
      ],
      "execution_count": 21,
      "outputs": [
        {
          "output_type": "execute_result",
          "data": {
            "text/plain": [
              "((60000, 28, 28), (60000,))"
            ]
          },
          "metadata": {
            "tags": []
          },
          "execution_count": 21
        }
      ]
    },
    {
      "cell_type": "markdown",
      "metadata": {
        "id": "5X5rSeuSfbgk"
      },
      "source": [
        "**Fully Connected Layer**를 사용하기 위해 평탄화, 필요에 따라 OHE을 진행"
      ]
    },
    {
      "cell_type": "markdown",
      "metadata": {
        "id": "yWeHH8prfmm7"
      },
      "source": [
        "# Keras란?\n",
        "* tensorflow를 기반으로 하는 유명한 논문, 레이어들을 구현을 해 놓은 패키지"
      ]
    },
    {
      "cell_type": "markdown",
      "metadata": {
        "id": "U6hbkCtzfynV"
      },
      "source": [
        "# Fully Connected layer 모델링 하기\n",
        "* 레이어들은 tf.keras.layers 패키지에 모두 들어 있음\n",
        "* Flatten Layer : 배치를 제외한 평탄화 담당\n",
        "* Dense Layer : Affine 연산을 담당\n",
        "* Activation Layer : 활성화 함수 레이어 (선택에 따라서 사용을 안할 수도 있다.)\n"
      ]
    },
    {
      "cell_type": "code",
      "metadata": {
        "id": "2Dnv40OUg7y0"
      },
      "source": [
        "X_train = X_train /255.0\n",
        "X_test = X_test / 255.0"
      ],
      "execution_count": 22,
      "outputs": []
    },
    {
      "cell_type": "code",
      "metadata": {
        "colab": {
          "base_uri": "https://localhost:8080/"
        },
        "id": "g1NIJQVPhDmk",
        "outputId": "0a075b97-0805-43ec-d10c-8a2650589929"
      },
      "source": [
        "from tensorflow.keras.layers import Dense, Flatten, Activation, Input\n",
        "\n",
        "# 입력층\n",
        "input = Input(shape=(28, 28)) \n",
        "net = Flatten()(input) # 평탄화가 된 내용 저장됨\n",
        "\n",
        "# Flatten은 클래스의 형식이지만 함수처럼 사용??\n",
        "# net은 객체??\n",
        "#은닉층\n",
        "net = Dense(512)(net) # 512개의 뉴러느이 가진 텐서\n",
        "net = Activation('relu')(net)\n",
        "\n",
        "net = Dense(256)(net)\n",
        "net = Activation('relu')(net)\n",
        "\n",
        "# 출력층\n",
        "net = Dense(10)(net)\n",
        "net = Activation('softmax')(net)\n",
        "\n",
        "# 모델 생성 - 계산 그래프가 세션 내에 생성된다.\n",
        "model = tf.keras.Model(inputs=input, outputs=net, name='BASIC_MNIST' )\n",
        "model.summary() # 모델 요약"
      ],
      "execution_count": 30,
      "outputs": [
        {
          "output_type": "stream",
          "text": [
            "Model: \"BASIC_MNIST\"\n",
            "_________________________________________________________________\n",
            "Layer (type)                 Output Shape              Param #   \n",
            "=================================================================\n",
            "input_6 (InputLayer)         [(None, 28, 28)]          0         \n",
            "_________________________________________________________________\n",
            "flatten_5 (Flatten)          (None, 784)               0         \n",
            "_________________________________________________________________\n",
            "dense_5 (Dense)              (None, 512)               401920    \n",
            "_________________________________________________________________\n",
            "activation_3 (Activation)    (None, 512)               0         \n",
            "_________________________________________________________________\n",
            "dense_6 (Dense)              (None, 256)               131328    \n",
            "_________________________________________________________________\n",
            "activation_4 (Activation)    (None, 256)               0         \n",
            "_________________________________________________________________\n",
            "dense_7 (Dense)              (None, 10)                2570      \n",
            "_________________________________________________________________\n",
            "activation_5 (Activation)    (None, 10)                0         \n",
            "=================================================================\n",
            "Total params: 535,818\n",
            "Trainable params: 535,818\n",
            "Non-trainable params: 0\n",
            "_________________________________________________________________\n"
          ],
          "name": "stdout"
        }
      ]
    },
    {
      "cell_type": "markdown",
      "metadata": {
        "id": "AvwS-p3ohZiU"
      },
      "source": [
        "# 최적화 계획 세우기\n",
        "* Loss Function(손실함수) - MSe, CEE를 쓸지를 결정\n",
        "* Optimization (최적화 함수) - SGD, ADAM, RMsprop을 쓸지를 결정\n",
        "* Metrics - 테스트 세트에 대한 평가 기준"
      ]
    },
    {
      "cell_type": "markdown",
      "metadata": {
        "id": "YaMfiu2coRkK"
      },
      "source": [
        "## Loss Function 선정 기준\n",
        "**외우기**\n",
        "* 이진 분류를 수행하는 경우 ( Binary Classification )\n",
        "  * mse : 출력층의 뉴런이 1개인 경우 - with sigmoid\n",
        "  * cross entropy error : 출력층의 뉴런이 2개인 경우  with softmax (제일 자주 사용되는 방법)\n",
        "   * binary_crossentropy를 사용하면 된다.\n",
        "* 다중 분류를 수행하는 경우 (Multiclass Classification)\n",
        "  * cross entropy error : 출력층의 뉴런을 클래스의 개수만큼 설정\n",
        "   * categorical_crossentropy를 사용하면 된다.\n"
      ]
    },
    {
      "cell_type": "markdown",
      "metadata": {
        "id": "MFNlfUtCpaja"
      },
      "source": [
        "## Categorical Cross Entropy의 종류\n",
        "* Label이 [0, 1, 2] 처럼 원핫인코딩이 되어있지 않은 경우\n",
        " * sparse_categorical_crossentropy를 사용\n",
        "* Label이 원핫인코딩이 되어있는 경우\n",
        " * categorical_crossentropy를 사용"
      ]
    },
    {
      "cell_type": "markdown",
      "metadata": {
        "id": "7dxpOrTKp_JK"
      },
      "source": [
        "**y_train**을 확인해서 어떤 Loss Function을 사용할 지 결정해 보자\n"
      ]
    },
    {
      "cell_type": "code",
      "metadata": {
        "colab": {
          "base_uri": "https://localhost:8080/"
        },
        "id": "koJtbZpvqJJy",
        "outputId": "0b9d96cd-dffc-49ac-f750-a5708c36415f"
      },
      "source": [
        "y_train.shape"
      ],
      "execution_count": 31,
      "outputs": [
        {
          "output_type": "execute_result",
          "data": {
            "text/plain": [
              "(60000,)"
            ]
          },
          "metadata": {
            "tags": []
          },
          "execution_count": 31
        }
      ]
    },
    {
      "cell_type": "code",
      "metadata": {
        "colab": {
          "base_uri": "https://localhost:8080/"
        },
        "id": "8RAixK1aqLz0",
        "outputId": "0b436b89-8172-49fc-9719-b0e50e437538"
      },
      "source": [
        "y_train[:3]"
      ],
      "execution_count": 32,
      "outputs": [
        {
          "output_type": "execute_result",
          "data": {
            "text/plain": [
              "array([5, 0, 4], dtype=uint8)"
            ]
          },
          "metadata": {
            "tags": []
          },
          "execution_count": 32
        }
      ]
    },
    {
      "cell_type": "markdown",
      "metadata": {
        "id": "zXYrbxfpqOLC"
      },
      "source": [
        "y_train 확인결과 원핫인코딩이 되어있지 않음\n",
        "sparse_categorical_crossentropy를 사용하거나,  \n",
        "\n",
        "y_train을 원핫인코딩한 다음 categorical_crossentropy사용\n"
      ]
    },
    {
      "cell_type": "code",
      "metadata": {
        "colab": {
          "base_uri": "https://localhost:8080/"
        },
        "id": "yacHTKLuqjqy",
        "outputId": "0869c653-857a-4722-a271-dac84d441c36"
      },
      "source": [
        "loss_func = tf.keras.losses.sparse_categorical_crossentropy\n",
        "loss_func"
      ],
      "execution_count": 33,
      "outputs": [
        {
          "output_type": "execute_result",
          "data": {
            "text/plain": [
              "<function tensorflow.python.keras.losses.sparse_categorical_crossentropy>"
            ]
          },
          "metadata": {
            "tags": []
          },
          "execution_count": 33
        }
      ]
    },
    {
      "cell_type": "code",
      "metadata": {
        "colab": {
          "base_uri": "https://localhost:8080/"
        },
        "id": "jq1o-z2mqvIC",
        "outputId": "7c01c505-9842-4383-cb70-80e0780d7b8b"
      },
      "source": [
        "# y_train이 원핫이코딩이 되어있느면 categorical_crossentropy 사용\n",
        "tf.keras.losses.categorical_crossentropy"
      ],
      "execution_count": 34,
      "outputs": [
        {
          "output_type": "execute_result",
          "data": {
            "text/plain": [
              "<function tensorflow.python.keras.losses.categorical_crossentropy>"
            ]
          },
          "metadata": {
            "tags": []
          },
          "execution_count": 34
        }
      ]
    },
    {
      "cell_type": "code",
      "metadata": {
        "colab": {
          "base_uri": "https://localhost:8080/"
        },
        "id": "LFnQ6M-Vq7py",
        "outputId": "88d63802-51fd-423c-e74b-f894898eba52"
      },
      "source": [
        "# 이진분류면 binary_crossentropy\n",
        "tf.keras.losses.binary_crossentropy"
      ],
      "execution_count": 36,
      "outputs": [
        {
          "output_type": "execute_result",
          "data": {
            "text/plain": [
              "<function tensorflow.python.keras.losses.binary_crossentropy>"
            ]
          },
          "metadata": {
            "tags": []
          },
          "execution_count": 36
        }
      ]
    },
    {
      "cell_type": "markdown",
      "metadata": {
        "id": "euC0bnarrHka"
      },
      "source": [
        "# Optimizer 설정하기\n",
        "* sgd : tf.keras.optimizers.SGD()\n",
        "* rmsprops : tf.keras.optimizers.RMSprop()\n",
        "* adam : tf.keras.optimizers.Adam() - 일반적으로 제일 많이 사용하는 최적화 기법,\n",
        "뭘쓸지 모르겠으면 adam 선택"
      ]
    },
    {
      "cell_type": "code",
      "metadata": {
        "colab": {
          "base_uri": "https://localhost:8080/"
        },
        "id": "0HTGkuaSr5Hs",
        "outputId": "c53a7a3d-557c-4b21-c928-fb4960487cea"
      },
      "source": [
        "optm = tf.keras.optimizers.Adam()\n",
        "optm"
      ],
      "execution_count": 37,
      "outputs": [
        {
          "output_type": "execute_result",
          "data": {
            "text/plain": [
              "<tensorflow.python.keras.optimizer_v2.adam.Adam at 0x7fc9c2ef8350>"
            ]
          },
          "metadata": {
            "tags": []
          },
          "execution_count": 37
        }
      ]
    },
    {
      "cell_type": "markdown",
      "metadata": {
        "id": "Cg8BjVaAsCQq"
      },
      "source": [
        "## 테스트 세트 평가방법 (Metrics)  선정하기\n",
        "* 테스트 세트의 평가방식(evaluate)"
      ]
    },
    {
      "cell_type": "markdown",
      "metadata": {
        "id": "Bir4c1VRsSRC"
      },
      "source": [
        "* loss는 훈련딘 데이터의 지표\n",
        "* test의 평가방식에는 loss를 구한다.\n",
        "* 훈련되기 위한 내용을 갱신하기 위해 loss를 구함\n",
        "* 분류문제에서 테스트 평가 방식에는 rmse사용 안함"
      ]
    },
    {
      "cell_type": "code",
      "metadata": {
        "id": "i-1NaZRKt7gB"
      },
      "source": [
        "metrics = ['accuracy']\n",
        "# metrics = ['acc']\n",
        "# metrics = ['tf.keras.metrics.Accuracy']"
      ],
      "execution_count": 38,
      "outputs": []
    },
    {
      "cell_type": "markdown",
      "metadata": {
        "id": "PQ6lnescuMD5"
      },
      "source": [
        "# 모델 컴파일\n",
        "* 텐서프로우 세션에 위치한 게사 ㄴ그래프에 데이터를 집어넣기 직전 작업을 완료\n",
        "* 손실함수, 최적화 평가방법을 계산그래프에 적용"
      ]
    },
    {
      "cell_type": "code",
      "metadata": {
        "id": "h7SplkR1ukAz"
      },
      "source": [
        "model.compile(\n",
        "    optimizer=optm,\n",
        "    loss=loss_func,\n",
        "    metrics=metrics\n",
        ")"
      ],
      "execution_count": 39,
      "outputs": []
    },
    {
      "cell_type": "markdown",
      "metadata": {
        "id": "qnlENQ0muxnx"
      },
      "source": [
        "# 훈련용 하이퍼 파라미터 설정\n",
        " * 에폭 횟수(num_epochs)\n",
        " * 배치크기(batch_size)\n"
      ]
    },
    {
      "cell_type": "code",
      "metadata": {
        "id": "XJ3uNQdlvExw"
      },
      "source": [
        "num_epochs = 10\n",
        "batch_size = 32"
      ],
      "execution_count": 41,
      "outputs": []
    },
    {
      "cell_type": "markdown",
      "metadata": {
        "id": "hkZSYnzBvMvY"
      },
      "source": [
        "# 훈련시작\n",
        " * fit"
      ]
    },
    {
      "cell_type": "code",
      "metadata": {
        "colab": {
          "base_uri": "https://localhost:8080/"
        },
        "id": "GKadeGVtvRHi",
        "outputId": "96ee5ddb-2ba2-43af-f442-6d09a153e898"
      },
      "source": [
        "model.fit(\n",
        "    X_train, # feature\n",
        "    y_train, # target\n",
        "    batch_size=batch_size, # 배치 사이즈\n",
        "    epochs=num_epochs, # 에폭 횟수\n",
        "    shuffle=True, # 데이터를 섞어가면서 훈련\n",
        "    validation_split=0.2 # 검증 세트 비율\n",
        ")"
      ],
      "execution_count": 43,
      "outputs": [
        {
          "output_type": "stream",
          "text": [
            "Epoch 1/10\n",
            "1500/1500 [==============================] - 11s 7ms/step - loss: 0.2023 - accuracy: 0.9388 - val_loss: 0.1295 - val_accuracy: 0.9596\n",
            "Epoch 2/10\n",
            "1500/1500 [==============================] - 10s 7ms/step - loss: 0.0831 - accuracy: 0.9742 - val_loss: 0.1131 - val_accuracy: 0.9672\n",
            "Epoch 3/10\n",
            "1500/1500 [==============================] - 10s 7ms/step - loss: 0.0602 - accuracy: 0.9810 - val_loss: 0.0863 - val_accuracy: 0.9726\n",
            "Epoch 4/10\n",
            "1500/1500 [==============================] - 10s 7ms/step - loss: 0.0426 - accuracy: 0.9867 - val_loss: 0.1132 - val_accuracy: 0.9698\n",
            "Epoch 5/10\n",
            "1500/1500 [==============================] - 10s 7ms/step - loss: 0.0356 - accuracy: 0.9887 - val_loss: 0.1164 - val_accuracy: 0.9686\n",
            "Epoch 6/10\n",
            "1500/1500 [==============================] - 11s 7ms/step - loss: 0.0276 - accuracy: 0.9913 - val_loss: 0.0961 - val_accuracy: 0.9765\n",
            "Epoch 7/10\n",
            "1500/1500 [==============================] - 10s 7ms/step - loss: 0.0269 - accuracy: 0.9915 - val_loss: 0.0859 - val_accuracy: 0.9793\n",
            "Epoch 8/10\n",
            "1500/1500 [==============================] - 10s 7ms/step - loss: 0.0216 - accuracy: 0.9928 - val_loss: 0.1053 - val_accuracy: 0.9781\n",
            "Epoch 9/10\n",
            "1500/1500 [==============================] - 11s 7ms/step - loss: 0.0179 - accuracy: 0.9944 - val_loss: 0.1185 - val_accuracy: 0.9760\n",
            "Epoch 10/10\n",
            "1500/1500 [==============================] - 10s 7ms/step - loss: 0.0172 - accuracy: 0.9945 - val_loss: 0.0991 - val_accuracy: 0.9792\n"
          ],
          "name": "stdout"
        },
        {
          "output_type": "execute_result",
          "data": {
            "text/plain": [
              "<tensorflow.python.keras.callbacks.History at 0x7fc9c2f82a10>"
            ]
          },
          "metadata": {
            "tags": []
          },
          "execution_count": 43
        }
      ]
    },
    {
      "cell_type": "code",
      "metadata": {
        "colab": {
          "base_uri": "https://localhost:8080/"
        },
        "id": "t7_6Xw_bv3Lx",
        "outputId": "806ce6cb-3bd1-49e3-d8c3-42bef39d2bb5"
      },
      "source": [
        "model.evaluate(X_test, y_test)"
      ],
      "execution_count": 45,
      "outputs": [
        {
          "output_type": "stream",
          "text": [
            "313/313 [==============================] - 1s 3ms/step - loss: 0.0997 - accuracy: 0.9799\n"
          ],
          "name": "stdout"
        },
        {
          "output_type": "execute_result",
          "data": {
            "text/plain": [
              "[0.09966485947370529, 0.9799000024795532]"
            ]
          },
          "metadata": {
            "tags": []
          },
          "execution_count": 45
        }
      ]
    },
    {
      "cell_type": "code",
      "metadata": {
        "colab": {
          "base_uri": "https://localhost:8080/"
        },
        "id": "w_p_UmJOzlZr",
        "outputId": "b76844ef-d8a7-4655-9d14-247e3c3a9f83"
      },
      "source": [
        "import tensorflow as tf\n",
        "from tensorflow.keras import datasets\n",
        "\n",
        "mnist = datasets.mnist\n",
        "(X_train, y_train), (X_test, y_test) = mnist.load_data()"
      ],
      "execution_count": 1,
      "outputs": [
        {
          "output_type": "stream",
          "text": [
            "Downloading data from https://storage.googleapis.com/tensorflow/tf-keras-datasets/mnist.npz\n",
            "11493376/11490434 [==============================] - 0s 0us/step\n"
          ],
          "name": "stdout"
        }
      ]
    },
    {
      "cell_type": "markdown",
      "metadata": {
        "id": "5OiS8Hs10PuR"
      },
      "source": [
        "# 필요한 레이어들 불러오기\n",
        "* Flatten\n",
        "* Dense\n",
        "* 레이어들을 순서대로 엮어줄 sequential 모델 가져오기\n",
        "  * ordersdDict의 역할\n",
        "* Input 레이어가 굳이 없어도 된다. 단 첫번째 레이어에 입력 데이터의 형상을 지정(input_shape)"
      ]
    },
    {
      "cell_type": "code",
      "metadata": {
        "id": "trWEZQHH0qdo"
      },
      "source": [
        "from tensorflow.keras.layers import Dense, Flatten\n",
        "from tensorflow.keras.models import Sequential"
      ],
      "execution_count": 2,
      "outputs": []
    },
    {
      "cell_type": "markdown",
      "metadata": {
        "id": "n1orzDDy1L5p"
      },
      "source": [
        "Sequential 모델링은 단순하게 파이썬의 리스트에 레이어를 추가시키는 개념"
      ]
    },
    {
      "cell_type": "code",
      "metadata": {
        "colab": {
          "base_uri": "https://localhost:8080/"
        },
        "id": "ZftU6dGV1TKv",
        "outputId": "1394661a-746d-4168-8248-0275fc331dfa"
      },
      "source": [
        "# 모델 안에 리스트 형태로 넣기\n",
        "model = Sequential([\n",
        "                    Flatten(input_shape=(28, 28)), # 자동으로 평탄화가 된다.\n",
        "                    Dense(512, activation='relu'),\n",
        "                    Dense(252, activation='relu'),\n",
        "                    Dense(98, activation='relu'),\n",
        "                    Dense(122, activation='relu'),\n",
        "                    Dense(32, activation='relu'),\n",
        "                    Dense(74, activation='relu'),\n",
        "                    Dense(11, activation='relu'),\n",
        "                    Dense(10, activation='softmax')\n",
        "])\n",
        "# 하나의 모델링을 할 때 사용가능\n",
        "\n",
        "model.summary()"
      ],
      "execution_count": 3,
      "outputs": [
        {
          "output_type": "stream",
          "text": [
            "Model: \"sequential\"\n",
            "_________________________________________________________________\n",
            "Layer (type)                 Output Shape              Param #   \n",
            "=================================================================\n",
            "flatten (Flatten)            (None, 784)               0         \n",
            "_________________________________________________________________\n",
            "dense (Dense)                (None, 512)               401920    \n",
            "_________________________________________________________________\n",
            "dense_1 (Dense)              (None, 252)               129276    \n",
            "_________________________________________________________________\n",
            "dense_2 (Dense)              (None, 98)                24794     \n",
            "_________________________________________________________________\n",
            "dense_3 (Dense)              (None, 122)               12078     \n",
            "_________________________________________________________________\n",
            "dense_4 (Dense)              (None, 32)                3936      \n",
            "_________________________________________________________________\n",
            "dense_5 (Dense)              (None, 74)                2442      \n",
            "_________________________________________________________________\n",
            "dense_6 (Dense)              (None, 11)                825       \n",
            "_________________________________________________________________\n",
            "dense_7 (Dense)              (None, 10)                120       \n",
            "=================================================================\n",
            "Total params: 575,391\n",
            "Trainable params: 575,391\n",
            "Non-trainable params: 0\n",
            "_________________________________________________________________\n"
          ],
          "name": "stdout"
        }
      ]
    },
    {
      "cell_type": "markdown",
      "metadata": {
        "id": "j4mGCHZ22K8v"
      },
      "source": [
        "모델 컴파일 "
      ]
    },
    {
      "cell_type": "code",
      "metadata": {
        "id": "l9S-Cvo02QCO"
      },
      "source": [
        "model.compile(\n",
        "    optimizer='adam',\n",
        "    loss='sparse_categorical_crossentropy',\n",
        "    metrics=['acc']\n",
        ")\n"
      ],
      "execution_count": 7,
      "outputs": []
    },
    {
      "cell_type": "markdown",
      "metadata": {
        "id": "jun5jA5h2gwP"
      },
      "source": [
        "훈련"
      ]
    },
    {
      "cell_type": "code",
      "metadata": {
        "colab": {
          "base_uri": "https://localhost:8080/"
        },
        "id": "kvEKtDxb2i2a",
        "outputId": "b7e5c954-aa8a-4c77-a8a5-f0d324b050c6"
      },
      "source": [
        "model.fit(\n",
        "    X_train,\n",
        "    y_train,\n",
        "    validation_data=(X_test, y_test),\n",
        "    epochs=15,\n",
        "    batch_size=32\n",
        ")"
      ],
      "execution_count": 8,
      "outputs": [
        {
          "output_type": "stream",
          "text": [
            "Epoch 1/15\n",
            "1875/1875 [==============================] - 8s 3ms/step - loss: 1.9310 - acc: 0.2601 - val_loss: 1.6604 - val_acc: 0.2879\n",
            "Epoch 2/15\n",
            "1875/1875 [==============================] - 5s 3ms/step - loss: 1.5799 - acc: 0.3765 - val_loss: 1.2052 - val_acc: 0.5349\n",
            "Epoch 3/15\n",
            "1875/1875 [==============================] - 5s 3ms/step - loss: 0.7841 - acc: 0.7574 - val_loss: 0.4084 - val_acc: 0.9244\n",
            "Epoch 4/15\n",
            "1875/1875 [==============================] - 5s 3ms/step - loss: 0.2841 - acc: 0.9459 - val_loss: 0.2329 - val_acc: 0.9506\n",
            "Epoch 5/15\n",
            "1875/1875 [==============================] - 5s 3ms/step - loss: 0.1825 - acc: 0.9601 - val_loss: 0.2291 - val_acc: 0.9538\n",
            "Epoch 6/15\n",
            "1875/1875 [==============================] - 5s 3ms/step - loss: 0.1426 - acc: 0.9677 - val_loss: 0.1472 - val_acc: 0.9699\n",
            "Epoch 7/15\n",
            "1875/1875 [==============================] - 5s 3ms/step - loss: 0.1028 - acc: 0.9753 - val_loss: 0.1549 - val_acc: 0.9632\n",
            "Epoch 8/15\n",
            "1875/1875 [==============================] - 5s 3ms/step - loss: 0.0890 - acc: 0.9779 - val_loss: 0.1351 - val_acc: 0.9745\n",
            "Epoch 9/15\n",
            "1875/1875 [==============================] - 5s 3ms/step - loss: 0.0767 - acc: 0.9814 - val_loss: 0.1953 - val_acc: 0.9655\n",
            "Epoch 10/15\n",
            "1875/1875 [==============================] - 5s 3ms/step - loss: 0.0715 - acc: 0.9827 - val_loss: 0.1337 - val_acc: 0.9767\n",
            "Epoch 11/15\n",
            "1875/1875 [==============================] - 5s 3ms/step - loss: 0.0622 - acc: 0.9851 - val_loss: 0.1389 - val_acc: 0.9742\n",
            "Epoch 12/15\n",
            "1875/1875 [==============================] - 5s 3ms/step - loss: 0.0646 - acc: 0.9842 - val_loss: 0.1423 - val_acc: 0.9776\n",
            "Epoch 13/15\n",
            "1875/1875 [==============================] - 5s 3ms/step - loss: 0.0553 - acc: 0.9863 - val_loss: 0.1314 - val_acc: 0.9749\n",
            "Epoch 14/15\n",
            "1875/1875 [==============================] - 5s 3ms/step - loss: 0.0539 - acc: 0.9870 - val_loss: 0.1117 - val_acc: 0.9756\n",
            "Epoch 15/15\n",
            "1875/1875 [==============================] - 5s 3ms/step - loss: 0.0479 - acc: 0.9891 - val_loss: 0.0960 - val_acc: 0.9778\n"
          ],
          "name": "stdout"
        },
        {
          "output_type": "execute_result",
          "data": {
            "text/plain": [
              "<tensorflow.python.keras.callbacks.History at 0x7f4dcb4dce50>"
            ]
          },
          "metadata": {
            "tags": []
          },
          "execution_count": 8
        }
      ]
    },
    {
      "cell_type": "markdown",
      "metadata": {
        "id": "oTEqvuHx4UAX"
      },
      "source": [
        "# 실습\n",
        "* 1층 Flatten \n",
        "* Dense(512, relu) - Dense(256-relu) - Dense(10 - softmax)\n",
        "* y_tain ohe\n",
        "* y_test ohe\n",
        "* optimizer - adam\n",
        "* metrics - acc\n",
        "* loss"
      ]
    },
    {
      "cell_type": "code",
      "metadata": {
        "colab": {
          "base_uri": "https://localhost:8080/"
        },
        "id": "aNhJh69S5Xrg",
        "outputId": "e072cdb9-1ec3-4e2c-bbd6-4763b28ffd9f"
      },
      "source": [
        "import tensorflow as tf\n",
        "from tensorflow.keras import datasets\n",
        "\n",
        "mnist = datasets.mnist\n",
        "(X_train, y_train), (X_test, y_test) = mnist.load_data()"
      ],
      "execution_count": 1,
      "outputs": [
        {
          "output_type": "stream",
          "text": [
            "Downloading data from https://storage.googleapis.com/tensorflow/tf-keras-datasets/mnist.npz\n",
            "11493376/11490434 [==============================] - 0s 0us/step\n"
          ],
          "name": "stdout"
        }
      ]
    },
    {
      "cell_type": "code",
      "metadata": {
        "id": "539yvnru5ddf"
      },
      "source": [
        "from tensorflow.keras.layers import Dense, Flatten, \n",
        "from tensorflow.keras.models import Sequential"
      ],
      "execution_count": 2,
      "outputs": []
    },
    {
      "cell_type": "code",
      "metadata": {
        "id": "b5tuH_666XrO"
      },
      "source": [
        "y_train_one_hot = tf.one_hot(y_train, 10)\n",
        "y_test_one_hot = tf.one_hot(y_test, 10)"
      ],
      "execution_count": 3,
      "outputs": []
    },
    {
      "cell_type": "code",
      "metadata": {
        "colab": {
          "base_uri": "https://localhost:8080/"
        },
        "id": "1d4LImiZ5lUW",
        "outputId": "a53c6154-5259-4f90-a741-66bdcb3298de"
      },
      "source": [
        "model = Sequential([\n",
        "          Flatten(input_shape=(28, 28)),\n",
        "          Dense(512, activation='relu'),\n",
        "          Dense(256, activation='relu'),\n",
        "          Dense(10, activation='softmax')\n",
        "          ])\n",
        "          \n",
        "model.summary()"
      ],
      "execution_count": 11,
      "outputs": [
        {
          "output_type": "stream",
          "text": [
            "Model: \"sequential_2\"\n",
            "_________________________________________________________________\n",
            "Layer (type)                 Output Shape              Param #   \n",
            "=================================================================\n",
            "flatten_2 (Flatten)          (None, 784)               0         \n",
            "_________________________________________________________________\n",
            "dense_6 (Dense)              (None, 512)               401920    \n",
            "_________________________________________________________________\n",
            "dense_7 (Dense)              (None, 256)               131328    \n",
            "_________________________________________________________________\n",
            "dense_8 (Dense)              (None, 10)                2570      \n",
            "=================================================================\n",
            "Total params: 535,818\n",
            "Trainable params: 535,818\n",
            "Non-trainable params: 0\n",
            "_________________________________________________________________\n"
          ],
          "name": "stdout"
        }
      ]
    },
    {
      "cell_type": "code",
      "metadata": {
        "id": "3ob0cLS265OG"
      },
      "source": [
        "model.compile(\n",
        "    optimizer='adam',\n",
        "    loss='categorical_crossentropy',\n",
        "    metrics=['acc']\n",
        ")"
      ],
      "execution_count": 13,
      "outputs": []
    },
    {
      "cell_type": "code",
      "metadata": {
        "colab": {
          "base_uri": "https://localhost:8080/"
        },
        "id": "y50FvsMW7Wlv",
        "outputId": "5a664426-015c-4bb0-c1ac-d96391b26dde"
      },
      "source": [
        "model.fit(\n",
        "    X_train,\n",
        "    y_train_one_hot,\n",
        "    validation_split=0.2,\n",
        "    epochs=10,\n",
        "    batch_size=32\n",
        "    )"
      ],
      "execution_count": 14,
      "outputs": [
        {
          "output_type": "stream",
          "text": [
            "Epoch 1/10\n",
            "1500/1500 [==============================] - 7s 2ms/step - loss: 1.8243 - acc: 0.8965 - val_loss: 0.2902 - val_acc: 0.9400\n",
            "Epoch 2/10\n",
            "1500/1500 [==============================] - 4s 2ms/step - loss: 0.2289 - acc: 0.9455 - val_loss: 0.2232 - val_acc: 0.9438\n",
            "Epoch 3/10\n",
            "1500/1500 [==============================] - 4s 2ms/step - loss: 0.1823 - acc: 0.9530 - val_loss: 0.1856 - val_acc: 0.9546\n",
            "Epoch 4/10\n",
            "1500/1500 [==============================] - 4s 2ms/step - loss: 0.1468 - acc: 0.9605 - val_loss: 0.2022 - val_acc: 0.9532\n",
            "Epoch 5/10\n",
            "1500/1500 [==============================] - 4s 2ms/step - loss: 0.1395 - acc: 0.9626 - val_loss: 0.1658 - val_acc: 0.9629\n",
            "Epoch 6/10\n",
            "1500/1500 [==============================] - 4s 3ms/step - loss: 0.1332 - acc: 0.9650 - val_loss: 0.1696 - val_acc: 0.9603\n",
            "Epoch 7/10\n",
            "1500/1500 [==============================] - 4s 2ms/step - loss: 0.1159 - acc: 0.9694 - val_loss: 0.1689 - val_acc: 0.9608\n",
            "Epoch 8/10\n",
            "1500/1500 [==============================] - 4s 2ms/step - loss: 0.1087 - acc: 0.9728 - val_loss: 0.1645 - val_acc: 0.9664\n",
            "Epoch 9/10\n",
            "1500/1500 [==============================] - 4s 2ms/step - loss: 0.1082 - acc: 0.9724 - val_loss: 0.1680 - val_acc: 0.9641\n",
            "Epoch 10/10\n",
            "1500/1500 [==============================] - 4s 2ms/step - loss: 0.0860 - acc: 0.9785 - val_loss: 0.1726 - val_acc: 0.9641\n"
          ],
          "name": "stdout"
        },
        {
          "output_type": "execute_result",
          "data": {
            "text/plain": [
              "<tensorflow.python.keras.callbacks.History at 0x7f8f302afc90>"
            ]
          },
          "metadata": {
            "tags": []
          },
          "execution_count": 14
        }
      ]
    }
  ]
}