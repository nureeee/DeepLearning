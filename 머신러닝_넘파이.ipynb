{
  "nbformat": 4,
  "nbformat_minor": 0,
  "metadata": {
    "colab": {
      "name": "머신러닝_넘파이.ipynb",
      "provenance": [],
      "collapsed_sections": [],
      "mount_file_id": "1Y9LjWtp3df7dCNuqQjw9zvnZksh8usdF",
      "authorship_tag": "ABX9TyNulqLfuyYRY4vGp53I9Nus",
      "include_colab_link": true
    },
    "kernelspec": {
      "name": "python3",
      "display_name": "Python 3"
    },
    "language_info": {
      "name": "python"
    }
  },
  "cells": [
    {
      "cell_type": "markdown",
      "metadata": {
        "id": "view-in-github",
        "colab_type": "text"
      },
      "source": [
        "<a href=\"https://colab.research.google.com/github/nureeee/DeepLearning/blob/main/%EB%A8%B8%EC%8B%A0%EB%9F%AC%EB%8B%9D_%EB%84%98%ED%8C%8C%EC%9D%B4.ipynb\" target=\"_parent\"><img src=\"https://colab.research.google.com/assets/colab-badge.svg\" alt=\"Open In Colab\"/></a>"
      ]
    },
    {
      "cell_type": "markdown",
      "metadata": {
        "id": "zZaMUTjdjbiO"
      },
      "source": [
        "# 자전거 대여량 데이터를 넘파이만 사용하여 처리하기!!\n",
        "  * 발표자 : 이누리\n"
      ]
    },
    {
      "cell_type": "markdown",
      "metadata": {
        "id": "kBRGhyPokJFQ"
      },
      "source": [
        "# 진행계획\n",
        "* 데이터 검토\n",
        "* 가설 세우기\n",
        "* 데이터 분석\n",
        "* 데이터 시각화\n",
        "* 결론\n",
        "* 자전거 대여량 예측 모델 만들기\n",
        "* 모델 평가  \n",
        "\n",
        "## 미니 프로젝트의 목적\n",
        " * 넘파이 공부\n",
        " * 판다스의 편리함을 느끼기"
      ]
    },
    {
      "cell_type": "code",
      "metadata": {
        "colab": {
          "base_uri": "https://localhost:8080/"
        },
        "id": "6ONqNpfuZXeS",
        "outputId": "97579ccb-11c2-4b2b-86d0-1937448c335d"
      },
      "source": [
        "!apt -qq -y install fonts-nanum > /dev/null\n",
        "import matplotlib.pyplot as plt\n",
        "import matplotlib.font_manager as fm\n",
        "fontpath = '/usr/share/fonts/truetype/nanum/NanumBarunGothic.ttf'\n",
        "font = fm.FontProperties(fname=fontpath, size=10)\n",
        "fm._rebuild()\n",
        "# 그래프에 retina display 적용\n",
        "%config InlineBackend.figure_format = 'retina'\n",
        "# Colab 의 한글 폰트 설정\n",
        "plt.rc('font', family='NanumBarunGothic')"
      ],
      "execution_count": null,
      "outputs": [
        {
          "output_type": "stream",
          "text": [
            "\n",
            "WARNING: apt does not have a stable CLI interface. Use with caution in scripts.\n",
            "\n"
          ],
          "name": "stdout"
        }
      ]
    },
    {
      "cell_type": "code",
      "metadata": {
        "id": "wqdV3tQkm3Xx"
      },
      "source": [
        "import numpy as np\n",
        "import pandas as pd"
      ],
      "execution_count": null,
      "outputs": []
    },
    {
      "cell_type": "markdown",
      "metadata": {
        "id": "bVXfMarR8egX"
      },
      "source": [
        "# 데이터 불러오기\n",
        "\n",
        "* 판다스로 데이터를 불러오고 넘파이로 바꾸고 나서는 모든 작업을 **넘파이로만** 처리!!"
      ]
    },
    {
      "cell_type": "code",
      "metadata": {
        "id": "mvpC65UJnmFb",
        "colab": {
          "base_uri": "https://localhost:8080/",
          "height": 790
        },
        "outputId": "28ca8616-78a0-48b8-c7ef-61bd76cad029"
      },
      "source": [
        "# csv파일 판다스로 불러오기\n",
        "df = pd.read_csv('/content/drive/MyDrive/bike_train.csv')\n",
        "df"
      ],
      "execution_count": null,
      "outputs": [
        {
          "output_type": "execute_result",
          "data": {
            "text/html": [
              "<div>\n",
              "<style scoped>\n",
              "    .dataframe tbody tr th:only-of-type {\n",
              "        vertical-align: middle;\n",
              "    }\n",
              "\n",
              "    .dataframe tbody tr th {\n",
              "        vertical-align: top;\n",
              "    }\n",
              "\n",
              "    .dataframe thead th {\n",
              "        text-align: right;\n",
              "    }\n",
              "</style>\n",
              "<table border=\"1\" class=\"dataframe\">\n",
              "  <thead>\n",
              "    <tr style=\"text-align: right;\">\n",
              "      <th></th>\n",
              "      <th>datetime</th>\n",
              "      <th>season</th>\n",
              "      <th>holiday</th>\n",
              "      <th>workingday</th>\n",
              "      <th>weather</th>\n",
              "      <th>temp</th>\n",
              "      <th>atemp</th>\n",
              "      <th>humidity</th>\n",
              "      <th>windspeed</th>\n",
              "      <th>casual</th>\n",
              "      <th>registered</th>\n",
              "      <th>count</th>\n",
              "    </tr>\n",
              "  </thead>\n",
              "  <tbody>\n",
              "    <tr>\n",
              "      <th>0</th>\n",
              "      <td>2011-01-01 00:00:00</td>\n",
              "      <td>1</td>\n",
              "      <td>0</td>\n",
              "      <td>0</td>\n",
              "      <td>1</td>\n",
              "      <td>9.84</td>\n",
              "      <td>14.395</td>\n",
              "      <td>81</td>\n",
              "      <td>0.0000</td>\n",
              "      <td>3</td>\n",
              "      <td>13</td>\n",
              "      <td>16</td>\n",
              "    </tr>\n",
              "    <tr>\n",
              "      <th>1</th>\n",
              "      <td>2011-01-01 01:00:00</td>\n",
              "      <td>1</td>\n",
              "      <td>0</td>\n",
              "      <td>0</td>\n",
              "      <td>1</td>\n",
              "      <td>9.02</td>\n",
              "      <td>13.635</td>\n",
              "      <td>80</td>\n",
              "      <td>0.0000</td>\n",
              "      <td>8</td>\n",
              "      <td>32</td>\n",
              "      <td>40</td>\n",
              "    </tr>\n",
              "    <tr>\n",
              "      <th>2</th>\n",
              "      <td>2011-01-01 02:00:00</td>\n",
              "      <td>1</td>\n",
              "      <td>0</td>\n",
              "      <td>0</td>\n",
              "      <td>1</td>\n",
              "      <td>9.02</td>\n",
              "      <td>13.635</td>\n",
              "      <td>80</td>\n",
              "      <td>0.0000</td>\n",
              "      <td>5</td>\n",
              "      <td>27</td>\n",
              "      <td>32</td>\n",
              "    </tr>\n",
              "    <tr>\n",
              "      <th>3</th>\n",
              "      <td>2011-01-01 03:00:00</td>\n",
              "      <td>1</td>\n",
              "      <td>0</td>\n",
              "      <td>0</td>\n",
              "      <td>1</td>\n",
              "      <td>9.84</td>\n",
              "      <td>14.395</td>\n",
              "      <td>75</td>\n",
              "      <td>0.0000</td>\n",
              "      <td>3</td>\n",
              "      <td>10</td>\n",
              "      <td>13</td>\n",
              "    </tr>\n",
              "    <tr>\n",
              "      <th>4</th>\n",
              "      <td>2011-01-01 04:00:00</td>\n",
              "      <td>1</td>\n",
              "      <td>0</td>\n",
              "      <td>0</td>\n",
              "      <td>1</td>\n",
              "      <td>9.84</td>\n",
              "      <td>14.395</td>\n",
              "      <td>75</td>\n",
              "      <td>0.0000</td>\n",
              "      <td>0</td>\n",
              "      <td>1</td>\n",
              "      <td>1</td>\n",
              "    </tr>\n",
              "    <tr>\n",
              "      <th>...</th>\n",
              "      <td>...</td>\n",
              "      <td>...</td>\n",
              "      <td>...</td>\n",
              "      <td>...</td>\n",
              "      <td>...</td>\n",
              "      <td>...</td>\n",
              "      <td>...</td>\n",
              "      <td>...</td>\n",
              "      <td>...</td>\n",
              "      <td>...</td>\n",
              "      <td>...</td>\n",
              "      <td>...</td>\n",
              "    </tr>\n",
              "    <tr>\n",
              "      <th>10881</th>\n",
              "      <td>2012-12-19 19:00:00</td>\n",
              "      <td>4</td>\n",
              "      <td>0</td>\n",
              "      <td>1</td>\n",
              "      <td>1</td>\n",
              "      <td>15.58</td>\n",
              "      <td>19.695</td>\n",
              "      <td>50</td>\n",
              "      <td>26.0027</td>\n",
              "      <td>7</td>\n",
              "      <td>329</td>\n",
              "      <td>336</td>\n",
              "    </tr>\n",
              "    <tr>\n",
              "      <th>10882</th>\n",
              "      <td>2012-12-19 20:00:00</td>\n",
              "      <td>4</td>\n",
              "      <td>0</td>\n",
              "      <td>1</td>\n",
              "      <td>1</td>\n",
              "      <td>14.76</td>\n",
              "      <td>17.425</td>\n",
              "      <td>57</td>\n",
              "      <td>15.0013</td>\n",
              "      <td>10</td>\n",
              "      <td>231</td>\n",
              "      <td>241</td>\n",
              "    </tr>\n",
              "    <tr>\n",
              "      <th>10883</th>\n",
              "      <td>2012-12-19 21:00:00</td>\n",
              "      <td>4</td>\n",
              "      <td>0</td>\n",
              "      <td>1</td>\n",
              "      <td>1</td>\n",
              "      <td>13.94</td>\n",
              "      <td>15.910</td>\n",
              "      <td>61</td>\n",
              "      <td>15.0013</td>\n",
              "      <td>4</td>\n",
              "      <td>164</td>\n",
              "      <td>168</td>\n",
              "    </tr>\n",
              "    <tr>\n",
              "      <th>10884</th>\n",
              "      <td>2012-12-19 22:00:00</td>\n",
              "      <td>4</td>\n",
              "      <td>0</td>\n",
              "      <td>1</td>\n",
              "      <td>1</td>\n",
              "      <td>13.94</td>\n",
              "      <td>17.425</td>\n",
              "      <td>61</td>\n",
              "      <td>6.0032</td>\n",
              "      <td>12</td>\n",
              "      <td>117</td>\n",
              "      <td>129</td>\n",
              "    </tr>\n",
              "    <tr>\n",
              "      <th>10885</th>\n",
              "      <td>2012-12-19 23:00:00</td>\n",
              "      <td>4</td>\n",
              "      <td>0</td>\n",
              "      <td>1</td>\n",
              "      <td>1</td>\n",
              "      <td>13.12</td>\n",
              "      <td>16.665</td>\n",
              "      <td>66</td>\n",
              "      <td>8.9981</td>\n",
              "      <td>4</td>\n",
              "      <td>84</td>\n",
              "      <td>88</td>\n",
              "    </tr>\n",
              "  </tbody>\n",
              "</table>\n",
              "<p>10886 rows × 12 columns</p>\n",
              "</div>"
            ],
            "text/plain": [
              "                  datetime  season  holiday  ...  casual  registered  count\n",
              "0      2011-01-01 00:00:00       1        0  ...       3          13     16\n",
              "1      2011-01-01 01:00:00       1        0  ...       8          32     40\n",
              "2      2011-01-01 02:00:00       1        0  ...       5          27     32\n",
              "3      2011-01-01 03:00:00       1        0  ...       3          10     13\n",
              "4      2011-01-01 04:00:00       1        0  ...       0           1      1\n",
              "...                    ...     ...      ...  ...     ...         ...    ...\n",
              "10881  2012-12-19 19:00:00       4        0  ...       7         329    336\n",
              "10882  2012-12-19 20:00:00       4        0  ...      10         231    241\n",
              "10883  2012-12-19 21:00:00       4        0  ...       4         164    168\n",
              "10884  2012-12-19 22:00:00       4        0  ...      12         117    129\n",
              "10885  2012-12-19 23:00:00       4        0  ...       4          84     88\n",
              "\n",
              "[10886 rows x 12 columns]"
            ]
          },
          "metadata": {
            "tags": []
          },
          "execution_count": 3
        }
      ]
    },
    {
      "cell_type": "markdown",
      "metadata": {
        "id": "2u7y_opEqd4r"
      },
      "source": [
        "# 판다스 데이터 프레임을 넘파이로 바꾸기\n",
        " 판다스로 불러온 DF데이터세트를 np_df의 넘파이로 불러옴"
      ]
    },
    {
      "cell_type": "code",
      "metadata": {
        "colab": {
          "base_uri": "https://localhost:8080/"
        },
        "id": "WjjaG6j6oFfN",
        "outputId": "24aea0fc-5f08-4669-9328-36cbc09ce1b6"
      },
      "source": [
        "np_df = np.array(df)\n",
        "np_df"
      ],
      "execution_count": null,
      "outputs": [
        {
          "output_type": "execute_result",
          "data": {
            "text/plain": [
              "array([['2011-01-01 00:00:00', 1, 0, ..., 3, 13, 16],\n",
              "       ['2011-01-01 01:00:00', 1, 0, ..., 8, 32, 40],\n",
              "       ['2011-01-01 02:00:00', 1, 0, ..., 5, 27, 32],\n",
              "       ...,\n",
              "       ['2012-12-19 21:00:00', 4, 0, ..., 4, 164, 168],\n",
              "       ['2012-12-19 22:00:00', 4, 0, ..., 12, 117, 129],\n",
              "       ['2012-12-19 23:00:00', 4, 0, ..., 4, 84, 88]], dtype=object)"
            ]
          },
          "metadata": {
            "tags": []
          },
          "execution_count": 5
        }
      ]
    },
    {
      "cell_type": "markdown",
      "metadata": {
        "id": "liwkjzZl4Xlp"
      },
      "source": [
        "# 텍스트 시계열 데이터를 날짜데이터로 변환하기"
      ]
    },
    {
      "cell_type": "code",
      "metadata": {
        "id": "M_-NWRwhtt1r"
      },
      "source": [
        "# 파이썬 내장한수 사용\n",
        "from datetime import date\n",
        "import datetime"
      ],
      "execution_count": null,
      "outputs": []
    },
    {
      "cell_type": "code",
      "metadata": {
        "colab": {
          "base_uri": "https://localhost:8080/"
        },
        "id": "o53OHZNVKnyv",
        "outputId": "df721dc3-c898-4983-dba7-adef32debaf5"
      },
      "source": [
        "# 원본 데이터에서 object로 되어있는 시계열 텍스트 데이터 저장\n",
        "date_time_obj = np_df[:,0]\n",
        "date_time_obj"
      ],
      "execution_count": null,
      "outputs": [
        {
          "output_type": "execute_result",
          "data": {
            "text/plain": [
              "array(['2011-01-01 00:00:00', '2011-01-01 01:00:00',\n",
              "       '2011-01-01 02:00:00', ..., '2012-12-19 21:00:00',\n",
              "       '2012-12-19 22:00:00', '2012-12-19 23:00:00'], dtype=object)"
            ]
          },
          "metadata": {
            "tags": []
          },
          "execution_count": 7
        }
      ]
    },
    {
      "cell_type": "code",
      "metadata": {
        "id": "uZDqDuKQu1hB"
      },
      "source": [
        "# 날짜 텍스트를 날짜 데이터로 변환\n",
        "date_list = []\n",
        "for i in date_time_obj:\n",
        "    a = datetime.datetime.fromisoformat(i)\n",
        "    date_list.append(a)"
      ],
      "execution_count": null,
      "outputs": []
    },
    {
      "cell_type": "code",
      "metadata": {
        "colab": {
          "base_uri": "https://localhost:8080/"
        },
        "id": "En-RF8tCvTxh",
        "outputId": "45983c14-13bb-4773-c3f1-21ed834d1f6c"
      },
      "source": [
        "# 데이터가 잘 변환되었는지 확인하기\n",
        "date_list[0].hour"
      ],
      "execution_count": null,
      "outputs": [
        {
          "output_type": "execute_result",
          "data": {
            "text/plain": [
              "0"
            ]
          },
          "metadata": {
            "tags": []
          },
          "execution_count": 9
        }
      ]
    },
    {
      "cell_type": "code",
      "metadata": {
        "id": "L4dC3gbevxuR",
        "colab": {
          "base_uri": "https://localhost:8080/"
        },
        "outputId": "a4f84bc6-936a-4c9f-a681-ddfb6b11d6fa"
      },
      "source": [
        "# 데이터 복사하기\n",
        "df_copy = np_df.copy()\n",
        "np_df.shape"
      ],
      "execution_count": null,
      "outputs": [
        {
          "output_type": "execute_result",
          "data": {
            "text/plain": [
              "(10886, 12)"
            ]
          },
          "metadata": {
            "tags": []
          },
          "execution_count": 10
        }
      ]
    },
    {
      "cell_type": "code",
      "metadata": {
        "colab": {
          "base_uri": "https://localhost:8080/"
        },
        "id": "eFm4A_GR2M-q",
        "outputId": "fe394d83-9fa0-4160-de08-019b3f84b06f"
      },
      "source": [
        "# 날짜 텍스트 데이터를 삭제  \n",
        "df_copy = np.delete(df_copy, 0, axis=1)\n",
        "df_copy"
      ],
      "execution_count": null,
      "outputs": [
        {
          "output_type": "execute_result",
          "data": {
            "text/plain": [
              "array([[1, 0, 0, ..., 3, 13, 16],\n",
              "       [1, 0, 0, ..., 8, 32, 40],\n",
              "       [1, 0, 0, ..., 5, 27, 32],\n",
              "       ...,\n",
              "       [4, 0, 1, ..., 4, 164, 168],\n",
              "       [4, 0, 1, ..., 12, 117, 129],\n",
              "       [4, 0, 1, ..., 4, 84, 88]], dtype=object)"
            ]
          },
          "metadata": {
            "tags": []
          },
          "execution_count": 11
        }
      ]
    },
    {
      "cell_type": "code",
      "metadata": {
        "colab": {
          "base_uri": "https://localhost:8080/"
        },
        "id": "4-MDCkyC2a4R",
        "outputId": "dd6a4dca-df44-4483-9c50-967734d51738"
      },
      "source": [
        "df_copy.shape\n",
        "# 해당 데이터가 삭제된 것을 볼 수 있다."
      ],
      "execution_count": null,
      "outputs": [
        {
          "output_type": "execute_result",
          "data": {
            "text/plain": [
              "(10886, 11)"
            ]
          },
          "metadata": {
            "tags": []
          },
          "execution_count": 12
        }
      ]
    },
    {
      "cell_type": "code",
      "metadata": {
        "colab": {
          "base_uri": "https://localhost:8080/"
        },
        "id": "M9dYwW6G5ZQ1",
        "outputId": "750668df-f560-49aa-f49c-889ef4218966"
      },
      "source": [
        "# 리스트를 넘파이로 변환\n",
        "date_list = np.array(date_list)\n",
        "date_list.shape"
      ],
      "execution_count": null,
      "outputs": [
        {
          "output_type": "execute_result",
          "data": {
            "text/plain": [
              "(10886,)"
            ]
          },
          "metadata": {
            "tags": []
          },
          "execution_count": 13
        }
      ]
    },
    {
      "cell_type": "code",
      "metadata": {
        "colab": {
          "base_uri": "https://localhost:8080/"
        },
        "id": "rr-qzLZh3u2h",
        "outputId": "10ab0f34-c4f4-4473-a202-ec5434a2ca9d"
      },
      "source": [
        "# 2차 배열로 변환\n",
        "date_list = date_list.reshape(-1, 1)\n",
        "date_list.shape"
      ],
      "execution_count": null,
      "outputs": [
        {
          "output_type": "execute_result",
          "data": {
            "text/plain": [
              "(10886, 1)"
            ]
          },
          "metadata": {
            "tags": []
          },
          "execution_count": 14
        }
      ]
    },
    {
      "cell_type": "code",
      "metadata": {
        "colab": {
          "base_uri": "https://localhost:8080/"
        },
        "id": "ii40JvOw5Jnh",
        "outputId": "d293da5d-9462-47be-93b5-c8d304a55ad3"
      },
      "source": [
        "# 두개의 배열 합치기\n",
        "data1 = np.hstack((date_list, df_copy))\n",
        "data1"
      ],
      "execution_count": null,
      "outputs": [
        {
          "output_type": "execute_result",
          "data": {
            "text/plain": [
              "array([[datetime.datetime(2011, 1, 1, 0, 0), 1, 0, ..., 3, 13, 16],\n",
              "       [datetime.datetime(2011, 1, 1, 1, 0), 1, 0, ..., 8, 32, 40],\n",
              "       [datetime.datetime(2011, 1, 1, 2, 0), 1, 0, ..., 5, 27, 32],\n",
              "       ...,\n",
              "       [datetime.datetime(2012, 12, 19, 21, 0), 4, 0, ..., 4, 164, 168],\n",
              "       [datetime.datetime(2012, 12, 19, 22, 0), 4, 0, ..., 12, 117, 129],\n",
              "       [datetime.datetime(2012, 12, 19, 23, 0), 4, 0, ..., 4, 84, 88]],\n",
              "      dtype=object)"
            ]
          },
          "metadata": {
            "tags": []
          },
          "execution_count": 15
        }
      ]
    },
    {
      "cell_type": "markdown",
      "metadata": {
        "id": "g2ni2Jr5RZM0"
      },
      "source": [
        "# datetime을 years, months, days, hours, dayofweeks로 뽑아낸다."
      ]
    },
    {
      "cell_type": "code",
      "metadata": {
        "colab": {
          "base_uri": "https://localhost:8080/"
        },
        "id": "QgqKT6V6_5-w",
        "outputId": "1174bc77-e440-44a4-d0b4-0b0554ff1a9d"
      },
      "source": [
        "# datetime을 years, months, days, hours, dayofweeks로 추출하여 새로운 numpy 제작\n",
        "years = []\n",
        "months = []\n",
        "days = []\n",
        "hours = []\n",
        "dayofweeks=[]\n",
        "TIMESTAMP_IDX = 0\n",
        "for data in data1:\n",
        "  years.append(data[TIMESTAMP_IDX].year)\n",
        "  months.append(data[TIMESTAMP_IDX].month)\n",
        "  days.append(data[TIMESTAMP_IDX].day)\n",
        "  hours.append(data[TIMESTAMP_IDX].hour)\n",
        "  dayofweeks.append(data[TIMESTAMP_IDX].weekday())\n",
        "date_ndarray = np.array([\n",
        "  years, months, days, hours, dayofweeks\n",
        "])\n",
        "# list로 먼저 만들고 numpy로 묶음\n",
        "date_ndarray"
      ],
      "execution_count": null,
      "outputs": [
        {
          "output_type": "execute_result",
          "data": {
            "text/plain": [
              "array([[2011, 2011, 2011, ..., 2012, 2012, 2012],\n",
              "       [   1,    1,    1, ...,   12,   12,   12],\n",
              "       [   1,    1,    1, ...,   19,   19,   19],\n",
              "       [   0,    1,    2, ...,   21,   22,   23],\n",
              "       [   5,    5,    5, ...,    2,    2,    2]])"
            ]
          },
          "metadata": {
            "tags": []
          },
          "execution_count": 17
        }
      ]
    },
    {
      "cell_type": "code",
      "metadata": {
        "colab": {
          "base_uri": "https://localhost:8080/"
        },
        "id": "jm6GhzpZO3us",
        "outputId": "d1e4eb4f-92ca-4c26-9152-a7f8ee761313"
      },
      "source": [
        "# 추출해온 데이터 shape 확인\n",
        "date_ndarray.shape"
      ],
      "execution_count": null,
      "outputs": [
        {
          "output_type": "execute_result",
          "data": {
            "text/plain": [
              "(5, 10886)"
            ]
          },
          "metadata": {
            "tags": []
          },
          "execution_count": 18
        }
      ]
    },
    {
      "cell_type": "code",
      "metadata": {
        "colab": {
          "base_uri": "https://localhost:8080/"
        },
        "id": "7gBsVfCxQKIU",
        "outputId": "aecf4b5b-03a7-4e5b-c435-f191c05b317e"
      },
      "source": [
        "# 추출해온 데이터를 transposition\n",
        "data_np = date_ndarray.T\n",
        "data_np.shape"
      ],
      "execution_count": null,
      "outputs": [
        {
          "output_type": "execute_result",
          "data": {
            "text/plain": [
              "(10886, 5)"
            ]
          },
          "metadata": {
            "tags": []
          },
          "execution_count": 19
        }
      ]
    },
    {
      "cell_type": "code",
      "metadata": {
        "colab": {
          "base_uri": "https://localhost:8080/"
        },
        "id": "YuCRXpUhQeaD",
        "outputId": "eefc742f-e7e9-4cc6-80b8-89d831c1d3fa"
      },
      "source": [
        "data = np.hstack((data_np, df_copy))\n",
        "data"
      ],
      "execution_count": null,
      "outputs": [
        {
          "output_type": "execute_result",
          "data": {
            "text/plain": [
              "array([[2011, 1, 1, ..., 3, 13, 16],\n",
              "       [2011, 1, 1, ..., 8, 32, 40],\n",
              "       [2011, 1, 1, ..., 5, 27, 32],\n",
              "       ...,\n",
              "       [2012, 12, 19, ..., 4, 164, 168],\n",
              "       [2012, 12, 19, ..., 12, 117, 129],\n",
              "       [2012, 12, 19, ..., 4, 84, 88]], dtype=object)"
            ]
          },
          "metadata": {
            "tags": []
          },
          "execution_count": 20
        }
      ]
    },
    {
      "cell_type": "markdown",
      "metadata": {
        "id": "xGPw2OnZ6lmO"
      },
      "source": [
        "# 가설 세우기\n",
        "* 날이 더운 여름이나 추운 겨울에는 비회원보다 회원의 수가 더 많을 것이다   \n",
        " \n",
        "> 회원으로 등록하고 자전거를 탄다는 것은 앞으로도 자전거를 탈 계획이 있는 것이고 등록한 사람이 그렇지 않은 사람보다 날씨의 영향을 덜 받을 것이다.  \n",
        "\n",
        "> 예를 들자면... 운동을 꾸준히 하는 사람이 있는데 날씨가 흐려도 날이 별로지만 오늘도 운동을 해야지 하고 계획에 맞춰서 나가겠지만 비회원은 날이 흐리면 다음을 기약하고 미루기 쉽다."
      ]
    },
    {
      "cell_type": "markdown",
      "metadata": {
        "id": "MnDCwPGMeuJS"
      },
      "source": [
        "# 데이터 상관관계 분석"
      ]
    },
    {
      "cell_type": "code",
      "metadata": {
        "id": "tHzGAW6y69PF"
      },
      "source": [
        "import matplotlib.pyplot as plt\n",
        "import seaborn as sns"
      ],
      "execution_count": null,
      "outputs": []
    },
    {
      "cell_type": "code",
      "metadata": {
        "id": "fi30iryT64EB"
      },
      "source": [
        "# 에러 발생\n",
        "# data_cor = np.corrcoef(data)\n",
        "# data_cor"
      ],
      "execution_count": null,
      "outputs": []
    },
    {
      "cell_type": "code",
      "metadata": {
        "colab": {
          "base_uri": "https://localhost:8080/"
        },
        "id": "Bi_AR5-UWSfM",
        "outputId": "eedb9c33-7aad-4836-973a-f149083221cc"
      },
      "source": [
        "ate = list(data[:, 9]) # 체감온도\n",
        "tem = list(data[:, 8]) # 온도\n",
        "hum = list(data[:, 10]) # 습도\n",
        "wor = list(data[:, 6]) # 일하는 날\n",
        "hol = list(data[:, 5]) # 휴일\n",
        "cou = list(data[:, -1]) # 총 이용자수\n",
        "cas = list(data[:, -3]) # 비회원\n",
        "reg = list(data[:, -2]) # 회원\n",
        "hou = list(data[:, 3]) # 시간\n",
        "mon = list(data[:, 1]) # 월\n",
        "\n",
        "xarr = [ate, tem, hum, wor, hol, cou, cas, reg, hou, mon]\n",
        "xarr = np.array(xarr)\n",
        "\n",
        "xarr_cor = np.corrcoef(xarr) # 전체로 보는상관관계\n",
        "xarr_cor"
      ],
      "execution_count": null,
      "outputs": [
        {
          "output_type": "execute_result",
          "data": {
            "text/plain": [
              "array([[ 1.00000000e+00, -5.50354182e-02,  9.84948110e-01,\n",
              "         2.94603393e-04,  2.58688551e-01,  3.94453645e-01,\n",
              "         4.67097064e-01,  3.18571280e-01,  1.45429670e-01,\n",
              "         2.57589172e-01],\n",
              "       [-5.50354182e-02,  1.00000000e+00, -5.53759732e-02,\n",
              "        -7.07391151e-03,  8.87865085e-03, -1.28655201e-01,\n",
              "        -1.35917680e-01, -1.09340372e-01, -2.27403355e-02,\n",
              "         1.21439767e-02],\n",
              "       [ 9.84948110e-01, -5.53759732e-02,  1.00000000e+00,\n",
              "        -5.21477822e-03,  2.64744326e-01,  3.89784437e-01,\n",
              "         4.62066536e-01,  3.14635386e-01,  1.40342550e-01,\n",
              "         2.64172875e-01],\n",
              "       [ 2.94603393e-04, -7.07391151e-03, -5.21477822e-03,\n",
              "         1.00000000e+00,  2.93676097e-02, -5.39298448e-03,\n",
              "         4.37989287e-02, -2.09556729e-02, -3.54161109e-04,\n",
              "         1.73145748e-03],\n",
              "       [ 2.58688551e-01,  8.87865085e-03,  2.64744326e-01,\n",
              "         2.93676097e-02,  1.00000000e+00,  1.63439017e-01,\n",
              "         9.67580628e-02,  1.64010534e-01, -6.54567409e-03,\n",
              "         9.71523800e-01],\n",
              "       [ 3.94453645e-01, -1.28655201e-01,  3.89784437e-01,\n",
              "        -5.39298448e-03,  1.63439017e-01,  1.00000000e+00,\n",
              "         6.90413565e-01,  9.70948106e-01,  4.00601194e-01,\n",
              "         1.66862232e-01],\n",
              "       [ 4.67097064e-01, -1.35917680e-01,  4.62066536e-01,\n",
              "         4.37989287e-02,  9.67580628e-02,  6.90413565e-01,\n",
              "         1.00000000e+00,  4.97249685e-01,  3.02045402e-01,\n",
              "         9.27220387e-02],\n",
              "       [ 3.18571280e-01, -1.09340372e-01,  3.14635386e-01,\n",
              "        -2.09556729e-02,  1.64010534e-01,  9.70948106e-01,\n",
              "         4.97249685e-01,  1.00000000e+00,  3.80539726e-01,\n",
              "         1.69451102e-01],\n",
              "       [ 1.45429670e-01, -2.27403355e-02,  1.40342550e-01,\n",
              "        -3.54161109e-04, -6.54567409e-03,  4.00601194e-01,\n",
              "         3.02045402e-01,  3.80539726e-01,  1.00000000e+00,\n",
              "        -6.81764343e-03],\n",
              "       [ 2.57589172e-01,  1.21439767e-02,  2.64172875e-01,\n",
              "         1.73145748e-03,  9.71523800e-01,  1.66862232e-01,\n",
              "         9.27220387e-02,  1.69451102e-01, -6.81764343e-03,\n",
              "         1.00000000e+00]])"
            ]
          },
          "metadata": {
            "tags": []
          },
          "execution_count": 52
        }
      ]
    },
    {
      "cell_type": "markdown",
      "metadata": {
        "id": "ndOCahjQnqvG"
      },
      "source": [
        "## 데이터 상관관계 분석 \n",
        "* 시간 데이터를 제외한 모든 데이터에서 비회원이 회원보다 상관관계가 더 크게 나타났다.\n",
        "* '휴일'과 '월' 데이터에서 비회원이 회원보다 더 큰폭으로 상관관계가 나타났다."
      ]
    },
    {
      "cell_type": "markdown",
      "metadata": {
        "id": "voI_ix1snm71"
      },
      "source": [
        "# 데이터 시각화"
      ]
    },
    {
      "cell_type": "markdown",
      "metadata": {
        "id": "KPrYN49YmqIT"
      },
      "source": [
        "넘파이로는 Seaborn을 활용한 시각화가 안된다..."
      ]
    },
    {
      "cell_type": "code",
      "metadata": {
        "id": "0D0R-hWE9BUh"
      },
      "source": [
        "# years = []\n",
        "\n",
        "# for date in data:\n",
        "#     years.append(date[0].year)\n",
        "\n",
        "# s = pd.DataFrame(pd.Series(years, name=\"v\"))\n",
        "# sns.countplot(data=s, x='v')\n",
        "\n",
        "\n",
        "\n",
        "# figure, ((ax1, ax2), (ax3, ax4)) = plt.subplots(nrows=2, ncols=2)\n",
        "# figure.set_size_inches(18,8)\n",
        "\n",
        "# sns.barplot(data=data, x=data.year, y='count', ax=ax1)\n",
        "# sns.barplot(data=data, x=data.month, y='count', ax=ax2)\n",
        "# sns.barplot(data=data, x=[datetime.datetime].day, y='count', ax=ax3)\n",
        "# sns.barplot(data=data, x=[datetime.datetime].hour, y='count', ax=ax4)\n",
        "\n",
        "# ax1.set(ylabel='count', title='연도별 대여량')\n",
        "# ax2.set(xlabel='month', title='월별 대여량')\n",
        "# ax3.set(xlabel='day', title='일별 대여량')\n",
        "# ax4.set(xlabel='hour', title='시간별 대여량')"
      ],
      "execution_count": null,
      "outputs": []
    },
    {
      "cell_type": "code",
      "metadata": {
        "colab": {
          "base_uri": "https://localhost:8080/",
          "height": 391
        },
        "id": "Hhm75WvqT8oq",
        "outputId": "41081a14-edb6-4ada-bf78-ab46f3f54c53"
      },
      "source": [
        "# 비회원, 회원의 월별 사용량\n",
        "f, axes = plt.subplots(1, 2, sharex=True, sharey=True)\n",
        "f.set_size_inches((12, 6))\n",
        "\n",
        "axes[0].bar(data[:, 1], data[:, -3])\n",
        "axes[0].set_title('비회원의 월별 사용량')\n",
        "\n",
        "axes[1].bar(data[:, 1], data[:, -2])\n",
        "axes[1].set_title('회원의 월별 사용량')\n",
        "plt.show()"
      ],
      "execution_count": null,
      "outputs": [
        {
          "output_type": "display_data",
          "data": {
            "image/png": "[encoded data removed]",
            "text/plain": [
              "<Figure size 864x432 with 2 Axes>"
            ]
          },
          "metadata": {
            "tags": [],
            "image/png": {
              "width": 708,
              "height": 374
            },
            "needs_background": "light"
          }
        }
      ]
    },
    {
      "cell_type": "markdown",
      "metadata": {
        "id": "7FjT9S-oaCyf"
      },
      "source": [
        "* 비회원은 자전거 타기 좋은 봄과 가을에 사용자가 여름과 겨울에 비해 상대적으로 많다.\n",
        "* 회원은 3월부터 사용량이 증가하고 여름부터 가을까지 사용량이 증가하다 겨울에 다시 사용량이 줄었다.  \n",
        "* 추운 겨울에는 회원과 비회원 모두 사용자가 상대적으로 줄었다.\n",
        "* 비회원의 경우 6 - 8월 에는 앞뒤 달과 비교해 사용자가 줄었지만 회원의 경우에는 3월부터 10월 까지 증가하는 추세가 보이다가 이후에 다시 줄어드는 것을 볼 수 있다.\n"
      ]
    },
    {
      "cell_type": "code",
      "metadata": {
        "colab": {
          "base_uri": "https://localhost:8080/",
          "height": 391
        },
        "id": "niivMbqBWGnL",
        "outputId": "e3eefdec-abf3-4008-ca5f-5bafdbfac21d"
      },
      "source": [
        "f, axes = plt.subplots(1, 2, sharex=True, sharey=True)\n",
        "f.set_size_inches((12, 6))\n",
        "\n",
        "axes[0].bar(data[:, 10], data[:, -3])\n",
        "axes[0].set_title('비회원의 체감온도별 사용량')\n",
        "\n",
        "axes[1].bar(data[:, 10], data[:, -2])\n",
        "axes[1].set_title('회원의 체감온도별 사용량')\n",
        "plt.show()"
      ],
      "execution_count": null,
      "outputs": [
        {
          "output_type": "display_data",
          "data": {
            "image/png": "[encoded data removed]",
            "text/plain": [
              "<Figure size 864x432 with 2 Axes>"
            ]
          },
          "metadata": {
            "tags": [],
            "image/png": {
              "width": 708,
              "height": 374
            },
            "needs_background": "light"
          }
        }
      ]
    },
    {
      "cell_type": "markdown",
      "metadata": {
        "id": "O9DudEwGdX5w"
      },
      "source": [
        "* 비회원은 체감온도 20~40도 사이에 사용량이 많고\n",
        "* 회원은 체감온도 0도에 가까울 때와 40도에 가까울 때 를 제외하고 일정량 이상의 사용량이 보인다. "
      ]
    },
    {
      "cell_type": "code",
      "metadata": {
        "colab": {
          "base_uri": "https://localhost:8080/",
          "height": 391
        },
        "id": "AAw-nubTI4Fc",
        "outputId": "ede7d495-1611-4dc0-bf64-0348c5efc58d"
      },
      "source": [
        "f, axes = plt.subplots(1, 2, sharex=True, sharey=True)\n",
        "f.set_size_inches((12, 6))\n",
        "\n",
        "axes[0].bar(data[:, 9], data[:, -3])\n",
        "axes[0].set_title('비회원의 온도별 사용량')\n",
        "\n",
        "axes[1].bar(data[:, 9], data[:, -2])\n",
        "axes[1].set_title('회원의 온도별 사용량')\n",
        "plt.show()"
      ],
      "execution_count": null,
      "outputs": [
        {
          "output_type": "display_data",
          "data": {
            "image/png": "[encoded data removed]",
            "text/plain": [
              "<Figure size 864x432 with 2 Axes>"
            ]
          },
          "metadata": {
            "tags": [],
            "image/png": {
              "width": 708,
              "height": 374
            },
            "needs_background": "light"
          }
        }
      ]
    },
    {
      "cell_type": "markdown",
      "metadata": {
        "id": "AaMbHZDUsvEz"
      },
      "source": [
        "* 위의 체감온도와 비슷한 양상을 띄고 있다."
      ]
    },
    {
      "cell_type": "code",
      "metadata": {
        "colab": {
          "base_uri": "https://localhost:8080/",
          "height": 391
        },
        "id": "qhAYDEUib4FZ",
        "outputId": "ebb31170-dea3-4232-90fa-d69d80363fe0"
      },
      "source": [
        "f, axes = plt.subplots(1, 2, sharex=True, sharey=True)\n",
        "f.set_size_inches((12, 6))\n",
        "\n",
        "axes[0].bar(data[:, 4], data[:, -3])\n",
        "axes[0].set_title('비회원의 요일별 사용량')\n",
        "\n",
        "axes[1].bar(data[:, 4], data[:, -2])\n",
        "axes[1].set_title('회원의 요일별 사용량')\n",
        "\n",
        "plt.show()"
      ],
      "execution_count": null,
      "outputs": [
        {
          "output_type": "display_data",
          "data": {
            "image/png": "[encoded data removed]",
            "text/plain": [
              "<Figure size 864x432 with 2 Axes>"
            ]
          },
          "metadata": {
            "tags": [],
            "image/png": {
              "width": 708,
              "height": 374
            },
            "needs_background": "light"
          }
        }
      ]
    },
    {
      "cell_type": "markdown",
      "metadata": {
        "id": "QuxlOBb_s9tr"
      },
      "source": [
        "* 비회원의 경우 토요일과 일요일에 평일보다 높은 추세를 보이고 있다.\n",
        "* 회원의 경우 토요일과 일요일 보다는 평일에 상대적으로 사용량이 많다."
      ]
    },
    {
      "cell_type": "code",
      "metadata": {
        "colab": {
          "base_uri": "https://localhost:8080/",
          "height": 391
        },
        "id": "LmbJy3VVRqpV",
        "outputId": "248d7dd3-0910-4de5-8027-c3672cddd81b"
      },
      "source": [
        "f, axes = plt.subplots(1, 2, sharex=True, sharey=True)\n",
        "f.set_size_inches((12, 6))\n",
        "\n",
        "axes[0].bar(data[:, 3], data[:, -3])\n",
        "axes[0].set_title('비회원의 시간별 사용량')\n",
        "\n",
        "axes[1].bar(data[:, 3], data[:, -2])\n",
        "axes[1].set_title('회원의 시간별 사용량')\n",
        "plt.show()"
      ],
      "execution_count": null,
      "outputs": [
        {
          "output_type": "display_data",
          "data": {
            "image/png": "[encoded data removed]",
            "text/plain": [
              "<Figure size 864x432 with 2 Axes>"
            ]
          },
          "metadata": {
            "tags": [],
            "image/png": {
              "width": 708,
              "height": 374
            },
            "needs_background": "light"
          }
        }
      ]
    },
    {
      "cell_type": "markdown",
      "metadata": {
        "id": "sS3JSb-Otl9b"
      },
      "source": [
        "* 비회원 경우 11시부터 4시까지 사용량이 다른시간대와 비교했을 때 많은 것을 볼 수 있다.\n",
        "* 회원의 경우 출퇴근 시간에 사용량이 급증한 것을 볼 수있다.\n"
      ]
    },
    {
      "cell_type": "markdown",
      "metadata": {
        "id": "8k9HD8lOPgAe"
      },
      "source": [
        "# 결론\n",
        "> 자전거를 타기 적당한 날씨인 봄과 가을에도 회원 사용량이 더 많았다.\n",
        "그렇지만 각 데이터의 비율만 생각했을 때 비회원의 봄, 가을에 사용량이 다른 시기보다 사용량이 더 많은 것을 볼 수 있다.  \n",
        "\n",
        "* 회원이 비회원보다 사용량이 더 많다.\n",
        "* 비회원은 자전거를 타기 적당한 20~30도 사이에 사용량이 많고 해당 온도의 봄과 가을에 사용량이 높게 나타났다.\n",
        "* 비회원은 평일보다는 주말에 사용자가 많고 이용시간대는 12 - 17시에 사용자가 많다.\n",
        "* 회원의 경우 출퇴근시간사용자가 많고 평일이 주말보다 사용자가 많은 것을 보면 직장인이 많이 등록했다라고 볼 수 있다."
      ]
    },
    {
      "cell_type": "markdown",
      "metadata": {
        "id": "uQUX1bJuS2OE"
      },
      "source": [
        "# 전처리 과정\n",
        "* 불필요한 데이터 삭제\n",
        "  * 년도, 일, 비회원, 회원(머신러닝에서 타겟이 총이용자 수이므로 삭제), 풍속\n",
        "* 원핫인코딩이 필요한 데이터\n",
        "  * 요일, 계절 "
      ]
    },
    {
      "cell_type": "code",
      "metadata": {
        "id": "VFGbV5KRY5YU"
      },
      "source": [
        "불필요한 데이터 삭제"
      ],
      "execution_count": null,
      "outputs": []
    },
    {
      "cell_type": "code",
      "metadata": {
        "id": "s_5w-Xu7UGHl"
      },
      "source": [
        ""
      ],
      "execution_count": null,
      "outputs": []
    },
    {
      "cell_type": "code",
      "metadata": {
        "id": "_7g5VcyVUF73"
      },
      "source": [
        ""
      ],
      "execution_count": null,
      "outputs": []
    },
    {
      "cell_type": "code",
      "metadata": {
        "id": "BFcy0u7NUFx-"
      },
      "source": [
        ""
      ],
      "execution_count": null,
      "outputs": []
    },
    {
      "cell_type": "markdown",
      "metadata": {
        "id": "G7RLvCCDgKFJ"
      },
      "source": [
        "# Train Set, Test Set 나누기"
      ]
    },
    {
      "cell_type": "code",
      "metadata": {
        "id": "WAGdes_pc0dn"
      },
      "source": [
        "from sklearn.model_selection import train_test_split\n",
        "\n",
        "x_train, x_test, y_train, y_test = train_test_split(\n",
        "    data[:, :-1], \n",
        "    data[:, -1], \n",
        "    random_state=42\n",
        "    # stratify=data[:, 1]\n",
        ")"
      ],
      "execution_count": null,
      "outputs": []
    },
    {
      "cell_type": "code",
      "metadata": {
        "colab": {
          "base_uri": "https://localhost:8080/"
        },
        "id": "fq0_IeAEuUyp",
        "outputId": "669b7055-8a44-4d9c-bda1-35bba5f6fc9a"
      },
      "source": [
        "x_train.shape, y_train.shape"
      ],
      "execution_count": null,
      "outputs": [
        {
          "output_type": "execute_result",
          "data": {
            "text/plain": [
              "((8164, 15), (8164,))"
            ]
          },
          "metadata": {
            "tags": []
          },
          "execution_count": 29
        }
      ]
    },
    {
      "cell_type": "code",
      "metadata": {
        "colab": {
          "base_uri": "https://localhost:8080/"
        },
        "id": "SuPY-DNpuc1o",
        "outputId": "8805037f-f817-4983-b0d1-47e35253151c"
      },
      "source": [
        "x_test.shape, y_test.shape"
      ],
      "execution_count": null,
      "outputs": [
        {
          "output_type": "execute_result",
          "data": {
            "text/plain": [
              "((2722, 15), (2722,))"
            ]
          },
          "metadata": {
            "tags": []
          },
          "execution_count": 30
        }
      ]
    },
    {
      "cell_type": "code",
      "metadata": {
        "colab": {
          "base_uri": "https://localhost:8080/"
        },
        "id": "msQHbtX7jR6C",
        "outputId": "f65ba600-1c79-4f8e-ba7b-6fdf59186d22"
      },
      "source": [
        "data"
      ],
      "execution_count": null,
      "outputs": [
        {
          "output_type": "execute_result",
          "data": {
            "text/plain": [
              "array([[2011, 1, 1, ..., 3, 13, 16],\n",
              "       [2011, 1, 1, ..., 8, 32, 40],\n",
              "       [2011, 1, 1, ..., 5, 27, 32],\n",
              "       ...,\n",
              "       [2012, 12, 19, ..., 4, 164, 168],\n",
              "       [2012, 12, 19, ..., 12, 117, 129],\n",
              "       [2012, 12, 19, ..., 4, 84, 88]], dtype=object)"
            ]
          },
          "metadata": {
            "tags": []
          },
          "execution_count": 31
        }
      ]
    },
    {
      "cell_type": "markdown",
      "metadata": {
        "id": "ZDzL27dOipvW"
      },
      "source": [
        "# 모델 선정 및 훈련"
      ]
    },
    {
      "cell_type": "markdown",
      "metadata": {
        "id": "nGZ2gj8Wiud1"
      },
      "source": [
        "## 선형회귀 알고리즘 사용"
      ]
    },
    {
      "cell_type": "code",
      "metadata": {
        "colab": {
          "base_uri": "https://localhost:8080/"
        },
        "id": "JqJdBQMUnWVp",
        "outputId": "5583a9f8-f492-4f4f-c98b-c6efa1e35863"
      },
      "source": [
        "from sklearn.linear_model import LinearRegression\n",
        " \n",
        "lin_reg = LinearRegression()\n",
        "lin_reg.fit(x_train, y_train)"
      ],
      "execution_count": null,
      "outputs": [
        {
          "output_type": "execute_result",
          "data": {
            "text/plain": [
              "LinearRegression(copy_X=True, fit_intercept=True, n_jobs=None, normalize=False)"
            ]
          },
          "metadata": {
            "tags": []
          },
          "execution_count": 32
        }
      ]
    },
    {
      "cell_type": "code",
      "metadata": {
        "colab": {
          "base_uri": "https://localhost:8080/"
        },
        "id": "ukgZw9l4nWId",
        "outputId": "8fb50dbf-ba12-4599-c939-d5b1d4990209"
      },
      "source": [
        "lin_reg.predict(x_test)"
      ],
      "execution_count": null,
      "outputs": [
        {
          "output_type": "execute_result",
          "data": {
            "text/plain": [
              "array([127.,  13., 163., ...,  26., 127.,  84.])"
            ]
          },
          "metadata": {
            "tags": []
          },
          "execution_count": 33
        }
      ]
    },
    {
      "cell_type": "code",
      "metadata": {
        "colab": {
          "base_uri": "https://localhost:8080/"
        },
        "id": "e35scYmRnV7l",
        "outputId": "5eb8a490-5870-448f-f774-c116f1c46b28"
      },
      "source": [
        "lin_reg.score(x_test, y_test)"
      ],
      "execution_count": null,
      "outputs": [
        {
          "output_type": "execute_result",
          "data": {
            "text/plain": [
              "1.0"
            ]
          },
          "metadata": {
            "tags": []
          },
          "execution_count": 34
        }
      ]
    },
    {
      "cell_type": "code",
      "metadata": {
        "id": "qj9fy2H_lXPi"
      },
      "source": [
        "# from sklearn.preprocessing import MinMaxScaler\n",
        "\n",
        "# min_max_scaler = MinMaxScaler()\n",
        "\n",
        "# x_train_minmax_scaled = min_max_scaler.fit_transform(x_train)"
      ],
      "execution_count": null,
      "outputs": []
    },
    {
      "cell_type": "code",
      "metadata": {
        "id": "vATUfJ2SiDcc"
      },
      "source": [
        "# lin_reg.fit(x_train_minmax_scaled, y_train)"
      ],
      "execution_count": null,
      "outputs": []
    },
    {
      "cell_type": "code",
      "metadata": {
        "id": "fk-wjfPnie1Q"
      },
      "source": [
        "# lin_reg.predict(x_test)"
      ],
      "execution_count": null,
      "outputs": []
    },
    {
      "cell_type": "code",
      "metadata": {
        "id": "rXJJkt9xiz54"
      },
      "source": [
        "# lin_reg.score(x_test, y_test)"
      ],
      "execution_count": null,
      "outputs": []
    },
    {
      "cell_type": "code",
      "metadata": {
        "id": "msCoBq9XoOm1"
      },
      "source": [
        "from sklearn.preprocessing import StandardScaler\n",
        "\n",
        "scaler = StandardScaler()\n",
        "\n",
        "scalered = scaler.fit_transform(x_train)\n",
        "\n",
        "x_train_scaled = scaler.transform(x_train)\n",
        "x_test_scaled = scaler.transform(x_test)"
      ],
      "execution_count": null,
      "outputs": []
    },
    {
      "cell_type": "code",
      "metadata": {
        "colab": {
          "base_uri": "https://localhost:8080/"
        },
        "id": "GzZLMv99vaYw",
        "outputId": "2ab913b5-29c8-474d-e047-669e84015aff"
      },
      "source": [
        "lin_reg.fit(x_train_scaled, y_train)"
      ],
      "execution_count": null,
      "outputs": [
        {
          "output_type": "execute_result",
          "data": {
            "text/plain": [
              "LinearRegression(copy_X=True, fit_intercept=True, n_jobs=None, normalize=False)"
            ]
          },
          "metadata": {
            "tags": []
          },
          "execution_count": 40
        }
      ]
    },
    {
      "cell_type": "code",
      "metadata": {
        "colab": {
          "base_uri": "https://localhost:8080/"
        },
        "id": "bqgEe8b4vn0H",
        "outputId": "97cae80f-fd58-474c-a10c-b9756e8b89d3"
      },
      "source": [
        "lin_reg.predict(x_test_scaled)"
      ],
      "execution_count": null,
      "outputs": [
        {
          "output_type": "execute_result",
          "data": {
            "text/plain": [
              "array([127.,  13., 163., ...,  26., 127.,  84.])"
            ]
          },
          "metadata": {
            "tags": []
          },
          "execution_count": 41
        }
      ]
    },
    {
      "cell_type": "code",
      "metadata": {
        "colab": {
          "base_uri": "https://localhost:8080/"
        },
        "id": "2dIctHc9vtWX",
        "outputId": "f8996855-7f7f-487c-c5e7-827d68badea7"
      },
      "source": [
        "lin_reg.score(x_test_scaled, y_test)"
      ],
      "execution_count": null,
      "outputs": [
        {
          "output_type": "execute_result",
          "data": {
            "text/plain": [
              "1.0"
            ]
          },
          "metadata": {
            "tags": []
          },
          "execution_count": 42
        }
      ]
    },
    {
      "cell_type": "markdown",
      "metadata": {
        "id": "5Rm9xrCi22W3"
      },
      "source": [
        "선형회귀 결과....  \n",
        "> 과대적합되었다..\n",
        "어디서 잘못된건지 모르겠다.  \n",
        "\n",
        "-> 규제를 해보다...?"
      ]
    },
    {
      "cell_type": "code",
      "metadata": {
        "id": "lDN2XQSOi9E3"
      },
      "source": [
        "import matplotlib.pyplot as plt\n",
        "import seaborn as sns\n",
        "my_predictions = {}\n",
        "colors = ['r', 'c', 'm', 'y', 'k', 'khaki', 'teal', 'orchid', 'sandybrown',\n",
        "          'greenyellow', 'dodgerblue', 'deepskyblue', 'rosybrown', 'firebrick',\n",
        "          'deeppink', 'crimson', 'salmon', 'darkred', 'olivedrab', 'olive', \n",
        "          'forestgreen', 'royalblue', 'indigo', 'navy', 'mediumpurple', 'chocolate',\n",
        "          'gold', 'darkorange', 'seagreen', 'turquoise', 'steelblue', 'slategray', \n",
        "          'peru', 'midnightblue', 'slateblue', 'dimgray', 'cadetblue', 'tomato'\n",
        "         ]\n",
        "def plot_predictions(name_, pred, actual):\n",
        "    df = pd.DataFrame({'prediction': pred, 'actual': y_test})\n",
        "    df = df.sort_values(by='actual').reset_index(drop=True)\n",
        "    plt.figure(figsize=(12, 9))\n",
        "    plt.scatter(df.index, df['prediction'], marker='x', color='r')\n",
        "    plt.scatter(df.index, df['actual'], alpha=0.7, marker='o', color='black')\n",
        "    plt.title(name_, fontsize=15)\n",
        "    plt.legend(['prediction', 'actual'], fontsize=12)\n",
        "    plt.show()\n",
        "def mse_eval(name_, pred, actual):\n",
        "    global predictions\n",
        "    global colors\n",
        "    plot_predictions(name_, pred, actual)\n",
        "    mse = mean_squared_error(pred, actual)\n",
        "    my_predictions[name_] = mse\n",
        "    y_value = sorted(my_predictions.items(), key=lambda x: x[1], reverse=True)\n",
        "    df = pd.DataFrame(y_value, columns=['model', 'mse'])\n",
        "    print(df)\n",
        "    min_ = df['mse'].min() - 10\n",
        "    max_ = df['mse'].max() + 10\n",
        "    length = len(df)\n",
        "    plt.figure(figsize=(10, length))\n",
        "    ax = plt.subplot()\n",
        "    ax.set_yticks(np.arange(len(df)))\n",
        "    ax.set_yticklabels(df['model'], fontsize=15)\n",
        "    bars = ax.barh(np.arange(len(df)), df['mse'])\n",
        "    for i, v in enumerate(df['mse']):\n",
        "        idx = np.random.choice(len(colors))\n",
        "        bars[i].set_color(colors[idx])\n",
        "        ax.text(v + 2, i, str(round(v, 3)), color='k', fontsize=15, fontweight='bold')\n",
        "    plt.title('MSE Error', fontsize=18)\n",
        "    plt.xlim(min_, max_)\n",
        "    plt.show()\n",
        "def remove_model(name_):\n",
        "    global my_predictions\n",
        "    try:\n",
        "        del my_predictions[name_]\n",
        "    except KeyError:\n",
        "        return False\n",
        "    return True"
      ],
      "execution_count": null,
      "outputs": []
    },
    {
      "cell_type": "code",
      "metadata": {
        "id": "EiH3HMbsewvi"
      },
      "source": [
        "from sklearn.linear_model import ElasticNet"
      ],
      "execution_count": null,
      "outputs": []
    },
    {
      "cell_type": "code",
      "metadata": {
        "id": "SMJLM9-9e2lc"
      },
      "source": [
        "ratios = [0.2, 0.5, 0.8]"
      ],
      "execution_count": null,
      "outputs": []
    },
    {
      "cell_type": "code",
      "metadata": {
        "colab": {
          "base_uri": "https://localhost:8080/",
          "height": 883
        },
        "id": "YEnYjslMe27M",
        "outputId": "bfca31cc-1ca7-4a3f-e8e0-1a7bfa7d6959"
      },
      "source": [
        "for ratio in ratios:\n",
        "    elastic_net = ElasticNet(alpha=0.5, l1_ratio=ratio)\n",
        "    elastic_net.fit(x_train, y_train)\n",
        "\n",
        "    pred_elastic = elastic_net.predict(x_test)\n",
        "    mse_eval('ElasticNet(l1_ratio={})'.format(ratio), pred_elastic, y_test)"
      ],
      "execution_count": null,
      "outputs": [
        {
          "output_type": "display_data",
          "data": {
            "image/png": "[encoded data removed]",
            "text/plain": [
              "<Figure size 864x648 with 1 Axes>"
            ]
          },
          "metadata": {
            "tags": [],
            "image/png": {
              "width": 714,
              "height": 539
            },
            "needs_background": "light"
          }
        },
        {
          "output_type": "error",
          "ename": "NameError",
          "evalue": "ignored",
          "traceback": [
            "\u001b[0;31m---------------------------------------------------------------------------\u001b[0m",
            "\u001b[0;31mNameError\u001b[0m                                 Traceback (most recent call last)",
            "\u001b[0;32m<ipython-input-46-8b27007d4bf9>\u001b[0m in \u001b[0;36m<module>\u001b[0;34m()\u001b[0m\n\u001b[1;32m      4\u001b[0m \u001b[0;34m\u001b[0m\u001b[0m\n\u001b[1;32m      5\u001b[0m     \u001b[0mpred_elastic\u001b[0m \u001b[0;34m=\u001b[0m \u001b[0melastic_net\u001b[0m\u001b[0;34m.\u001b[0m\u001b[0mpredict\u001b[0m\u001b[0;34m(\u001b[0m\u001b[0mx_test\u001b[0m\u001b[0;34m)\u001b[0m\u001b[0;34m\u001b[0m\u001b[0;34m\u001b[0m\u001b[0m\n\u001b[0;32m----> 6\u001b[0;31m     \u001b[0mmse_eval\u001b[0m\u001b[0;34m(\u001b[0m\u001b[0;34m'ElasticNet(l1_ratio={})'\u001b[0m\u001b[0;34m.\u001b[0m\u001b[0mformat\u001b[0m\u001b[0;34m(\u001b[0m\u001b[0mratio\u001b[0m\u001b[0;34m)\u001b[0m\u001b[0;34m,\u001b[0m \u001b[0mpred_elastic\u001b[0m\u001b[0;34m,\u001b[0m \u001b[0my_test\u001b[0m\u001b[0;34m)\u001b[0m\u001b[0;34m\u001b[0m\u001b[0;34m\u001b[0m\u001b[0m\n\u001b[0m",
            "\u001b[0;32m<ipython-input-43-5be3262c56f9>\u001b[0m in \u001b[0;36mmse_eval\u001b[0;34m(name_, pred, actual)\u001b[0m\n\u001b[1;32m     22\u001b[0m     \u001b[0;32mglobal\u001b[0m \u001b[0mcolors\u001b[0m\u001b[0;34m\u001b[0m\u001b[0;34m\u001b[0m\u001b[0m\n\u001b[1;32m     23\u001b[0m     \u001b[0mplot_predictions\u001b[0m\u001b[0;34m(\u001b[0m\u001b[0mname_\u001b[0m\u001b[0;34m,\u001b[0m \u001b[0mpred\u001b[0m\u001b[0;34m,\u001b[0m \u001b[0mactual\u001b[0m\u001b[0;34m)\u001b[0m\u001b[0;34m\u001b[0m\u001b[0;34m\u001b[0m\u001b[0m\n\u001b[0;32m---> 24\u001b[0;31m     \u001b[0mmse\u001b[0m \u001b[0;34m=\u001b[0m \u001b[0mmean_squared_error\u001b[0m\u001b[0;34m(\u001b[0m\u001b[0mpred\u001b[0m\u001b[0;34m,\u001b[0m \u001b[0mactual\u001b[0m\u001b[0;34m)\u001b[0m\u001b[0;34m\u001b[0m\u001b[0;34m\u001b[0m\u001b[0m\n\u001b[0m\u001b[1;32m     25\u001b[0m     \u001b[0mmy_predictions\u001b[0m\u001b[0;34m[\u001b[0m\u001b[0mname_\u001b[0m\u001b[0;34m]\u001b[0m \u001b[0;34m=\u001b[0m \u001b[0mmse\u001b[0m\u001b[0;34m\u001b[0m\u001b[0;34m\u001b[0m\u001b[0m\n\u001b[1;32m     26\u001b[0m     \u001b[0my_value\u001b[0m \u001b[0;34m=\u001b[0m \u001b[0msorted\u001b[0m\u001b[0;34m(\u001b[0m\u001b[0mmy_predictions\u001b[0m\u001b[0;34m.\u001b[0m\u001b[0mitems\u001b[0m\u001b[0;34m(\u001b[0m\u001b[0;34m)\u001b[0m\u001b[0;34m,\u001b[0m \u001b[0mkey\u001b[0m\u001b[0;34m=\u001b[0m\u001b[0;32mlambda\u001b[0m \u001b[0mx\u001b[0m\u001b[0;34m:\u001b[0m \u001b[0mx\u001b[0m\u001b[0;34m[\u001b[0m\u001b[0;36m1\u001b[0m\u001b[0;34m]\u001b[0m\u001b[0;34m,\u001b[0m \u001b[0mreverse\u001b[0m\u001b[0;34m=\u001b[0m\u001b[0;32mTrue\u001b[0m\u001b[0;34m)\u001b[0m\u001b[0;34m\u001b[0m\u001b[0;34m\u001b[0m\u001b[0m\n",
            "\u001b[0;31mNameError\u001b[0m: name 'mean_squared_error' is not defined"
          ]
        }
      ]
    },
    {
      "cell_type": "code",
      "metadata": {
        "id": "EPf5-NDnwjR0"
      },
      "source": [
        ""
      ],
      "execution_count": null,
      "outputs": []
    }
  ]
}