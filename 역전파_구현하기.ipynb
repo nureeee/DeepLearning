{
  "nbformat": 4,
  "nbformat_minor": 0,
  "metadata": {
    "colab": {
      "name": "역전파 구현하기.ipynb",
      "provenance": [],
      "authorship_tag": "ABX9TyOKJDaW8hZAI6CUE40NzGuU",
      "include_colab_link": true
    },
    "kernelspec": {
      "name": "python3",
      "display_name": "Python 3"
    },
    "language_info": {
      "name": "python"
    }
  },
  "cells": [
    {
      "cell_type": "markdown",
      "metadata": {
        "id": "view-in-github",
        "colab_type": "text"
      },
      "source": [
        "<a href=\"https://colab.research.google.com/github/nureeee/DeepLearning/blob/main/%EC%97%AD%EC%A0%84%ED%8C%8C_%EA%B5%AC%ED%98%84%ED%95%98%EA%B8%B0.ipynb\" target=\"_parent\"><img src=\"https://colab.research.google.com/assets/colab-badge.svg\" alt=\"Open In Colab\"/></a>"
      ]
    },
    {
      "cell_type": "markdown",
      "metadata": {
        "id": "6W3j_vNOZfXI"
      },
      "source": [
        "# 계층 ( Layer )\n",
        "* 국소적 계산\n",
        " * 내가 관심있는 연산만 신경 쓰는 것\n",
        " * **계층**별로 국소적 계산이 일어난다!\n",
        " * 하나의 계층은 하나의 일만 (국소적) 전문적으로 할 수 있어야 한다.\n",
        "* 예를 들어 ReLU 계층을 만들었으면 ReLU에 대한 순전파, 역전파만 신경쓰자!"
      ]
    },
    {
      "cell_type": "markdown",
      "metadata": {
        "id": "l5XEFogVaXeB"
      },
      "source": [
        "## 레이어 구현의 주안점\n",
        "* 순전파와 역전파를 어떻게 구현해야 할지에 대한 계획을 세워야 한다.\n",
        " 1. 논문을 보고 하는 ㄱ경우\n",
        "  * 논문에 나와있는 순전파, 역전파 수식을 연구\n",
        "  * 수식을 효율적, 간편하게 짤 수 맀는지에 대한 연구\n",
        "  * 조건문, 반복문을 최대한 배제\n",
        "2. 스스로 비즈니스를 만들어서 하는 경우 \n",
        "  * 수식을 세우고 컴퓨터로 테스츠를 해 봐여 한다.\n",
        "  * 컴퓨터에 맞는 수식을 세웠는지 컴퓨터로 검증이 필요하다."
      ]
    },
    {
      "cell_type": "markdown",
      "metadata": {
        "id": "I-P-x3y9bk_b"
      },
      "source": [
        "# 1. 곱셉 계층 구현하기\n",
        "입력이 x, y 일 때\n",
        "* forward(순전파) : x * y\n",
        "* backward(역전파) : dx = 미분값 * y, dy = 미분값 * x\n",
        "* 비고 : forward시에 입력되었던 x, y를 저장하고 있어애 한다. 그래야 backward할 때 반대방향으로 곱해줄 수 잇다,"
      ]
    },
    {
      "cell_type": "code",
      "metadata": {
        "id": "DBJK25_574s6"
      },
      "source": [
        "import numpy as np"
      ],
      "execution_count": null,
      "outputs": []
    },
    {
      "cell_type": "code",
      "metadata": {
        "id": "nXkWXVstZYC7"
      },
      "source": [
        "class MulLayer:\n",
        "    # 딥러닝 레이어 초기화 (생성자에서)는 레이어 전체에서 사용할 옵션이나 변수를 미리 준비\n",
        "    def __init__(self):\n",
        "        # 변수만 만ㄴ들어 놓기\n",
        "        self.x = None\n",
        "        self.y = None\n",
        "        # 여기서 x, y는 클래스 전체에서 사용할 수 있음\n",
        "        # 뭔가 하기 위한 재료?? 레이어등을 준비를 생성자에서 한다.\n",
        "        # 모든 준비 과정들 ??\n",
        "    \n",
        "    # 곱셈 레이어에서는 역전파에 필요한 변수를 저장\n",
        "    def forward(self, x, y):\n",
        "        # 생성자에서 만들어 놓은 변수에 값 넣기\n",
        "        self.x = x\n",
        "        self.y = y\n",
        "\n",
        "        # 순전파 연산\n",
        "        out = x * y\n",
        "        return out\n",
        "\n",
        "    # dout : 다음 층에서 흘러 들어오는 미분ㅅㄱ값\n",
        "    def backward(self, dout):\n",
        "        dx = dout * self.y\n",
        "        dy = dout * self.x\n",
        "\n",
        "        return dx, dy"
      ],
      "execution_count": null,
      "outputs": []
    },
    {
      "cell_type": "markdown",
      "metadata": {
        "id": "ivPbHEktfM2U"
      },
      "source": [
        "곱셈 레이어 테스츠"
      ]
    },
    {
      "cell_type": "code",
      "metadata": {
        "colab": {
          "base_uri": "https://localhost:8080/"
        },
        "id": "AA7GOQmWfRig",
        "outputId": "d2e019b2-4481-4b1e-ae53-a6a91a088b38"
      },
      "source": [
        "# 순전파\n",
        "# 계층은 2개\n",
        "apple = 100 # 사과 개당 가격\n",
        "apple_cnt = 2 # 사과의 개수 \n",
        "tax = 1.1 # 소비세\n",
        "\n",
        "# (apple * apple_cnt) * tax\n",
        "\n",
        "mul_apple_layer = MulLayer() # 사과 전체 가격을 구할 레이어\n",
        "mul_tax_layer = MulLayer() # 소비세까지 적용시킨 가격을 구할 레이어\n",
        "\n",
        "# 순전파 수행\n",
        "# 순서가 굉장히 중요\n",
        "# 게획한 순서 그대로 레이어를 배치해서 연산을 한다.\n",
        "# 순서가 다르면 역전파 시에 문제가 발생한다.\n",
        "\n",
        "# 반드시 순전파의 반대방향으로 계산\n",
        "\n",
        "apple_price = mul_apple_layer.forward(apple, apple_cnt)\n",
        "price       = mul_tax_layer.forward(apple_price, tax)\n",
        "\n",
        "print('최종 사과의 가격 : {:.0f}'.format(price))"
      ],
      "execution_count": null,
      "outputs": [
        {
          "output_type": "stream",
          "text": [
            "최종 사과의 가격 : 220\n"
          ],
          "name": "stdout"
        }
      ]
    },
    {
      "cell_type": "code",
      "metadata": {
        "colab": {
          "base_uri": "https://localhost:8080/"
        },
        "id": "1seZFzEYg368",
        "outputId": "a8d3ea76-2781-4fce-fc13-86565c8c1fc9"
      },
      "source": [
        "# 역전파 수행하기\n",
        "# 제일 마지막 값에 대한 미분값을 생각하기\n",
        "# d돈통 / d포스기 = 1\n",
        "dprice = 1\n",
        "\n",
        "dapple_price, dtax = mul_tax_layer.backward(dprice)\n",
        "dapple, dapple_cnt = mul_apple_layer.backward(dapple_price)\n",
        "\n",
        "print('사과 전체 가격에 대한 미분값 : {}'.format(dapple_price))\n",
        "print('사과 1개 가격에 대한 미분값 : {}'.format(dapple))\n",
        "print('사과 개수에 대한 미분값 : {}'.format(dapple_cnt))\n",
        "print('소비세 대한 미분값 : {}'.format(dtax))"
      ],
      "execution_count": null,
      "outputs": [
        {
          "output_type": "stream",
          "text": [
            "사과 전체 가격에 대한 미분값 : 1.1\n",
            "사과 1개 가격에 대한 미분값 : 2.2\n",
            "사과 개수에 대한 미분값 : 110.00000000000001\n",
            "소비세 대한 미분값 : 200\n"
          ],
          "name": "stdout"
        }
      ]
    },
    {
      "cell_type": "markdown",
      "metadata": {
        "id": "a_Hs1NI-k78v"
      },
      "source": [
        "# 2. 덧셈 계층 구현하기\n",
        "* forward : x + y\n",
        "* backward : 뒷층에서 보낸 미분값에 1만 하면 된다. dx = dout * 1, dy = dout * 1\n",
        " * dx = dout * dforward/dx\n",
        " * dy = dout * dbackward/dy\n",
        "* 비고 : 곱셈게층과는 달게 forward시에 입력된 값을 가지고 있지 않아도 된다."
      ]
    },
    {
      "cell_type": "code",
      "metadata": {
        "id": "YNLRDzvOmgtP"
      },
      "source": [
        "class AddLayer:\n",
        "    def __init__(self):\n",
        "        pass\n",
        "    \n",
        "    def forward(self, x, y):\n",
        "        out = x + y\n",
        "        return out\n",
        "    \n",
        "    def backward(self, dout):\n",
        "        dx = dout * 1\n",
        "        dy = dout * 1\n",
        "\n",
        "        return dx, dy"
      ],
      "execution_count": null,
      "outputs": []
    },
    {
      "cell_type": "code",
      "metadata": {
        "id": "kRB-w09WnBhW"
      },
      "source": [
        "apple = 100\n",
        "apple_cnt = 2\n",
        "\n",
        "orange = 150\n",
        "orange_cnt = 3\n",
        "\n",
        "tax = 1.1"
      ],
      "execution_count": null,
      "outputs": []
    },
    {
      "cell_type": "code",
      "metadata": {
        "id": "NZZRCuIWtn0O"
      },
      "source": [
        "# 1.전체 가격\n",
        "# 2. 사과 개수 미분값\n",
        "# 3. 사과 전체 가격 미분값\n",
        "# 4. 사과 1개 가격 미분값\n",
        "\n",
        "# 5. 오렌지 개수 미분값\n",
        "# 6. 오렌지 전체 가격 미분값\n",
        "# 7. 오렌지 1개 가격미분값\n",
        "\n",
        "# 8. 소비세 미분값"
      ],
      "execution_count": null,
      "outputs": []
    },
    {
      "cell_type": "code",
      "metadata": {
        "colab": {
          "base_uri": "https://localhost:8080/"
        },
        "id": "nAOxIQtunOIG",
        "outputId": "594ab7cb-9df9-414a-eefc-d350e6593410"
      },
      "source": [
        "# 1계층\n",
        "mul_apple_layer = MulLayer() # 사과전체의 가격의 레이러???\n",
        "mul_orange_layer = MulLayer() # 오렌지 전체의 가격의 레이어\n",
        "# 2계층\n",
        "add_apple_orange_layer = AddLayer() # 오렌지와 사과가격의 합의 레이어??\n",
        "# 3계층\n",
        "mul_apple_orange_tax_layer = MulLayer() # 오렌지와 사과의 소비세의 레이어??\n",
        "\n",
        "\n",
        "# 순전파\n",
        "# 1계층 게산\n",
        "apple_price = mul_apple_layer.forward(apple, apple_cnt)\n",
        "orange_price = mul_orange_layer.forward(orange, orange_cnt)\n",
        "# 2계층 계산\n",
        "apple_orange_price = add_apple_orange_layer.forward(apple_price, orange_price)\n",
        "# 3계층 계산\n",
        "total_price = mul_apple_orange_tax_layer.forward(apple_orange_price, tax)\n",
        "print('총 가격 : {}'.format(total_price))"
      ],
      "execution_count": null,
      "outputs": [
        {
          "output_type": "stream",
          "text": [
            "총 가격 : 715.0000000000001\n"
          ],
          "name": "stdout"
        }
      ]
    },
    {
      "cell_type": "code",
      "metadata": {
        "colab": {
          "base_uri": "https://localhost:8080/"
        },
        "id": "f0lvwbxTqcmT",
        "outputId": "9c6b73c1-06bf-42bd-e37c-0dc1c15d3800"
      },
      "source": [
        "# 역전파\n",
        "\n",
        "dtotal_price = 1\n",
        "\n",
        "dapple_orange_price, dtax = mul_apple_orange_tax_layer.backward(dtotal_price)\n",
        "dapple_price, dorange_price = add_apple_orange_layer.backward(dapple_orange_price)\n",
        "dorange, dorange_cnt = mul_orange_layer.backward(dorange_price)\n",
        "dapple, dapple_cnt = mul_apple_layer.backward(dapple_price)\n",
        "\n",
        "print(total_price) # 전체 가격\n",
        "print('\\n')\n",
        "print(dapple_cnt) # 사과 개수 미분\n",
        "print(dapple_price) # 사과 전체 가격 미분\n",
        "print(dapple) # 사과 1개 가격 미분\n",
        "print('\\n')\n",
        "print(dorange_cnt) # 오렌지 개수 미분\n",
        "print(dorange_price) # 오렌지 전체 가격 미분\n",
        "print(dorange) # 오렌지 1개 가격 미분\n",
        "print('\\n')\n",
        "print(dtax) # 소비세 미분 가격"
      ],
      "execution_count": null,
      "outputs": [
        {
          "output_type": "stream",
          "text": [
            "715.0000000000001\n",
            "\n",
            "\n",
            "110.00000000000001\n",
            "1.1\n",
            "2.2\n",
            "\n",
            "\n",
            "165.0\n",
            "1.1\n",
            "3.3000000000000003\n",
            "\n",
            "\n",
            "650\n"
          ],
          "name": "stdout"
        }
      ]
    },
    {
      "cell_type": "markdown",
      "metadata": {
        "id": "ZYF4ZAWespVG"
      },
      "source": [
        "# 신경망 레이어 구현"
      ]
    },
    {
      "cell_type": "markdown",
      "metadata": {
        "id": "sQ2G1J2bFIW3"
      },
      "source": [
        "## ReLU 레이어\n",
        "* forward : 입력값이 0보다 크면 입력값을 그대로 출력\n",
        "* backward : forward 시에 0보다 작았으면 해당값 위치에 0, 0보다 크면 변화율이1"
      ]
    },
    {
      "cell_type": "code",
      "metadata": {
        "id": "xIZguLFHFjDI"
      },
      "source": [
        "class ReLU:\n",
        "    def __init__(self):\n",
        "\n",
        "        # mask : 순전파 시에 음수였던 인덱스를 저장하기 위함\n",
        "        # mask가 있어야 순전파 때 음수였던 부분을 역전파 때 0으로 만들어 줄 수 있다.\n",
        "        self.mask = None\n",
        "\n",
        "    def forward(self, x):\n",
        "        self.mask = (x <= 0) # 음수면 True, 양수면 False\n",
        "\n",
        "        out = x.copy() # 원본 배열 복사\n",
        "        out[self.mask] = 0 # 음수 엮전 부분만 0이된다\n",
        "\n",
        "        return out\n",
        "\n",
        "    def backward(self, dout):\n",
        "        # 순전파 때 음수였던 부분을 0으러 만들었다.\n",
        "        dout[self.mask] = 0\n",
        "        dx = dout \n",
        "\n",
        "        return dx"
      ],
      "execution_count": null,
      "outputs": []
    },
    {
      "cell_type": "code",
      "metadata": {
        "colab": {
          "base_uri": "https://localhost:8080/"
        },
        "id": "Dk8XOkLxHahP",
        "outputId": "a57a7ccd-5de6-4ad4-96db-8462c8986fae"
      },
      "source": [
        "x = np.array([[1.0, -0.5],\n",
        "             [-2.0, 3.0]])\n",
        "relu = ReLU()\n",
        "relu.forward(x)\n"
      ],
      "execution_count": null,
      "outputs": [
        {
          "output_type": "execute_result",
          "data": {
            "text/plain": [
              "array([[1., 0.],\n",
              "       [0., 3.]])"
            ]
          },
          "metadata": {
            "tags": []
          },
          "execution_count": 22
        }
      ]
    },
    {
      "cell_type": "code",
      "metadata": {
        "colab": {
          "base_uri": "https://localhost:8080/"
        },
        "id": "nny3pYuEHu5r",
        "outputId": "0ef4f025-f585-4eb9-9446-9dc1ed23c757"
      },
      "source": [
        "relu.mask"
      ],
      "execution_count": null,
      "outputs": [
        {
          "output_type": "execute_result",
          "data": {
            "text/plain": [
              "array([[False,  True],\n",
              "       [ True, False]])"
            ]
          },
          "metadata": {
            "tags": []
          },
          "execution_count": 23
        }
      ]
    },
    {
      "cell_type": "code",
      "metadata": {
        "colab": {
          "base_uri": "https://localhost:8080/"
        },
        "id": "b0Fl2VMBH1fn",
        "outputId": "dcb78d5c-8456-4c52-bd49-66431663a084"
      },
      "source": [
        "dout = np.array([[-0.1, 3.0],\n",
        "            [1.3, -1.1]])\n",
        "relu.backward(dout)"
      ],
      "execution_count": null,
      "outputs": [
        {
          "output_type": "execute_result",
          "data": {
            "text/plain": [
              "array([[-0.1,  0. ],\n",
              "       [ 0. , -1.1]])"
            ]
          },
          "metadata": {
            "tags": []
          },
          "execution_count": 26
        }
      ]
    },
    {
      "cell_type": "markdown",
      "metadata": {
        "id": "J2oR50rTPGjY"
      },
      "source": [
        "* 시그모이드 레이어에서 순전파 때 기억라고 있어야 할 값 : y값만 알고 있으면 된다."
      ]
    },
    {
      "cell_type": "code",
      "metadata": {
        "id": "95LLndIGPYRm"
      },
      "source": [
        "class Sigmoid:\n",
        "\n",
        "    def __init__(self):\n",
        "        # y를 out이라고 하자\n",
        "        self.out = None\n",
        "\n",
        "    def forward(self, x):\n",
        "        out = 1 / ( 1 + np.exp(-x))\n",
        "        self.out = out\n",
        "\n",
        "        return out\n",
        "\n",
        "    def backward(self, dout):\n",
        "        dx = dout * self.out * ( 1 - self.out)\n",
        "        return dx"
      ],
      "execution_count": null,
      "outputs": []
    },
    {
      "cell_type": "markdown",
      "metadata": {
        "id": "igR9VAwckrpd"
      },
      "source": [
        "## Affine 계층\n",
        "* forward : 입력된 x 데이터에 대해 평탄화 수행 wx+b 출력\n",
        " 1. WX + B\n",
        " 2. 평탄화\n",
        "   * 1차원 배열로 데이터가 들어왔을 때 대응\n",
        "   * 다차원 배열 ( 텐서 )에 대한 대응\n",
        "   *  **원본 데이터의 형상을 저장**\n",
        "   >미분값은 2차원배열로만 나오기ㅣ때문에 원본의 shape으로 나타내기 위해 결과값을 reshape을 해준다\n",
        "\n",
        "* backward\n",
        " 1. 미분값(dout)과 가중치의 전치행렬 내적\n",
        " 2. 입력값의 전치행렬과 미분값 내적(가중치에 대한 내적)\n",
        " 3. 배치를 축으로 편향 합 구하기 (axis=0)\n",
        " 4. 입력값의 미분값의 형상을 원본데이터의 형상으로 다시 바꿔주기\n",
        " "
      ]
    },
    {
      "cell_type": "code",
      "metadata": {
        "id": "wTaJQR8zMHqW"
      },
      "source": [
        "class Affine:\n",
        "\n",
        "    def _init__(self, w, b):\n",
        "        # 1. 가중치, 편향, 입력값 x\n",
        "        # 실행할 때 w, b는 입력이 되어있어야 한다.\n",
        "        self.w = w\n",
        "        self.b = b\n",
        "\n",
        "        self.x = None\n",
        "\n",
        "        # 2. x의 형상 저장\n",
        "        # x에 대한 역전파를 수행할 때 모양이 바뀌어 버린 x의 미분값의 \n",
        "        # 형상을 원래대로 돌려놓기 위해 원본 x의 형상을 저장한 변수\n",
        "        self.original_x_shape = None\n",
        "        \n",
        "        # 3. w, b의 기울기 배열\n",
        "        # 최적화를 위해 각 매개변수의 미분값을 가지고 있어야 한다\n",
        "        # 추후에 경사하강법 등을 구현하기 위해 사용\n",
        "        # dw, db를 사용해서 w, b를 갱신 하는 것을 <<학습>>이라고 한다\n",
        "        self.dw = None\n",
        "        self.db = None\n",
        "\n",
        "    def forward(self, x):\n",
        "        # 텐서 대응을 위해 입력값 x의 형상을 저장한다.\n",
        "        self.original_x_shape = x.shape\n",
        "\n",
        "        # 평탄화 진행\n",
        "        DATA_SIZE = x.shape[0]\n",
        "        x = x.reshape(DATA_SIZE, -1)\n",
        "\n",
        "        self.x = x  # 역전파 떄 가중치와 내적을 하기 위해 저장\n",
        "        \n",
        "        out = np.dot(self.x, self, w) + self.b\n",
        "\n",
        "        return out\n",
        "        # 활성화 계층을 따로 만들어 주었기 때문에 따로 넣어주지 않아도 된다.\n",
        "\n",
        "    def backward(self, dout):\n",
        "        dx = np.dot(dout, self.w.T)\n",
        "\n",
        "        self.dw = np.dot(self.x.T, dout)\n",
        "        self.db = np.sum(dout, axis=0)\n",
        "\n",
        "        dx = dx.reshape(*self.original_x_shape) # *이 들어가면 언팩킹되어 순서되로 들어간다.\n",
        "\n",
        "        return dx\n"
      ],
      "execution_count": null,
      "outputs": []
    },
    {
      "cell_type": "markdown",
      "metadata": {
        "id": "UEEn3DunWWVo"
      },
      "source": [
        "## 소프트 맥스 with 로스 계층 (출력층)\n",
        "* 소프트맥스에 의한 분류 밑 CEE를 활용한 손실함수를 동시에 구현\n",
        "* forward\n",
        "  * 순전파 시에는 소프트맥스를 적용하고 로스를 적용\n",
        "  \n"
      ]
    },
    {
      "cell_type": "code",
      "metadata": {
        "id": "pNMJcfs7UPXH"
      },
      "source": [
        "def softmax(x):\n",
        "    if x.ndim == 2:\n",
        "        x = x.T\n",
        "        x = x - np.max(x, axis=0)\n",
        "        y = np.exp(x) / np.sum(np.exp(x), axis=0)\n",
        "        return y.T \n",
        "    x = x - np.max(x) # 오버플로 대책\n",
        "    return np.exp(x) / np.sum(np.exp(x))\n",
        "def cross_entropy_error(y, t):\n",
        "    if y.ndim == 1:\n",
        "        t = t.reshape(1, t.size)\n",
        "        y = y.reshape(1, y.size)\n",
        "    # 훈련 데이터가 원-핫 벡터라면 정답 레이블의 인덱스로 반환\n",
        "    if t.size == y.size:\n",
        "        t = t.argmax(axis=1)\n",
        "    batch_size = y.shape[0]\n",
        "    return -np.sum(np.log(y[np.arange(batch_size), t] + 1e-7)) / batch_size"
      ],
      "execution_count": null,
      "outputs": []
    },
    {
      "cell_type": "code",
      "metadata": {
        "id": "XmgyGm5qXZPi"
      },
      "source": [
        "class SoftmaxWithLoss:\n",
        "\n",
        "    def __init__(self):\n",
        "        self.loss = None # 손실값 함수에 대한 미분값을 구할 것이기 때문에 값보다는 함수가 중요??\n",
        "        self.y = None # 예측값 (역전파 때 사용)\n",
        "        self.t = None # 정답 레이블 (역전파 때 사용)\n",
        "\n",
        "    def forward(self, x, t):\n",
        "        self.t = t\n",
        "        self.y = softmax(x)\n",
        "        self.loss = cross_entropy_error(self.y, self.t)\n",
        "\n",
        "        return self.loss\n",
        "\n",
        "    def backward(self, dout=1): # dout이 1인 이유는돈통과 포스기를 생각하자\n",
        "\n",
        "        #배치 고려하기\n",
        "        batch_size = self.t.shape[0]\n",
        "        \n",
        "        # t가 원핫인코딩이 되어있는지, 안되어 있는지 고려\n",
        "        if self.t.size == self.y.size: # 출력층의 원소 개수를 비교하는 것은 원핫인코딩이 되어있는 t\n",
        "        # 항상 y는 softmax의 결과물(N, output_size) > 출력층 개수\n",
        "        # t가 원핫인코딩이 되어있으면 (N, output_size)\n",
        "        # t가 원핫인코딩이 안되어 있으면(N,)\n",
        "            dx = (self.y - self.t) / batch_size\n",
        "        else: #t가 원핫인코딩이 되어있지 않은 경우\n",
        "            dx = self.y.copy()\n",
        "\n",
        "        # 원핫인코딩이 되어있지 않은 t는 정답 레이블의 인덱스로 생각할 수 있다.\n",
        "        # y = [0.2, 0.1, 0.7], t = 2\n",
        "            dx[np.arange(batch_size), self.t] -= 1\n",
        "            dx = dx / batch_size\n",
        "\n",
        "        return dx\n"
      ],
      "execution_count": null,
      "outputs": []
    },
    {
      "cell_type": "markdown",
      "metadata": {
        "id": "wPm0lo0HhIxK"
      },
      "source": [
        "# 신경망 레이어를 이용해서 MNIST 분류 네트워크 구축"
      ]
    },
    {
      "cell_type": "code",
      "metadata": {
        "id": "1B9J6G3Mhn7O"
      },
      "source": [
        "from collections import OrderedDict # 추가 순서가 유지되는 dict"
      ],
      "execution_count": null,
      "outputs": []
    },
    {
      "cell_type": "code",
      "metadata": {
        "id": "F82NIfyZixde"
      },
      "source": [
        "class TwoLayerNet:\n",
        "\n",
        "    def __init__(self, input_size, hidden_size, output_size, weight-std=0.01):\n",
        "        # 매개변수 초기화\n",
        "        self.params = {}\n",
        "\n",
        "        # 1층 은닉층을 위한 매개변수\n",
        "        self.params['w1'] = weight_init_std 8 np.random.randn(input_size, hidden_size)\n",
        "        self.params['b1'] = np.zeros(hidden_size)\n",
        "\n",
        "        #2층 출력층을 위한 매개변수\n",
        "        self.params['w2'] = weight_init_std * np.random.randn(hidden_size, output_size)\n",
        "        self.params['b2'] = np.zeros(output)\n",
        "\n",
        "        # 레이어 만들기\n",
        "        # 추가되는 레이어의 순서가 바뀌면 안되기 때문에 OrdereDict를 활용\n",
        "        self.layers = OrderedDict()\n",
        "\n",
        "        # Affine 1층 (은닉층 - Fully Connected Layer)\n",
        "        self.layers['Affine1'] = Affine(self.params['w1'], self.params['b1'])\n",
        "        self.layers['ReLU'] = RelU()\n",
        "\n",
        "        # Affine 층 (출력층)\n",
        "        self.layers['Affine2'] = Affine(self.params['w2'], self.params['b2'])\n",
        "\n",
        "        # 항상 마지막 층은 소프트맥스위드로스가 되어야 한다.\n",
        "        self.lastLayer = SoftmaxWithLoss()\n",
        "\n",
        "    def predict(self, x):\n",
        "        for layer in self.layers.values(): # value들의 리스트\n",
        "            x = layer.forward(x)\n",
        "\n",
        "        return x\n",
        "\n",
        "    def loss(self, x, t):\n",
        "        y = self.predict(x)\n",
        "        \n",
        "        return self.lastLayer.forward(y, t)     \n",
        "    \n",
        "    def gradient(self, x, t):\n",
        "\n",
        "        self.loss(x, t) # 역전파를 하기 위해 순전파의 값을 자기고 해야된다.\n",
        "        \n",
        "        dout = 1\n",
        "        dout = self.lastLayer.backward(dout) \n",
        "\n",
        "        grads = {}\n",
        "        grad['w1']\n",
        "\n",
        "        return grads\n"
      ],
      "execution_count": null,
      "outputs": []
    }
  ]
}