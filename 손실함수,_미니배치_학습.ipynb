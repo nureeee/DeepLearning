{
  "nbformat": 4,
  "nbformat_minor": 0,
  "metadata": {
    "colab": {
      "name": "손실함수, 미니배치 학습.ipynb",
      "provenance": [],
      "authorship_tag": "ABX9TyNvbqjTgh8fCKoLLA75H64+",
      "include_colab_link": true
    },
    "kernelspec": {
      "name": "python3",
      "display_name": "Python 3"
    },
    "language_info": {
      "name": "python"
    }
  },
  "cells": [
    {
      "cell_type": "markdown",
      "metadata": {
        "id": "view-in-github",
        "colab_type": "text"
      },
      "source": [
        "<a href=\"https://colab.research.google.com/github/nureeee/DeepLearning/blob/main/%EC%86%90%EC%8B%A4%ED%95%A8%EC%88%98%2C_%EB%AF%B8%EB%8B%88%EB%B0%B0%EC%B9%98_%ED%95%99%EC%8A%B5.ipynb\" target=\"_parent\"><img src=\"https://colab.research.google.com/assets/colab-badge.svg\" alt=\"Open In Colab\"/></a>"
      ]
    },
    {
      "cell_type": "markdown",
      "metadata": {
        "id": "7nsdMy54LME0"
      },
      "source": [
        "## 지표\n",
        "* 산황 판단을 내리기 위한 기준을 정량화 한 것"
      ]
    },
    {
      "cell_type": "markdown",
      "metadata": {
        "id": "joXXdacyLn0F"
      },
      "source": [
        "## 신경망에서의 지표\n",
        "**신경망에서는 잘 못맞춘 것**을 지표로 삼는 것을 주로 사용한다\n",
        " * 잘못맞춘 것이 낮은 신경망이 좋은 신경망이다."
      ]
    },
    {
      "cell_type": "markdown",
      "metadata": {
        "id": "Nt6jWnBvMTKD"
      },
      "source": [
        "# 평균 제곱 오차\n",
        "\n",
        "* cross entropy error는 분류에 MSE는 회귀에 사용한다."
      ]
    },
    {
      "cell_type": "code",
      "metadata": {
        "id": "6hKSrHd4Pwqz"
      },
      "source": [
        "import numpy as np"
      ],
      "execution_count": 1,
      "outputs": []
    },
    {
      "cell_type": "markdown",
      "metadata": {
        "id": "6Vlsx7KyP7CF"
      },
      "source": [
        "# 교차 엔트로피 오차 ( Cross Entropy Error )\n"
      ]
    },
    {
      "cell_type": "code",
      "metadata": {
        "id": "CvXfYyKRTfIL"
      },
      "source": [
        "def criss_entropy_error(y, t):\n",
        "    delta = le-7 # 0.0000001\n",
        "    return -np.sum(t * np.log(y + delta)) # 로그에 0 이 들어가면 음수 무한대가 되기 떄문에 아주 작은 값 delta를 넣어준다\n",
        "    # delta는 셜과에 영향을 미치지 않는다.\n"
      ],
      "execution_count": 2,
      "outputs": []
    },
    {
      "cell_type": "markdown",
      "metadata": {
        "id": "gtmKL6CuT8nt"
      },
      "source": [
        "# 미니배치 학습"
      ]
    },
    {
      "cell_type": "code",
      "metadata": {
        "id": "Jq0PCYLlU7_x"
      },
      "source": [
        "import tensorflow as tf\n",
        "import matplotlib.pyplot as plt"
      ],
      "execution_count": 3,
      "outputs": []
    },
    {
      "cell_type": "code",
      "metadata": {
        "id": "dY9FemvLcSdJ"
      },
      "source": [
        "# mnist 데이터 세트 로딩\n",
        "from tensorflow.keras import datasets\n",
        "mnist = datasets.mnist\n",
        "\n",
        "(X_train, y_train), (X_test, y_test) = mnist.load_data()"
      ],
      "execution_count": 4,
      "outputs": []
    },
    {
      "cell_type": "code",
      "metadata": {
        "colab": {
          "base_uri": "https://localhost:8080/"
        },
        "id": "SpGcD-gScrqw",
        "outputId": "65aadcd0-7c2e-4c9d-a783-0293bea0d8d9"
      },
      "source": [
        "TRAIN_IMAGE_SIZE = X_train.shape[0]\n",
        "\n",
        "X_train = X_train.reshape(TRAIN_IMAGE_SIZE, -1) # x_train shape바꿔주기\n",
        "X_train.shape, y_train.shape"
      ],
      "execution_count": 5,
      "outputs": [
        {
          "output_type": "execute_result",
          "data": {
            "text/plain": [
              "((60000, 784), (60000,))"
            ]
          },
          "metadata": {
            "tags": []
          },
          "execution_count": 5
        }
      ]
    },
    {
      "cell_type": "markdown",
      "metadata": {
        "id": "Zy2dhjEfdVVX"
      },
      "source": [
        "# y_train 원핫 인코딩"
      ]
    },
    {
      "cell_type": "code",
      "metadata": {
        "colab": {
          "base_uri": "https://localhost:8080/"
        },
        "id": "1tTz3XKhgwVR",
        "outputId": "87e40dfe-6dd1-45e1-d1de-69fa6deba326"
      },
      "source": [
        "y_train[:3]\n",
        "# 원핫 인코딩이 되기 위한 shape으로 만들기(60000,)에서 (-1, 1)로 바꿔서 원핫인코딩이 0과 1로 바뀌기 위해 스칼라 값이 10개가 되기 위해 바꿈\n",
        "# 항목별로 10개가 필요하기 때문에 "
      ],
      "execution_count": 9,
      "outputs": [
        {
          "output_type": "execute_result",
          "data": {
            "text/plain": [
              "array([5, 0, 4], dtype=uint8)"
            ]
          },
          "metadata": {
            "tags": []
          },
          "execution_count": 9
        }
      ]
    },
    {
      "cell_type": "code",
      "metadata": {
        "colab": {
          "base_uri": "https://localhost:8080/"
        },
        "id": "3XJCKsAbiTLP",
        "outputId": "926e0c13-d0c6-4389-8d71-a19e215322a4"
      },
      "source": [
        "y_train = y_train.reshape(-1, 1)\n",
        "y_train.shape"
      ],
      "execution_count": 13,
      "outputs": [
        {
          "output_type": "execute_result",
          "data": {
            "text/plain": [
              "(60000, 1)"
            ]
          },
          "metadata": {
            "tags": []
          },
          "execution_count": 13
        }
      ]
    },
    {
      "cell_type": "code",
      "metadata": {
        "colab": {
          "base_uri": "https://localhost:8080/"
        },
        "id": "HCb_9Bo3li2p",
        "outputId": "5fc79391-bfe9-4fba-c821-7e65c0b9dcee"
      },
      "source": [
        "y_train[:3]"
      ],
      "execution_count": 18,
      "outputs": [
        {
          "output_type": "execute_result",
          "data": {
            "text/plain": [
              "array([[5],\n",
              "       [0],\n",
              "       [4]], dtype=uint8)"
            ]
          },
          "metadata": {
            "tags": []
          },
          "execution_count": 18
        }
      ]
    },
    {
      "cell_type": "code",
      "metadata": {
        "id": "1MYUK3iCdG7P"
      },
      "source": [
        "# 내가한 코드....\n",
        "from sklearn.preprocessing import OneHotEncoder\n",
        "\n",
        "ohe = OneHotEncoder() # ohe\n",
        "\n",
        "# # 원핫 인코딩을 하기 위해 shape을 바꿔준다.\n",
        "# y_train = y_train.reshape(-1, 1) \n",
        "\n",
        "# # 원핫인코딩을 통해 데이터를 변형시켜준다.\n",
        "y_train_ohe = ohe.fit_transform(y_train)\n",
        "\n",
        "# # 데이터의 shape을 확인해 준다.\n",
        "# y_train_ohe.shape\n",
        "\n",
        "# print(y_train_ohe)"
      ],
      "execution_count": 14,
      "outputs": []
    },
    {
      "cell_type": "code",
      "metadata": {
        "colab": {
          "base_uri": "https://localhost:8080/"
        },
        "id": "VgAqDaJWfsr_",
        "outputId": "834c2c1b-ceed-4336-9d7f-bb9fdd9b5e61"
      },
      "source": [
        "y_train_ohe_arr = y_train_ohe.toarray()\n",
        "y_train_ohe_arr.shape"
      ],
      "execution_count": 16,
      "outputs": [
        {
          "output_type": "execute_result",
          "data": {
            "text/plain": [
              "(60000, 10)"
            ]
          },
          "metadata": {
            "tags": []
          },
          "execution_count": 16
        }
      ]
    },
    {
      "cell_type": "code",
      "metadata": {
        "colab": {
          "base_uri": "https://localhost:8080/"
        },
        "id": "XvtTbeTzjYpe",
        "outputId": "2c515e54-ae1d-4f12-b7b2-42e408c2bd9d"
      },
      "source": [
        "y_train_ohe_arr[:3]"
      ],
      "execution_count": 17,
      "outputs": [
        {
          "output_type": "execute_result",
          "data": {
            "text/plain": [
              "array([[0., 0., 0., 0., 0., 1., 0., 0., 0., 0.],\n",
              "       [1., 0., 0., 0., 0., 0., 0., 0., 0., 0.],\n",
              "       [0., 0., 0., 0., 1., 0., 0., 0., 0., 0.]])"
            ]
          },
          "metadata": {
            "tags": []
          },
          "execution_count": 17
        }
      ]
    },
    {
      "cell_type": "markdown",
      "metadata": {
        "id": "7J3ObbLqjhZ4"
      },
      "source": [
        "# 미니배치 구현"
      ]
    },
    {
      "cell_type": "code",
      "metadata": {
        "colab": {
          "base_uri": "https://localhost:8080/"
        },
        "id": "DKy6ckyrmz2n",
        "outputId": "d3c8f89b-3266-4bbf-9b27-6945e653ce14"
      },
      "source": [
        "import numpy as np\n",
        "\n",
        "# 훈련데이터 전체에서 무작위로 10장만 빼오기\n",
        "train_size = X_train.shape[0] # 전체 훈련 데이터 세트 크기\n",
        "batch_size = 10 # 미니배치 사이즈\n",
        "\n",
        "batch_mask = np.random.choice(train_size, batch_size)\n",
        "\n",
        "batch_mask\n"
      ],
      "execution_count": 20,
      "outputs": [
        {
          "output_type": "execute_result",
          "data": {
            "text/plain": [
              "array([11869, 10911, 22804, 41590, 23268, 48049, 47038,  2919,  5144,\n",
              "       45661])"
            ]
          },
          "metadata": {
            "tags": []
          },
          "execution_count": 20
        }
      ]
    },
    {
      "cell_type": "code",
      "metadata": {
        "colab": {
          "base_uri": "https://localhost:8080/"
        },
        "id": "6qxRrgjmm4X5",
        "outputId": "20a54236-e0ca-42eb-e966-ecdbe7a5d634"
      },
      "source": [
        "X_batch = X_train[batch_mask]\n",
        "t_batch = y_train_ohe_arr[batch_mask]\n",
        "\n",
        "X_batch.shape, t_batch.shape"
      ],
      "execution_count": 21,
      "outputs": [
        {
          "output_type": "execute_result",
          "data": {
            "text/plain": [
              "((10, 784), (10, 10))"
            ]
          },
          "metadata": {
            "tags": []
          },
          "execution_count": 21
        }
      ]
    },
    {
      "cell_type": "markdown",
      "metadata": {
        "id": "ly0Tu5HqnvzO"
      },
      "source": [
        "## ver 1 - 원핫인코딩이 되어 있는 형태!"
      ]
    },
    {
      "cell_type": "code",
      "metadata": {
        "id": "_ZECa0IooNx0"
      },
      "source": [
        "def cross_entropy_error_v1(y, t):\n",
        "    \n",
        "    delta = 1e-6\n",
        "    \n",
        "    if y.ndim == 1: # 배치를 사용하지 않은 경우\n",
        "        #batch 사이즈를 강제로 1로 저장한다\n",
        "        t = t.reshape(1, -1)\n",
        "        y = y.reshape(1, -1)\n",
        "\n",
        "    batch_size = y.shape[0]\n",
        "    return -np.sum(t * np.log(y + delta)) / batch_size"
      ],
      "execution_count": 22,
      "outputs": []
    },
    {
      "cell_type": "markdown",
      "metadata": {
        "id": "ewO3JOTxqZ-6"
      },
      "source": [
        "## ver 2 - t가 원핫인코딩이 되어 있지 않으면?"
      ]
    },
    {
      "cell_type": "code",
      "metadata": {
        "id": "MTJWjYHGqja0"
      },
      "source": [
        "def cross_entropy_error_v2(y, t):\n",
        "    if y.ndim ==1:\n",
        "        t = t.reshape(1, t.size) # t.size대신 -1을 넣어도 된다, t의 원소개수\n",
        "        y = y.reshape(1, y.size)\n",
        "\n",
        "    batch_size = y.shape[0]\n",
        "    return -np.sum(np.log(y[np.arrange(batch_size), t])) / batch_size"
      ],
      "execution_count": 25,
      "outputs": []
    },
    {
      "cell_type": "code",
      "metadata": {
        "id": "BTsLUs1arrfM"
      },
      "source": [
        ""
      ],
      "execution_count": null,
      "outputs": []
    }
  ]
}