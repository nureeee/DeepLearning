{
  "nbformat": 4,
  "nbformat_minor": 0,
  "metadata": {
    "colab": {
      "name": "residual network.ipynb",
      "provenance": [],
      "authorship_tag": "ABX9TyNosSoZHUK0rvr2KfONbFgl",
      "include_colab_link": true
    },
    "kernelspec": {
      "name": "python3",
      "display_name": "Python 3"
    },
    "language_info": {
      "name": "python"
    },
    "accelerator": "GPU"
  },
  "cells": [
    {
      "cell_type": "markdown",
      "metadata": {
        "id": "view-in-github",
        "colab_type": "text"
      },
      "source": [
        "<a href=\"https://colab.research.google.com/github/nureeee/DeepLearning/blob/main/residual_network.ipynb\" target=\"_parent\"><img src=\"https://colab.research.google.com/assets/colab-badge.svg\" alt=\"Open In Colab\"/></a>"
      ]
    },
    {
      "cell_type": "code",
      "metadata": {
        "id": "sQSLQGDXyLvD"
      },
      "source": [
        "import tensorflow as tf\n",
        "import numpy as np"
      ],
      "execution_count": 2,
      "outputs": []
    },
    {
      "cell_type": "code",
      "metadata": {
        "id": "mnMJblK_yaS4"
      },
      "source": [
        "class ResidualUnit(tf.keras.Model):\n",
        "    def __init__(self, filter_in, filter_out, kernel_size):\n",
        "        super(ResidualUnit, self).__init__()\n",
        "        \n",
        "        self.bn1 = tf.keras.layers.BatchNormalization()\n",
        "        self.conv1 = tf.keras.layers.Conv2D(filter_out, kernel_size, padding='same')\n",
        "\n",
        "        self.bn2 = tf.keras.layers.BatchNormalization()\n",
        "        self.conv2 = tf.keras.layers.Conv2D(filter_out, kernel_size, padding='same')\n",
        "\n",
        "        if filter_in == filter_out:\n",
        "            self.identity = lambda x: x\n",
        "        else:\n",
        "            self.identity = tf.keras.layers.Conv2D(filter_out, (1, 1), padding='same')\n",
        "\n",
        "    def call(self, x, training=False):\n",
        "        h = self.bn1(x, training=training) # 훈련에서는 true, 추론에서는false\n",
        "        h = tf.nn.relu(h)\n",
        "        h = self.conv1(h)\n",
        "\n",
        "        h = self.bn2(h, training=training)\n",
        "        h = tf.nn.relu(h)\n",
        "        h = self.conv2(h)\n",
        "\n",
        "        return self.identity(x) + h\n"
      ],
      "execution_count": 3,
      "outputs": []
    },
    {
      "cell_type": "code",
      "metadata": {
        "id": "FEw2vu7gzQmu"
      },
      "source": [
        "class ResnetLayer(tf.keras.Model):\n",
        "    def __init__(self, filter_in, filters, kernel_size):\n",
        "        super(ResnetLayer, self).__init__()\n",
        "        \n",
        "        self.sequence = list()\n",
        "\n",
        "        for f_in, f_out in zip([filter_in] + list(filters), filters):\n",
        "            self.sequence.append(ResidualUnit(f_in, f_out, kernel_size))\n",
        "    \n",
        "    def call(self, x, training=False):\n",
        "        for unit in self.sequence:\n",
        "            x = unit(x, training=False)\n",
        "        return x"
      ],
      "execution_count": 4,
      "outputs": []
    },
    {
      "cell_type": "markdown",
      "metadata": {
        "id": "mj8MRMT-K2Be"
      },
      "source": [
        "# 모델 정의"
      ]
    },
    {
      "cell_type": "code",
      "metadata": {
        "id": "f5cC0y9_LUet"
      },
      "source": [
        "class ResNet(tf.keras.Model):\n",
        "    def __init__(self):\n",
        "        super(ResNet, self).__init__()\n",
        "\n",
        "        self.conv1 = tf.keras.layers.Conv2D(8, (3, 3), padding='same', activation='relu')\n",
        "\n",
        "        self.res1 = ResnetLayer(8, (16, 16), (3, 3))\n",
        "        self.pool1 = tf.keras.layers.MaxPool2D((2, 2))\n",
        "\n",
        "        self.res2 = ResnetLayer(16, (32, 32), (3, 3))\n",
        "        self.pool2 = tf.keras.layers.MaxPool2D((2, 2))\n",
        "\n",
        "        self.res3 = ResnetLayer(32, (64, 64), (3, 3))\n",
        "\n",
        "        self.flatten = tf.keras.layers.Flatten()\n",
        "        self.dense1 = tf.keras.layers.Dense(128, activation='relu')\n",
        "        self.dense2 = tf.keras.layers.Dense(10, activation='softmax')\n",
        "\n",
        "    def call(self, x, training=False):\n",
        "        x = self.conv1(x)\n",
        "\n",
        "        x = self.res1(x, training=training)\n",
        "        x = self.pool1(x)\n",
        "        x = self.res2(x, training=training)\n",
        "        x = self.pool2(x)\n",
        "        x = self.res3(x, training=training)\n",
        "\n",
        "        x = self.flatten(x)\n",
        "        x = self.dense1(x)\n",
        "        x = self.dense2(x)\n",
        "\n",
        "        return x"
      ],
      "execution_count": 12,
      "outputs": []
    },
    {
      "cell_type": "code",
      "metadata": {
        "colab": {
          "base_uri": "https://localhost:8080/"
        },
        "id": "9lBWctlZSCeE",
        "outputId": "95583e6e-4cd0-481a-947a-f5d91b82464b"
      },
      "source": [
        "mnist = tf.keras.datasets.mnist\n",
        "\n",
        "(X_train, y_train), (X_test, y_test) = mnist.load_data()\n",
        "X_train, X_test = X_train / 255., X_test / 255.\n",
        "X_train.shape, X_test.shape"
      ],
      "execution_count": 13,
      "outputs": [
        {
          "output_type": "execute_result",
          "data": {
            "text/plain": [
              "((60000, 28, 28), (10000, 28, 28))"
            ]
          },
          "metadata": {
            "tags": []
          },
          "execution_count": 13
        }
      ]
    },
    {
      "cell_type": "code",
      "metadata": {
        "colab": {
          "base_uri": "https://localhost:8080/"
        },
        "id": "fhf2OlwlSVvC",
        "outputId": "5dc136e2-1c25-4052-8015-49a18afab4ea"
      },
      "source": [
        "X_train = X_train[..., tf.newaxis]\n",
        "X_test = X_test[..., tf.newaxis]\n",
        "\n",
        "X_train.shape, X_test.shape"
      ],
      "execution_count": 14,
      "outputs": [
        {
          "output_type": "execute_result",
          "data": {
            "text/plain": [
              "((60000, 28, 28, 1), (10000, 28, 28, 1))"
            ]
          },
          "metadata": {
            "tags": []
          },
          "execution_count": 14
        }
      ]
    },
    {
      "cell_type": "code",
      "metadata": {
        "id": "WbbOg8l0SeNK"
      },
      "source": [
        "train_ds = tf.data.Dataset.from_tensor_slices((X_train, y_train)).shuffle(1024).batch(32)\n",
        "test_ds = tf.data.Dataset.from_tensor_slices((X_test, y_test)).batch(32)"
      ],
      "execution_count": 15,
      "outputs": []
    },
    {
      "cell_type": "code",
      "metadata": {
        "id": "Cu861zUjS5eM"
      },
      "source": [
        "@tf.function\n",
        "def train_step(model, images, labels, loss_object, optimizer, train_loss, train_accuracy):\n",
        "  \n",
        "    with tf.GradientTape() as tape:\n",
        "        predictions = model(images, training=True)\n",
        "        loss = loss_object(labels, predictions)\n",
        "\n",
        "    gradients = tape.gradient(loss, model.trainable_variables)\n",
        "    optimizer.apply_gradients(zip(gradients, model.trainable_variables))\n",
        "\n",
        "@tf.function\n",
        "def test_step(model, images, labels, losss_object, optimizer, test_loss, test_accuracy):\n",
        "  # inference 단계\n",
        "  # 추론 단계에서는 BN에 대한 학습이 있으면 안됨!\n",
        "    predictions = model(images, training=False)\n",
        "\n",
        "    t_loss = loss_object(labels, predictions)\n",
        "    test_loss(t_loss)\n",
        "    test_accuracy(labels, predictions)\n",
        "\n"
      ],
      "execution_count": 16,
      "outputs": []
    },
    {
      "cell_type": "code",
      "metadata": {
        "id": "7HV2H9ptYIxn"
      },
      "source": [
        "# 모델 생성\n",
        "model = ResNet()\n",
        "\n",
        "# Define loss and optimizer\n",
        "loss_object = tf.keras.losses.SparseCategoricalCrossentropy()\n",
        "optimizer   = tf.keras.optimizers.Adam()\n",
        "\n",
        "train_loss = tf.keras.metrics.Mean(name='train_loss')\n",
        "train_accuracy = tf.keras.metrics.SparseCategoricalAccuracy(name='train_accuracy')\n",
        "\n",
        "test_loss = tf.keras.metrics.Mean(name='test_loss')\n",
        "test_accuracy = tf.keras.metrics.SparseCategoricalAccuracy(name='test_accuracy')"
      ],
      "execution_count": 17,
      "outputs": []
    },
    {
      "cell_type": "code",
      "metadata": {
        "colab": {
          "base_uri": "https://localhost:8080/"
        },
        "id": "IcabGoUlYzel",
        "outputId": "cb525b68-246b-4fe9-92a7-96c36bb79abe"
      },
      "source": [
        "for epoch in range(10):\n",
        "\n",
        "  for images, labels in train_ds:\n",
        "    train_step(model, images, labels, loss_object, optimizer, train_loss, train_accuracy)\n",
        "\n",
        "  for test_image, test_labels in test_ds:\n",
        "    test_step(model, images, labels, loss_object, optimizer, test_loss, test_accuracy)\n",
        "\n",
        "  print(\"Epoch : {}, Train Loss : {:.6f}, Train Acc : {:.6f}, Test Loss : {:.6f}, Test Acc : {:.6f}\".format(\n",
        "      epoch+1,\n",
        "      train_loss.result(),\n",
        "      train_accuracy.result() * 100,\n",
        "\n",
        "      test_loss.result(),\n",
        "      test_accuracy.result() * 100\n",
        "  ))\n",
        "\n",
        "  # loss, accuracy 평가를 1에폭마다 초기화 하면서 보기\n",
        "  train_loss.reset_states()\n",
        "  train_accuracy.reset_states()\n",
        "  test_loss.reset_states()\n",
        "  test_accuracy.reset_states()"
      ],
      "execution_count": 18,
      "outputs": [
        {
          "output_type": "stream",
          "text": [
            "Epoch : 1, Train Loss : 0.000000, Train Acc : 0.000000, Test Loss : 0.010477, Test Acc : 100.000000\n",
            "Epoch : 2, Train Loss : 0.000000, Train Acc : 0.000000, Test Loss : 0.008617, Test Acc : 100.000000\n",
            "Epoch : 3, Train Loss : 0.000000, Train Acc : 0.000000, Test Loss : 0.008484, Test Acc : 100.000000\n",
            "Epoch : 4, Train Loss : 0.000000, Train Acc : 0.000000, Test Loss : 0.000797, Test Acc : 100.000000\n",
            "Epoch : 5, Train Loss : 0.000000, Train Acc : 0.000000, Test Loss : 0.000249, Test Acc : 100.000000\n",
            "Epoch : 6, Train Loss : 0.000000, Train Acc : 0.000000, Test Loss : 0.000784, Test Acc : 100.000000\n",
            "Epoch : 7, Train Loss : 0.000000, Train Acc : 0.000000, Test Loss : 0.000075, Test Acc : 100.000000\n",
            "Epoch : 8, Train Loss : 0.000000, Train Acc : 0.000000, Test Loss : 0.006090, Test Acc : 100.000000\n",
            "Epoch : 9, Train Loss : 0.000000, Train Acc : 0.000000, Test Loss : 0.003477, Test Acc : 100.000000\n",
            "Epoch : 10, Train Loss : 0.000000, Train Acc : 0.000000, Test Loss : 0.001989, Test Acc : 100.000000\n"
          ],
          "name": "stdout"
        }
      ]
    },
    {
      "cell_type": "code",
      "metadata": {
        "id": "deyiARNbZsKc"
      },
      "source": [
        ""
      ],
      "execution_count": null,
      "outputs": []
    }
  ]
}